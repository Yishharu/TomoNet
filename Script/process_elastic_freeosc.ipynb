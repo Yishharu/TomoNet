{
 "cells": [
  {
   "cell_type": "code",
   "execution_count": 7,
   "metadata": {},
   "outputs": [],
   "source": [
    "import numpy as np\n",
    "from netCDF4 import Dataset\n",
    "import h5py\n",
    "import time\n",
    "import pickle\n",
    "from tqdm import tqdm\n",
    "import matplotlib.pyplot as plt\n",
    "import multiprocessing as mp\n",
    "import time\n",
    "from obspy.core import Stream, Trace, UTCDateTime, Stats\n",
    "import xarray as xr\n",
    "import os"
   ]
  },
  {
   "cell_type": "code",
   "execution_count": 4,
   "metadata": {},
   "outputs": [],
   "source": []
  },
  {
   "cell_type": "code",
   "execution_count": 30,
   "metadata": {},
   "outputs": [
    {
     "name": "stdout",
     "output_type": "stream",
     "text": [
      "./29999\n"
     ]
    }
   ],
   "source": [
    "model_id = 29999\n",
    "run_path = f\"./{model_id:0>4d}\"\n",
    "print(run_path)"
   ]
  },
  {
   "cell_type": "code",
   "execution_count": 38,
   "metadata": {},
   "outputs": [
    {
     "data": {
      "text/plain": [
       "array([0.  , 0.02, 0.04, 0.06, 0.08, 0.1 , 0.12, 0.14, 0.16, 0.18, 0.2 ,\n",
       "       0.22, 0.24, 0.26, 0.28, 0.3 , 0.32, 0.34, 0.36, 0.38, 0.4 , 0.42,\n",
       "       0.44, 0.46, 0.48, 0.5 , 0.52, 0.54, 0.56, 0.58, 0.6 , 0.62, 0.64,\n",
       "       0.66, 0.68, 0.7 , 0.72, 0.74, 0.76, 0.78, 0.8 , 0.82, 0.84, 0.86,\n",
       "       0.88, 0.9 , 0.92, 0.94, 0.96, 0.98, 1.  , 1.02, 1.04, 1.06, 1.08,\n",
       "       1.1 , 1.12, 1.14, 1.16, 1.18, 1.2 , 1.22, 1.24, 1.26, 1.28, 1.3 ,\n",
       "       1.32, 1.34, 1.36, 1.38, 1.4 , 1.42, 1.44, 1.46, 1.48, 1.5 , 1.52,\n",
       "       1.54, 1.56, 1.58, 1.6 , 1.62, 1.64, 1.66, 1.68, 1.7 , 1.72, 1.74,\n",
       "       1.76, 1.78, 1.8 , 1.82, 1.84, 1.86, 1.88, 1.9 , 1.92, 1.94, 1.96,\n",
       "       1.98, 2.  , 2.02, 2.04, 2.06, 2.08, 2.1 , 2.12, 2.14, 2.16, 2.18,\n",
       "       2.2 , 2.22, 2.24, 2.26, 2.28, 2.3 , 2.32, 2.34, 2.36, 2.38, 2.4 ,\n",
       "       2.42, 2.44, 2.46, 2.48, 2.5 , 2.52, 2.54, 2.56, 2.58, 2.6 , 2.62,\n",
       "       2.64, 2.66, 2.68, 2.7 , 2.72, 2.74, 2.76, 2.78, 2.8 , 2.82, 2.84,\n",
       "       2.86, 2.88, 2.9 , 2.92, 2.94, 2.96, 2.98])"
      ]
     },
     "execution_count": 38,
     "metadata": {},
     "output_type": "execute_result"
    }
   ],
   "source": [
    "np.linspace(0,2.98,150)"
   ]
  },
  {
   "cell_type": "code",
   "execution_count": 36,
   "metadata": {},
   "outputs": [
    {
     "ename": "SyntaxError",
     "evalue": "'return' outside function (2242709987.py, line 83)",
     "output_type": "error",
     "traceback": [
      "\u001b[0;36m  Cell \u001b[0;32mIn[36], line 83\u001b[0;36m\u001b[0m\n\u001b[0;31m    return wave_disp #nlat nlon, ncomponent, npoint\u001b[0m\n\u001b[0m    ^\u001b[0m\n\u001b[0;31mSyntaxError\u001b[0m\u001b[0;31m:\u001b[0m 'return' outside function\n"
     ]
    }
   ],
   "source": [
    "# def read_seismogram(Run_dir):\n",
    "Run_dir = \"../Runs/LatinSphericalHarmonicsElasticBall0009\"\n",
    "BallRadius = 1000\n",
    "nlat, nlon = 37, 37\n",
    "StartTime, EndTime = 0.0, 3.0   # note in Second\n",
    "resample_rate = 0.02    # note in Second\n",
    "lowpass_freq = 20.    # note in Hz\n",
    "PointPerTrace = int((EndTime - StartTime)/resample_rate)\n",
    "\n",
    "# initial wave & location array\n",
    "wave_disp = np.ndarray((nlat, nlon, 3, PointPerTrace)) #nlat, nlon, ncomponent, PointPerTrace\n",
    "station_coords_cartesian = np.ndarray((nlat, nlon, 3))\n",
    "station_coords_spherical = np.ndarray((nlat, nlon, 3))\n",
    "\n",
    "StationInfo = np.loadtxt(f\"{Run_dir}/input/Synthetic_Stations_Ball.txt\",dtype=str, skiprows=3)\n",
    "stalatlon_dict = {}\n",
    "# make station coordinate dict\n",
    "for item in StationInfo:\n",
    "    stkey = item[1]+'.'+item[0]\n",
    "    x = float(item[2])\n",
    "    y = float(item[3])\n",
    "    depth = float(item[5])\n",
    "    if stkey not in stalatlon_dict.keys():\n",
    "        stalatlon_dict[stkey] = []\n",
    "    stalatlon_dict[stkey].append((x, y, depth))\n",
    "\n",
    "# read rank-station info\n",
    "rank_station_info = np.loadtxt(f\"{Run_dir}/output/stations/Synthetic_Stations/rank_station.info\", dtype=str, skiprows=1)\n",
    "# dict: mpi-rank -> [station keys]\n",
    "rank_station_dict = {}\n",
    "for item in rank_station_info:\n",
    "    rank = item[0]\n",
    "    stkey = item[1]\n",
    "    inrank_index = item[2]\n",
    "    # initialize with an empty array if rank does not exists in rank_station_dict\n",
    "    if rank not in rank_station_dict.keys():\n",
    "        rank_station_dict[rank] = []\n",
    "    # append the station\n",
    "    rank_station_dict[rank].append([stkey, inrank_index])\n",
    "\n",
    "# loop over mpi-ranks to read data\n",
    "for rank in rank_station_dict.keys():\n",
    "    f = Dataset(f\"{Run_dir}/output/stations/Synthetic_Stations/axisem3d_synthetics.nc.rank%s\" %rank, 'r')\n",
    "    time = np.array(f.variables['data_time'][:])\n",
    "\n",
    "    for [StationName, inrank_index] in rank_station_dict[rank]:\n",
    "        lat, lon = stalatlon_dict[StationName][0][0], stalatlon_dict[StationName][0][1]\n",
    "        ilat, ilon = int((lat+90)/5), int((lon+180)/10)\n",
    "        colat = 90 - lat\n",
    "        theta = np.radians(colat)\n",
    "        phi = np.radians(lon)\n",
    "        stadepth = stalatlon_dict[StationName][0][2]\n",
    "        stax = (BallRadius - stadepth)*np.sin(theta)*np.cos(phi)\n",
    "        stay = (BallRadius - stadepth)*np.sin(theta)*np.sin(phi)\n",
    "        staz = (BallRadius - stadepth)*np.cos(theta)\n",
    "        station_coords_cartesian[ilat, ilon,:] = [stax,stay,staz]\n",
    "        station_coords_spherical[ilat, ilon,:] = [BallRadius - stadepth,theta,phi]\n",
    "        # trace header\n",
    "        stats = Stats()\n",
    "        stats.starttime = UTCDateTime(time[0])\n",
    "        stats.delta = UTCDateTime(time[1] - time[0])\n",
    "        stats.npts = len(time)\n",
    "        # stream\n",
    "        stream = Stream()\n",
    "        for ich, ch in enumerate('RTZ'):\n",
    "            stats.channel = ch  \n",
    "            # default unit is km\n",
    "            stream.append(Trace(f.variables['data_wave'][int(inrank_index)][ich], header=stats))\n",
    "        stream.filter('lowpass', freq=lowpass_freq)\n",
    "        stream.resample(1/resample_rate)\n",
    "        # stream = stream.slice(UTCDateTime(int(arrivals[0].time)+StartTime), UTCDateTime(int(arrivals[0].time)+EndTime))\n",
    "        stream = stream.slice(UTCDateTime(StartTime), UTCDateTime(EndTime))\n",
    "\n",
    "        wave_disp[ilat, ilon, 0, :] = stream[0].data[0:PointPerTrace]\n",
    "        wave_disp[ilat, ilon, 1, :] = stream[1].data[0:PointPerTrace]\n",
    "        wave_disp[ilat, ilon, 2, :] = stream[2].data[0:PointPerTrace]\n",
    "        wave_time = np.array(stream[0].times())\n",
    "        # print(wave_time)\n",
    "\n",
    "    # wave_disp[ilat, ilon, :, :] = np.array(f.variables['data_wave'][int(inrank_index)][:])\n",
    "    f.close()\n",
    "\n",
    "return wave_disp #nlat nlon, ncomponent, npoint"
   ]
  },
  {
   "cell_type": "code",
   "execution_count": 33,
   "metadata": {},
   "outputs": [
    {
     "data": {
      "text/plain": [
       "149"
      ]
     },
     "execution_count": 33,
     "metadata": {},
     "output_type": "execute_result"
    }
   ],
   "source": [
    "PointPerTrace"
   ]
  },
  {
   "cell_type": "code",
   "execution_count": 34,
   "metadata": {},
   "outputs": [
    {
     "data": {
      "text/plain": [
       "array([0.  , 0.02, 0.04, 0.06, 0.08, 0.1 , 0.12, 0.14, 0.16, 0.18, 0.2 ,\n",
       "       0.22, 0.24, 0.26, 0.28, 0.3 , 0.32, 0.34, 0.36, 0.38, 0.4 , 0.42,\n",
       "       0.44, 0.46, 0.48, 0.5 , 0.52, 0.54, 0.56, 0.58, 0.6 , 0.62, 0.64,\n",
       "       0.66, 0.68, 0.7 , 0.72, 0.74, 0.76, 0.78, 0.8 , 0.82, 0.84, 0.86,\n",
       "       0.88, 0.9 , 0.92, 0.94, 0.96, 0.98, 1.  , 1.02, 1.04, 1.06, 1.08,\n",
       "       1.1 , 1.12, 1.14, 1.16, 1.18, 1.2 , 1.22, 1.24, 1.26, 1.28, 1.3 ,\n",
       "       1.32, 1.34, 1.36, 1.38, 1.4 , 1.42, 1.44, 1.46, 1.48, 1.5 , 1.52,\n",
       "       1.54, 1.56, 1.58, 1.6 , 1.62, 1.64, 1.66, 1.68, 1.7 , 1.72, 1.74,\n",
       "       1.76, 1.78, 1.8 , 1.82, 1.84, 1.86, 1.88, 1.9 , 1.92, 1.94, 1.96,\n",
       "       1.98, 2.  , 2.02, 2.04, 2.06, 2.08, 2.1 , 2.12, 2.14, 2.16, 2.18,\n",
       "       2.2 , 2.22, 2.24, 2.26, 2.28, 2.3 , 2.32, 2.34, 2.36, 2.38, 2.4 ,\n",
       "       2.42, 2.44, 2.46, 2.48, 2.5 , 2.52, 2.54, 2.56, 2.58, 2.6 , 2.62,\n",
       "       2.64, 2.66, 2.68, 2.7 , 2.72, 2.74, 2.76, 2.78, 2.8 , 2.82, 2.84,\n",
       "       2.86, 2.88, 2.9 , 2.92, 2.94, 2.96, 2.98])"
      ]
     },
     "execution_count": 34,
     "metadata": {},
     "output_type": "execute_result"
    }
   ],
   "source": [
    "wave_time"
   ]
  },
  {
   "cell_type": "code",
   "execution_count": 35,
   "metadata": {},
   "outputs": [
    {
     "data": {
      "text/plain": [
       "150"
      ]
     },
     "execution_count": 35,
     "metadata": {},
     "output_type": "execute_result"
    }
   ],
   "source": [
    "len(wave_time)"
   ]
  },
  {
   "cell_type": "code",
   "execution_count": null,
   "metadata": {},
   "outputs": [],
   "source": [
    "wave_disp = read_seismogram('/raid1/TomoNetData/Runs/LatinSphericalHarmonicsPREM0005')"
   ]
  },
  {
   "cell_type": "code",
   "execution_count": 2,
   "metadata": {},
   "outputs": [],
   "source": [
    "def read_element_output(data_dir, load_wave_data=True):\n",
    "    ################ open files ################\n",
    "    # filenames\n",
    "    nc_fnames = [f for f in os.listdir(data_dir) if 'axisem3d_synthetics.nc' in f]\n",
    "    # print('files to open: ', nc_fnames)\n",
    "\n",
    "    # open files\n",
    "    nc_files = []\n",
    "    for nc_fname in nc_fnames:\n",
    "        nc_files.append(xr.open_dataset(data_dir + '/' + nc_fname))\n",
    "    \n",
    "    ################ variables that are the same in the datasets ################\n",
    "    # read Na grid (all azimuthal dimensions)\n",
    "    na_grid = nc_files[0].data_vars['list_na_grid'].values.astype(int)\n",
    "\n",
    "    # read time\n",
    "    data_time = nc_files[0].data_vars['data_time'].values\n",
    "    \n",
    "    \n",
    "    ################ variables to be concatenated over the datasets ################\n",
    "    # define empty lists of xarray.DataArray objects\n",
    "    xda_list_element_na = []\n",
    "    xda_list_element_coords = []\n",
    "    dict_xda_list_element = {}\n",
    "    dict_xda_data_wave = {}\n",
    "    for nag in na_grid:\n",
    "        dict_xda_list_element[nag] = []\n",
    "        dict_xda_data_wave[nag] = []\n",
    "    \n",
    "    # loop over nc files\n",
    "    for nc_file in nc_files:\n",
    "        # append DataArrays\n",
    "        xda_list_element_na.append(nc_file.data_vars['list_element_na'])\n",
    "        xda_list_element_coords.append(nc_file.data_vars['list_element_coords'])\n",
    "        for nag in na_grid:\n",
    "            dict_xda_list_element[nag].append(nc_file.data_vars['list_element__NaG=%d' % nag])\n",
    "            dict_xda_data_wave[nag].append(nc_file.data_vars['data_wave__NaG=%d' % nag])\n",
    "            \n",
    "    # concat xarray.DataArray\n",
    "    xda_list_element_na = xr.concat(xda_list_element_na, dim='dim_element')\n",
    "    xda_list_element_coords = xr.concat(xda_list_element_coords, dim='dim_element')\n",
    "    for nag in na_grid:\n",
    "        dict_xda_list_element[nag] = xr.concat(dict_xda_list_element[nag], dim='dim_element__NaG=%d' % nag)\n",
    "        dict_xda_data_wave[nag] = xr.concat(dict_xda_data_wave[nag], dim='dim_element__NaG=%d' % nag)\n",
    "        \n",
    "    # read data to numpy.ndarray\n",
    "    list_element_na = xda_list_element_na.values.astype(int)\n",
    "    list_element_coords = xda_list_element_coords.values\n",
    "    dict_list_element = {}\n",
    "    dict_data_wave = {}\n",
    "    for nag in na_grid:\n",
    "        dict_list_element[nag] = dict_xda_list_element[nag].values.astype(int)\n",
    "        if load_wave_data:\n",
    "            dict_data_wave[nag] = dict_xda_data_wave[nag].values\n",
    "        \n",
    "    ############### return ################\n",
    "    if load_wave_data:\n",
    "        return na_grid, data_time, list_element_na, list_element_coords, dict_list_element, dict_data_wave\n",
    "    else:\n",
    "        return na_grid, data_time, list_element_na, list_element_coords, dict_list_element, dict_xda_data_wave\n",
    "    "
   ]
  },
  {
   "cell_type": "code",
   "execution_count": 21,
   "metadata": {},
   "outputs": [],
   "source": [
    "# sort mantle&crust element (12096, 2)\n",
    "na_grid, data_time, list_element_na, list_element_coords, \\\n",
    "dict_list_element, dict_data_wave = read_element_output(\"/raid1/TomoNetData/Runs/LatinSphericalHarmonicsElasticBall0000/output/elements/full_coeff\")\n",
    "nelem, ngll = list_element_coords.shape[0], list_element_coords.shape[1]\n",
    "coords_ref = list_element_coords.reshape((nelem * ngll), 2)\n",
    "dist = np.sum(coords_ref**2, axis=1)\n",
    "idx = np.argsort(dist)\n",
    "coords_ref = coords_ref[idx]"
   ]
  },
  {
   "cell_type": "code",
   "execution_count": 22,
   "metadata": {},
   "outputs": [
    {
     "data": {
      "text/plain": [
       "(3648, 2)"
      ]
     },
     "execution_count": 22,
     "metadata": {},
     "output_type": "execute_result"
    }
   ],
   "source": [
    "coords_ref.shape"
   ]
  },
  {
   "cell_type": "code",
   "execution_count": 41,
   "metadata": {},
   "outputs": [
    {
     "data": {
      "text/plain": [
       "(16470, 2)"
      ]
     },
     "execution_count": 41,
     "metadata": {},
     "output_type": "execute_result"
    }
   ],
   "source": [
    "np.concatenate((coords_mantlecrust_ref, coords_outercore_ref, coords_innercore_ref), axis=0).shape"
   ]
  },
  {
   "cell_type": "code",
   "execution_count": 27,
   "metadata": {},
   "outputs": [
    {
     "data": {
      "text/plain": [
       "array([[[[ 0.00000000e+00, -1.69460818e-28,  1.51761568e-12, ...,\n",
       "           3.72004337e-12, -1.55161609e-13,  1.75627243e-12],\n",
       "         [ 0.00000000e+00, -9.68730302e-32,  8.59830768e-16, ...,\n",
       "          -2.06055401e-14,  2.38414079e-13, -2.21111202e-13],\n",
       "         [ 0.00000000e+00,  1.51318835e-28, -1.33575399e-12, ...,\n",
       "          -2.97497313e-12,  1.41615804e-13, -1.23264994e-12]],\n",
       "\n",
       "        [[ 0.00000000e+00,  2.52413357e-30,  1.38814775e-14, ...,\n",
       "          -2.01017805e-12, -1.11784432e-12, -5.20528932e-13],\n",
       "         [ 0.00000000e+00, -9.21669122e-30, -1.22036975e-14, ...,\n",
       "           8.81548578e-13, -4.87369097e-13, -1.60771217e-13],\n",
       "         [ 0.00000000e+00, -2.15196777e-29,  7.07643105e-14, ...,\n",
       "          -1.95424796e-12, -9.11838530e-13, -3.89307266e-13]],\n",
       "\n",
       "        [[ 0.00000000e+00,  5.20042688e-30,  1.01653472e-15, ...,\n",
       "          -4.75977656e-13,  1.76094748e-13, -1.15328740e-13],\n",
       "         [ 0.00000000e+00, -1.67695490e-29,  6.23529684e-14, ...,\n",
       "          -2.81194686e-12, -1.43783065e-12, -6.96007759e-13],\n",
       "         [ 0.00000000e+00,  1.63711042e-30,  1.38278247e-14, ...,\n",
       "          -7.32672603e-13,  4.84234018e-13,  3.30831147e-13]],\n",
       "\n",
       "        ...,\n",
       "\n",
       "        [[ 0.00000000e+00,  0.00000000e+00,  0.00000000e+00, ...,\n",
       "           0.00000000e+00,  0.00000000e+00,  0.00000000e+00],\n",
       "         [ 0.00000000e+00,  0.00000000e+00,  0.00000000e+00, ...,\n",
       "           0.00000000e+00,  0.00000000e+00,  0.00000000e+00],\n",
       "         [ 0.00000000e+00,  0.00000000e+00,  0.00000000e+00, ...,\n",
       "           0.00000000e+00,  0.00000000e+00,  0.00000000e+00]],\n",
       "\n",
       "        [[ 0.00000000e+00,  0.00000000e+00,  0.00000000e+00, ...,\n",
       "           0.00000000e+00,  0.00000000e+00,  0.00000000e+00],\n",
       "         [ 0.00000000e+00,  0.00000000e+00,  0.00000000e+00, ...,\n",
       "           0.00000000e+00,  0.00000000e+00,  0.00000000e+00],\n",
       "         [ 0.00000000e+00,  0.00000000e+00,  0.00000000e+00, ...,\n",
       "           0.00000000e+00,  0.00000000e+00,  0.00000000e+00]],\n",
       "\n",
       "        [[ 0.00000000e+00,  0.00000000e+00,  0.00000000e+00, ...,\n",
       "           0.00000000e+00,  0.00000000e+00,  0.00000000e+00],\n",
       "         [ 0.00000000e+00,  0.00000000e+00,  0.00000000e+00, ...,\n",
       "           0.00000000e+00,  0.00000000e+00,  0.00000000e+00],\n",
       "         [ 0.00000000e+00,  0.00000000e+00,  0.00000000e+00, ...,\n",
       "           0.00000000e+00,  0.00000000e+00,  0.00000000e+00]]],\n",
       "\n",
       "\n",
       "       [[[-0.00000000e+00,  6.33662790e-29,  5.32734718e-13, ...,\n",
       "           1.94716140e-12,  8.48348559e-14,  1.09715795e-12],\n",
       "         [ 0.00000000e+00,  3.11309328e-33,  9.61133778e-17, ...,\n",
       "           8.83864311e-14,  3.41361515e-13, -3.88172974e-14],\n",
       "         [ 0.00000000e+00,  5.78705657e-29,  4.73279564e-13, ...,\n",
       "           2.10318069e-12, -5.70474454e-14,  1.33601810e-12]],\n",
       "\n",
       "        [[-0.00000000e+00, -7.29430168e-30, -2.50451515e-14, ...,\n",
       "           2.03298316e-12,  4.89011446e-13, -1.25156125e-12],\n",
       "         [ 0.00000000e+00, -1.67167484e-30, -3.69738182e-15, ...,\n",
       "           1.48660717e-12, -9.50609708e-13, -7.17899427e-13],\n",
       "         [ 0.00000000e+00, -6.80861073e-30,  6.15609739e-15, ...,\n",
       "          -2.91822881e-12, -7.40954715e-13,  1.35419844e-12]],\n",
       "\n",
       "        [[-0.00000000e+00,  1.03074778e-29, -4.40907754e-15, ...,\n",
       "           9.32389907e-13, -6.87393122e-13, -6.59560568e-13],\n",
       "         [ 0.00000000e+00,  7.62465556e-31,  2.13664332e-14, ...,\n",
       "          -3.54993877e-12, -8.74989588e-13,  1.82178968e-12],\n",
       "         [ 0.00000000e+00,  8.47928951e-30,  7.61593369e-16, ...,\n",
       "          -1.11271452e-12,  6.47378960e-13,  3.44644398e-13]],\n",
       "\n",
       "        ...,\n",
       "\n",
       "        [[-0.00000000e+00, -0.00000000e+00, -0.00000000e+00, ...,\n",
       "          -0.00000000e+00, -0.00000000e+00, -0.00000000e+00],\n",
       "         [ 0.00000000e+00,  0.00000000e+00,  0.00000000e+00, ...,\n",
       "           0.00000000e+00,  0.00000000e+00,  0.00000000e+00],\n",
       "         [ 0.00000000e+00,  0.00000000e+00,  0.00000000e+00, ...,\n",
       "           0.00000000e+00,  0.00000000e+00,  0.00000000e+00]],\n",
       "\n",
       "        [[-0.00000000e+00, -0.00000000e+00, -0.00000000e+00, ...,\n",
       "          -0.00000000e+00, -0.00000000e+00, -0.00000000e+00],\n",
       "         [ 0.00000000e+00,  0.00000000e+00,  0.00000000e+00, ...,\n",
       "           0.00000000e+00,  0.00000000e+00,  0.00000000e+00],\n",
       "         [ 0.00000000e+00,  0.00000000e+00,  0.00000000e+00, ...,\n",
       "           0.00000000e+00,  0.00000000e+00,  0.00000000e+00]],\n",
       "\n",
       "        [[-0.00000000e+00, -0.00000000e+00, -0.00000000e+00, ...,\n",
       "          -0.00000000e+00, -0.00000000e+00, -0.00000000e+00],\n",
       "         [ 0.00000000e+00,  0.00000000e+00,  0.00000000e+00, ...,\n",
       "           0.00000000e+00,  0.00000000e+00,  0.00000000e+00],\n",
       "         [ 0.00000000e+00,  0.00000000e+00,  0.00000000e+00, ...,\n",
       "           0.00000000e+00,  0.00000000e+00,  0.00000000e+00]]],\n",
       "\n",
       "\n",
       "       [[[ 0.00000000e+00, -2.47496996e-28,  1.92259771e-12, ...,\n",
       "           4.45882567e-12, -1.23752381e-13,  2.21941692e-12],\n",
       "         [ 0.00000000e+00,  1.36503591e-32,  1.44488405e-15, ...,\n",
       "          -8.35867698e-14,  6.11222824e-13, -6.04519581e-13],\n",
       "         [ 0.00000000e+00,  6.58356281e-29, -6.19857301e-13, ...,\n",
       "          -8.62693163e-13,  8.79571684e-14, -1.35153214e-13]],\n",
       "\n",
       "        [[ 0.00000000e+00,  2.93702962e-29, -7.00418795e-14, ...,\n",
       "          -1.31637106e-12, -1.06114770e-12, -6.18069831e-13],\n",
       "         [ 0.00000000e+00, -1.20038549e-30, -1.11800506e-14, ...,\n",
       "           7.66620816e-13, -4.31429767e-13, -1.10174253e-15],\n",
       "         [ 0.00000000e+00, -1.48203153e-29,  8.63286222e-14, ...,\n",
       "          -2.23624179e-12, -1.32091679e-12, -7.72001332e-13]],\n",
       "\n",
       "        [[ 0.00000000e+00,  2.45392740e-29, -1.48783878e-14, ...,\n",
       "           6.78533293e-14, -3.24933494e-13, -6.68746905e-13],\n",
       "         [ 0.00000000e+00, -1.26967428e-29,  6.19432416e-14, ...,\n",
       "          -2.65869813e-12, -1.67666781e-12, -1.29767356e-12],\n",
       "         [ 0.00000000e+00, -1.44150154e-29,  1.32997200e-14, ...,\n",
       "          -7.13034937e-13,  5.24048198e-13,  2.88307870e-13]],\n",
       "\n",
       "        ...,\n",
       "\n",
       "        [[ 0.00000000e+00,  5.98332361e-31,  5.14108335e-17, ...,\n",
       "          -6.89233409e-16,  1.08001042e-16,  1.10090354e-15],\n",
       "         [ 0.00000000e+00,  7.23619558e-31, -4.48853347e-16, ...,\n",
       "          -1.78064576e-16,  2.31662320e-16, -6.54776188e-17],\n",
       "         [ 0.00000000e+00, -9.39750840e-31,  7.28069817e-17, ...,\n",
       "           5.85587917e-16, -1.31602146e-16, -1.21410929e-15]],\n",
       "\n",
       "        [[ 0.00000000e+00,  1.57313146e-30,  3.20023804e-17, ...,\n",
       "           7.77276925e-16, -3.95930808e-16, -7.80589936e-16],\n",
       "         [ 0.00000000e+00,  6.71014023e-32,  7.13565767e-17, ...,\n",
       "           2.92341060e-16,  9.66729870e-18, -4.08401991e-16],\n",
       "         [ 0.00000000e+00, -8.24813917e-31,  1.96853766e-16, ...,\n",
       "          -1.88625264e-16,  4.84527330e-17,  6.25287504e-16]],\n",
       "\n",
       "        [[ 0.00000000e+00, -1.00895460e-29, -2.00209303e-15, ...,\n",
       "          -1.40022169e-14,  1.83252664e-13, -5.58782458e-13],\n",
       "         [ 0.00000000e+00, -5.93879494e-32, -8.70117697e-19, ...,\n",
       "           1.34730673e-13, -1.86420418e-13,  2.98352543e-13],\n",
       "         [ 0.00000000e+00,  6.11325335e-30,  1.13462541e-15, ...,\n",
       "          -4.33682817e-15, -4.06531701e-14, -5.82202201e-14]]],\n",
       "\n",
       "\n",
       "       ...,\n",
       "\n",
       "\n",
       "       [[[ 1.26844751e-14,  2.58520306e-11, -8.94885186e-13, ...,\n",
       "           4.04502651e-14, -5.96780519e-14, -1.46864007e-13],\n",
       "         [-1.66105146e-17,  1.60184702e-12, -1.19922206e-13, ...,\n",
       "          -5.92433478e-16, -8.37088306e-14,  7.45095852e-14],\n",
       "         [ 1.54392371e-14, -1.57376664e-11, -2.34101172e-12, ...,\n",
       "           1.19696375e-12,  7.96730642e-14,  2.95355168e-12]],\n",
       "\n",
       "        [[ 6.42170152e-15, -2.89651272e-11,  9.57585573e-13, ...,\n",
       "           1.81253409e-13,  1.37818129e-13,  2.13704691e-13],\n",
       "         [-8.52817057e-17,  8.51636556e-12, -2.52239473e-13, ...,\n",
       "           1.71182445e-14, -1.08455894e-13, -3.15476974e-13],\n",
       "         [ 8.42535372e-15, -1.84441958e-11, -7.63817286e-13, ...,\n",
       "          -1.42578996e-13, -7.42371998e-14, -5.06385190e-13]],\n",
       "\n",
       "        [[-7.39351131e-16, -1.06058018e-11,  2.76953184e-13, ...,\n",
       "           2.12581654e-14,  1.19857859e-13,  6.41039481e-14],\n",
       "         [-3.92577378e-16, -2.40575442e-11,  6.46942623e-13, ...,\n",
       "           2.46692938e-13,  1.70106971e-13,  1.08103786e-13],\n",
       "         [-1.35159798e-15, -6.96579947e-12, -6.78465097e-13, ...,\n",
       "          -3.51129580e-13,  2.95971391e-13, -3.32171932e-14]],\n",
       "\n",
       "        ...,\n",
       "\n",
       "        [[ 8.39565419e-19,  3.17778746e-15,  1.69859752e-17, ...,\n",
       "          -7.96528078e-16, -7.22221203e-15,  5.66576368e-16],\n",
       "         [ 1.02986494e-19, -8.62983340e-15, -2.34006269e-17, ...,\n",
       "          -2.24889958e-15,  7.41743279e-15, -5.37204685e-15],\n",
       "         [ 2.14836321e-18, -3.40688002e-15,  2.65440753e-17, ...,\n",
       "          -2.16374077e-16,  6.32749176e-16,  4.58556956e-15]],\n",
       "\n",
       "        [[ 3.09325689e-19,  4.42085003e-15,  6.11323067e-17, ...,\n",
       "           1.13720049e-15,  5.91551558e-16, -1.08013557e-15],\n",
       "         [-6.58453552e-19,  3.20780716e-15, -1.13874580e-17, ...,\n",
       "          -2.69221926e-15, -5.04409687e-15,  4.46967957e-16],\n",
       "         [ 6.07175644e-19, -1.45055356e-15,  8.96907902e-17, ...,\n",
       "           2.06471015e-15, -5.19389126e-15,  1.53199597e-14]],\n",
       "\n",
       "        [[ 1.88113693e-19,  4.85205718e-17,  1.33109565e-15, ...,\n",
       "          -1.61050542e-14, -1.66098735e-15,  1.12633935e-14],\n",
       "         [-7.76925771e-20,  2.34277391e-15,  1.44795557e-16, ...,\n",
       "           6.53272424e-15, -1.46630534e-14,  1.24211114e-14],\n",
       "         [ 4.69455138e-19,  3.65671800e-16, -1.16754598e-15, ...,\n",
       "          -1.31870409e-14, -5.27974101e-14, -1.67079905e-13]]],\n",
       "\n",
       "\n",
       "       [[[-0.00000000e+00, -0.00000000e+00, -0.00000000e+00, ...,\n",
       "          -5.03787875e-13, -1.04308456e-12, -1.38419710e-11],\n",
       "         [ 0.00000000e+00,  0.00000000e+00,  0.00000000e+00, ...,\n",
       "          -9.44430420e-14,  1.31885659e-13,  1.15475256e-13],\n",
       "         [ 0.00000000e+00,  0.00000000e+00,  0.00000000e+00, ...,\n",
       "           6.42167092e-12, -4.42722118e-12,  6.58172431e-12]],\n",
       "\n",
       "        [[-0.00000000e+00, -0.00000000e+00, -0.00000000e+00, ...,\n",
       "          -1.69223229e-12,  2.92005331e-12, -2.53626243e-12],\n",
       "         [ 0.00000000e+00,  0.00000000e+00,  0.00000000e+00, ...,\n",
       "          -2.90695988e-13, -1.42994977e-13,  2.88464836e-13],\n",
       "         [ 0.00000000e+00,  0.00000000e+00,  0.00000000e+00, ...,\n",
       "          -1.77964663e-12,  1.90811711e-12, -1.81384692e-12]],\n",
       "\n",
       "        [[-0.00000000e+00, -0.00000000e+00, -0.00000000e+00, ...,\n",
       "          -4.82606305e-13,  2.30882522e-12,  1.77116774e-12],\n",
       "         [ 0.00000000e+00,  0.00000000e+00,  0.00000000e+00, ...,\n",
       "           4.02073719e-13,  1.72844649e-13, -6.90773502e-13],\n",
       "         [ 0.00000000e+00,  0.00000000e+00,  0.00000000e+00, ...,\n",
       "          -4.11706910e-13,  3.39077616e-13, -3.82683279e-13]],\n",
       "\n",
       "        ...,\n",
       "\n",
       "        [[-0.00000000e+00, -0.00000000e+00, -0.00000000e+00, ...,\n",
       "          -1.94706786e-15,  4.08578201e-14, -1.13448996e-12],\n",
       "         [ 0.00000000e+00,  0.00000000e+00,  0.00000000e+00, ...,\n",
       "          -4.09145950e-14, -1.51417643e-13,  2.52754415e-13],\n",
       "         [ 0.00000000e+00,  0.00000000e+00,  0.00000000e+00, ...,\n",
       "          -1.50955840e-13,  4.00070114e-13,  9.25533413e-13]],\n",
       "\n",
       "        [[-0.00000000e+00, -0.00000000e+00, -0.00000000e+00, ...,\n",
       "          -1.99213733e-13,  1.48173398e-13,  1.80816055e-13],\n",
       "         [ 0.00000000e+00,  0.00000000e+00,  0.00000000e+00, ...,\n",
       "          -4.42204650e-13,  6.90221426e-13, -2.33371699e-13],\n",
       "         [ 0.00000000e+00,  0.00000000e+00,  0.00000000e+00, ...,\n",
       "           2.88270791e-13, -1.05383740e-13, -2.98310747e-13]],\n",
       "\n",
       "        [[-0.00000000e+00, -0.00000000e+00, -0.00000000e+00, ...,\n",
       "           1.40681683e-13, -5.92927725e-13,  1.98139587e-13],\n",
       "         [ 0.00000000e+00,  0.00000000e+00,  0.00000000e+00, ...,\n",
       "          -2.26128168e-14, -5.28605243e-14,  5.64274342e-14],\n",
       "         [ 0.00000000e+00,  0.00000000e+00,  0.00000000e+00, ...,\n",
       "          -2.30936689e-13, -3.10460614e-13,  2.46481194e-13]]],\n",
       "\n",
       "\n",
       "       [[[ 0.00000000e+00,  0.00000000e+00,  0.00000000e+00, ...,\n",
       "          -2.12497175e-13,  4.63241208e-13,  9.32837141e-13],\n",
       "         [ 0.00000000e+00,  0.00000000e+00,  0.00000000e+00, ...,\n",
       "           1.62078789e-14,  2.21783380e-14, -5.73660721e-14],\n",
       "         [ 0.00000000e+00,  0.00000000e+00,  0.00000000e+00, ...,\n",
       "           5.42121361e-13, -2.68306455e-13, -1.18625183e-12]],\n",
       "\n",
       "        [[ 0.00000000e+00,  0.00000000e+00,  0.00000000e+00, ...,\n",
       "          -5.88460419e-14,  6.95352142e-13,  2.05099975e-13],\n",
       "         [ 0.00000000e+00,  0.00000000e+00,  0.00000000e+00, ...,\n",
       "           2.02970118e-14,  5.59912495e-15, -1.25047054e-13],\n",
       "         [ 0.00000000e+00,  0.00000000e+00,  0.00000000e+00, ...,\n",
       "           3.70197173e-14, -8.94508534e-13,  7.97473199e-13]],\n",
       "\n",
       "        [[ 0.00000000e+00,  0.00000000e+00,  0.00000000e+00, ...,\n",
       "           5.80961332e-14,  1.19934268e-13, -7.23113653e-14],\n",
       "         [ 0.00000000e+00,  0.00000000e+00,  0.00000000e+00, ...,\n",
       "          -1.74394478e-14,  1.61933916e-13,  3.04366883e-13],\n",
       "         [ 0.00000000e+00,  0.00000000e+00,  0.00000000e+00, ...,\n",
       "          -2.45885425e-13, -3.33910850e-13,  7.74698719e-13]],\n",
       "\n",
       "        ...,\n",
       "\n",
       "        [[ 0.00000000e+00,  0.00000000e+00,  0.00000000e+00, ...,\n",
       "           4.38604672e-14, -1.49548085e-13,  8.57074286e-14],\n",
       "         [ 0.00000000e+00,  0.00000000e+00,  0.00000000e+00, ...,\n",
       "          -7.81274256e-14,  1.38234571e-13,  2.57051816e-14],\n",
       "         [ 0.00000000e+00,  0.00000000e+00,  0.00000000e+00, ...,\n",
       "          -2.52664073e-13, -2.61517208e-13,  8.31666143e-14]],\n",
       "\n",
       "        [[ 0.00000000e+00,  0.00000000e+00,  0.00000000e+00, ...,\n",
       "           6.03168299e-14, -2.29914303e-14,  2.30713371e-13],\n",
       "         [ 0.00000000e+00,  0.00000000e+00,  0.00000000e+00, ...,\n",
       "          -7.33784507e-14, -7.55781275e-14, -9.17213557e-14],\n",
       "         [ 0.00000000e+00,  0.00000000e+00,  0.00000000e+00, ...,\n",
       "          -5.75770104e-14,  9.63145647e-14, -2.56394542e-13]],\n",
       "\n",
       "        [[ 0.00000000e+00,  0.00000000e+00,  0.00000000e+00, ...,\n",
       "           1.68719476e-14, -2.25430196e-14,  1.81262828e-13],\n",
       "         [ 0.00000000e+00,  0.00000000e+00,  0.00000000e+00, ...,\n",
       "           2.43774303e-14,  1.08237851e-14,  3.15671866e-14],\n",
       "         [ 0.00000000e+00,  0.00000000e+00,  0.00000000e+00, ...,\n",
       "           3.12195169e-14,  3.79559394e-13, -3.26064046e-13]]]])"
      ]
     },
     "execution_count": 27,
     "metadata": {},
     "output_type": "execute_result"
    }
   ],
   "source": [
    "# def read_fourier_coef(Run_dir):\n",
    "    Run_dir = \"/raid1/TomoNetData/Runs/LatinSphericalHarmonicsElasticBall0003\"\n",
    "    nelement = 3648\n",
    "\n",
    "    fourier_dim = 16\n",
    "\n",
    "    whole_disp_coef = np.ndarray((nelement, 16, 3, 15))\n",
    "\n",
    "    # mantle&crust\n",
    "    na_grid, data_time, list_element_na, list_element_coords, \\\n",
    "    dict_list_element, dict_data_wave = read_element_output(f\"{Run_dir}/output/elements/full_coeff\")\n",
    "\n",
    "    disp_coef = np.squeeze(dict_data_wave[fourier_dim],axis=(2,))\n",
    "    nelem, ngll = list_element_coords.shape[0], list_element_coords.shape[1]\n",
    "    coords = list_element_coords.reshape((nelem * ngll), 2)\n",
    "    mapping = {tuple(point): index for index, point in enumerate(coords)}\n",
    "    indices = [mapping[tuple(point)] for point in coords_ref]\n",
    "    coords = coords[indices]\n",
    "    assert (coords == coords_ref).all()\n",
    "    whole_disp_coef[0:nelement,:,:,:] = disp_coef[indices,:,:,:]\n",
    "# print('mantle&crust OK')\n",
    "\n",
    "\n",
    "whole_disp_coef # nelement, nfourier, ncomponent, ntime (12096, 16, 3, 30)"
   ]
  },
  {
   "cell_type": "code",
   "execution_count": 31,
   "metadata": {},
   "outputs": [],
   "source": [
    "# sort mantle&crust element (12096, 2)\n",
    "na_grid, data_time, list_element_na, list_element_coords, \\\n",
    "dict_list_element, dict_data_wave = read_element_output(\"/raid1/TomoNetData/Runs/LatinSphericalHarmonicsPREM0000/output/elements/azimuthal_slices_mantlecrust\")\n",
    "nelem, ngll = list_element_coords.shape[0], list_element_coords.shape[1]\n",
    "coords_mantlecrust_ref = list_element_coords.reshape((nelem * ngll), 2)\n",
    "dist = np.sum(coords_mantlecrust_ref**2, axis=1)\n",
    "idx = np.argsort(dist)\n",
    "coords_mantlecrust_ref = coords_mantlecrust_ref[idx]\n",
    "# sort outer core element (2052, 2)\n",
    "na_grid, data_time, list_element_na, list_element_coords, \\\n",
    "dict_list_element, dict_data_wave = read_element_output(\"/raid1/TomoNetData/Runs/LatinSphericalHarmonicsPREM0000/output/elements/azimuthal_slices_outercore\")\n",
    "nelem, ngll = list_element_coords.shape[0], list_element_coords.shape[1]\n",
    "coords_outercore_ref = list_element_coords.reshape((nelem * ngll), 2)\n",
    "dist = np.sum(coords_outercore_ref**2, axis=1)\n",
    "idx = np.argsort(dist)\n",
    "coords_outercore_ref = coords_outercore_ref[idx]\n",
    "# sort inner core element (2322, 2)\n",
    "na_grid, data_time, list_element_na, list_element_coords, \\\n",
    "dict_list_element, dict_data_wave = read_element_output(\"/raid1/TomoNetData/Runs/LatinSphericalHarmonicsPREM0000/output/elements/azimuthal_slices_innercore\")\n",
    "nelem, ngll = list_element_coords.shape[0], list_element_coords.shape[1]\n",
    "coords_innercore_ref = list_element_coords.reshape((nelem * ngll), 2)\n",
    "dist = np.sum(coords_innercore_ref**2, axis=1)\n",
    "idx = np.argsort(dist)\n",
    "coords_innercore_ref = coords_innercore_ref[idx]"
   ]
  },
  {
   "cell_type": "code",
   "execution_count": 3,
   "metadata": {},
   "outputs": [],
   "source": [
    "def read_slice_data(Run_dir):\n",
    "    nelement = 3648\n",
    "    nslice = 16\n",
    "    whole_wave_disp = np.ndarray((nelement, nslice, 3, 15))\n",
    "\n",
    "    # read\n",
    "    na_grid, data_time, list_element_na, list_element_coords, \\\n",
    "    dict_list_element, dict_data_wave = read_element_output(f\"{Run_dir}/output/elements/azimuthal_slices\")\n",
    "\n",
    "    wave_disp = np.squeeze(dict_data_wave[nslice],axis=(2,))\n",
    "    nelem, ngll = list_element_coords.shape[0], list_element_coords.shape[1]\n",
    "    coords = list_element_coords.reshape((nelem * ngll), 2)\n",
    "    mapping = {tuple(point): index for index, point in enumerate(coords)}\n",
    "    indices = [mapping[tuple(point)] for point in coords_ref]\n",
    "    coords = coords[indices]\n",
    "    assert (coords == coords_ref).all()\n",
    "    whole_wave_disp[:,:,:,:] = wave_disp[indices,:,:,:]\n",
    "    # print('mantle&crust OK')\n",
    "\n",
    "    return data_time, whole_wave_disp # nelement, nslice, ncomponent, ntime (16470, 16, 3, 30)\n"
   ]
  },
  {
   "cell_type": "code",
   "execution_count": 37,
   "metadata": {},
   "outputs": [
    {
     "name": "stdout",
     "output_type": "stream",
     "text": [
      "(3648, 2)\n",
      "Processing model 0\n",
      "Finished processing all models.\n"
     ]
    }
   ],
   "source": [
    "# def save_wfslice_hdf5(StartNum,EndNum):\n",
    "StartNum, EndNum= 0,1\n",
    "'''\n",
    "Transforming wavefield nc files and harmonics pkl files to a single HDF5 file\n",
    "'''\n",
    "global coords_ref\n",
    "path = '../Runs'\n",
    "model_name = \"LatinSphericalHarmonicsElasticBall\"\n",
    "hdf5_file_path = f\"../DataSet/wf_slice_data_{StartNum:0>4d}_{EndNum:0>4d}.h5\"\n",
    "num_models = EndNum-StartNum  # Total number osf models\n",
    "timestep_dims = (num_models, 15)\n",
    "\n",
    "element_coords_sz_dims = (3648, 2)\n",
    "disp_dims = (num_models, 3648, 16, 3, 15) # model_id, element_id, slice_id, component_id, time_id\n",
    "harmonics_dims = (num_models, 1215)\n",
    "slice_dims = (16)\n",
    "\n",
    "with h5py.File(hdf5_file_path, \"w\") as data_hdf5:\n",
    "    # Preallocate datasets for each variable\n",
    "    dtype = 'float32'\n",
    "    element_coords_sz_data = data_hdf5.create_dataset(\"element_coords_sz\", element_coords_sz_dims, dtype='float64')\n",
    "    disp_data = data_hdf5.create_dataset(\"disp\", disp_dims, dtype=dtype)\n",
    "    harmonics_data = data_hdf5.create_dataset(\"harmonics\", harmonics_dims, dtype=dtype)\n",
    "    slice_data = data_hdf5.create_dataset(\"slice\", slice_dims, dtype=dtype)\n",
    "    timestep_data = data_hdf5.create_dataset(\"timestep\", timestep_dims, dtype=dtype)\n",
    "\n",
    "    slice_data = np.radians(np.linspace(0, 360, 17)[0:-1])\n",
    "\n",
    "    # sort mantle&crust element (12096, 2)\n",
    "    na_grid, data_time, list_element_na, list_element_coords, \\\n",
    "    dict_list_element, dict_data_wave = read_element_output(f\"{path}/LatinSphericalHarmonicsElasticBall0000/output/elements/azimuthal_slices\")\n",
    "    nelem, ngll = list_element_coords.shape[0], list_element_coords.shape[1]\n",
    "    coords_ref = list_element_coords.reshape((nelem * ngll), 2)\n",
    "    dist = np.sum(coords_ref**2, axis=1)\n",
    "    idx = np.argsort(dist)\n",
    "    coords_ref = coords_ref[idx]\n",
    "    element_coords_sz_data[:,:] = coords_ref[:,:]\n",
    "    \n",
    "    print(element_coords_sz_data.shape)\n",
    "\n",
    "    for index, model_id in enumerate(range(StartNum, EndNum)):\n",
    "        print(f\"Processing model {model_id}\")\n",
    "\n",
    "        run_path = f\"{path}/{model_name}{model_id:0>4d}\"\n",
    "        harmonics_path = f\"{path}/{model_name}{model_id:0>4d}/Spherical_Harmonics.pkl\"\n",
    "        try:\n",
    "            timestep, whole_wave_disp = read_slice_data(run_path)\n",
    "            harmonics_pkl = pickle.load(open(harmonics_path, \"rb\"))\n",
    "        except FileNotFoundError as e:\n",
    "            print(f\"File not found: {e.filename}\")\n",
    "            continue\n",
    "        timestep_data[index, :] = timestep\n",
    "        disp_data[index, :, :, :, :] = whole_wave_disp\n",
    "        harmonics_data[index, :] = np.array(harmonics_pkl['Value'])\n",
    "    print(\"Finished processing all models.\")"
   ]
  },
  {
   "cell_type": "code",
   "execution_count": 9,
   "metadata": {},
   "outputs": [
    {
     "name": "stdout",
     "output_type": "stream",
     "text": [
      "Processing model 0\n",
      "Finished processing all models.\n"
     ]
    }
   ],
   "source": [
    "save_wfslice_hdf5(0,1)"
   ]
  },
  {
   "cell_type": "code",
   "execution_count": 47,
   "metadata": {},
   "outputs": [
    {
     "data": {
      "text/plain": [
       "array([ 224.865 ,  524.8165,  824.768 , 1124.7195, 1424.671 , 1724.6225,\n",
       "       2024.574 , 2324.5255, 2624.477 , 2924.4285, 3224.38  , 3524.3315,\n",
       "       3824.283 , 4124.2345, 4424.186 , 4724.1375, 5024.089 , 5324.0405,\n",
       "       5623.992 , 5923.9435])"
      ]
     },
     "execution_count": 47,
     "metadata": {},
     "output_type": "execute_result"
    }
   ],
   "source": [
    "data_time"
   ]
  },
  {
   "cell_type": "code",
   "execution_count": 38,
   "metadata": {},
   "outputs": [],
   "source": [
    "import h5py"
   ]
  },
  {
   "cell_type": "code",
   "execution_count": 39,
   "metadata": {},
   "outputs": [],
   "source": [
    "f = h5py.File('../DataSet/wf_slice_data_0000_0001.h5','r')"
   ]
  },
  {
   "cell_type": "code",
   "execution_count": 40,
   "metadata": {},
   "outputs": [
    {
     "data": {
      "text/plain": [
       "<KeysViewHDF5 ['disp', 'element_coords_sz', 'harmonics', 'slice', 'timestep']>"
      ]
     },
     "execution_count": 40,
     "metadata": {},
     "output_type": "execute_result"
    }
   ],
   "source": [
    "f.keys()"
   ]
  },
  {
   "cell_type": "code",
   "execution_count": 41,
   "metadata": {},
   "outputs": [
    {
     "data": {
      "text/plain": [
       "array([[   7.7184051 ,    6.81635405],\n",
       "       [   7.7184051 ,   -6.81635405],\n",
       "       [  20.44653645,    6.81017282],\n",
       "       ...,\n",
       "       [ 180.75188936,  970.81666884],\n",
       "       [ 739.77218959, -654.13558037],\n",
       "       [ 986.83085478,   36.34713265]])"
      ]
     },
     "execution_count": 41,
     "metadata": {},
     "output_type": "execute_result"
    }
   ],
   "source": [
    "f['element_coords_sz'][:]"
   ]
  },
  {
   "cell_type": "code",
   "execution_count": 42,
   "metadata": {},
   "outputs": [],
   "source": [
    "f.close()"
   ]
  },
  {
   "cell_type": "code",
   "execution_count": null,
   "metadata": {},
   "outputs": [],
   "source": []
  }
 ],
 "metadata": {
  "kernelspec": {
   "display_name": "Python 3 (ipykernel)",
   "language": "python",
   "name": "python3"
  },
  "language_info": {
   "codemirror_mode": {
    "name": "ipython",
    "version": 3
   },
   "file_extension": ".py",
   "mimetype": "text/x-python",
   "name": "python",
   "nbconvert_exporter": "python",
   "pygments_lexer": "ipython3",
   "version": "3.8.13"
  },
  "vscode": {
   "interpreter": {
    "hash": "b5da1a19760c645bef876c945e2def5171d007c0fd3f14585be32e516ddabd56"
   }
  }
 },
 "nbformat": 4,
 "nbformat_minor": 2
}
