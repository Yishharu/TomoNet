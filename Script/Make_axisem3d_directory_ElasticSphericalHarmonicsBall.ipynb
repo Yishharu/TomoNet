{
 "cells": [
  {
   "cell_type": "code",
   "execution_count": 6,
   "metadata": {},
   "outputs": [],
   "source": [
    "from obspy.core.event import read_events\n",
    "import obspy\n",
    "import numpy as np\n",
    "import pandas as pd\n",
    "from scipy.special import sph_harm\n",
    "import matplotlib.pyplot as plt\n",
    "import os.path\n",
    "import shutil\n",
    "from obspy import UTCDateTime\n",
    "from netCDF4 import Dataset\n",
    "from matplotlib import cm\n",
    "from skimage.filters import gaussian\n",
    "from mpl_toolkits.basemap import Basemap\n",
    "from itertools import chain\n",
    "\n",
    "from scipy.stats import qmc\n",
    "\n",
    "dpi = 300\n",
    "FigFormat = \"png\"\n",
    "\n",
    "def draw_map(map):\n",
    "\n",
    "    # draw a shaded-relief image\n",
    "    map.shadedrelief(scale=0.2)\n",
    "    \n",
    "    # lats and longs are returned as a dictionary\n",
    "    lats = map.drawparallels(np.linspace(-90, 90, 13))\n",
    "    lons = map.drawmeridians(np.linspace(-180, 180, 13))\n",
    "\n",
    "    # keys contain the plt.Line2D instances\n",
    "    lat_lines = chain(*(tup[1][0] for tup in lats.items()))\n",
    "    lon_lines = chain(*(tup[1][0] for tup in lons.items()))\n",
    "    all_lines = chain(lat_lines, lon_lines)\n",
    "    \n",
    "    # cycle through these lines and set the desired style\n",
    "    for line in all_lines:\n",
    "        line.set(linestyle='-', alpha=0.3, color='w')"
   ]
  },
  {
   "cell_type": "code",
   "execution_count": 7,
   "metadata": {},
   "outputs": [
    {
     "data": {
      "text/plain": [
       "Text(0.5, 1.0, 'Latin Hypercube Sampling (n = 1000)')"
      ]
     },
     "execution_count": 7,
     "metadata": {},
     "output_type": "execute_result"
    },
    {
     "data": {
      "image/png": "[encoded data removed]",
      "text/plain": [
       "<Figure size 500x500 with 1 Axes>"
      ]
     },
     "metadata": {},
     "output_type": "display_data"
    }
   ],
   "source": [
    "Dim = 81*5*3+7\n",
    "N = 100\n",
    "scalerange = 1\n",
    "sampler = qmc.LatinHypercube(d=Dim)\n",
    "sample = sampler.random(n=N)\n",
    "l_bounds = [-scalerange]*Dim\n",
    "u_bounds = [scalerange]*Dim\n",
    "sample_scaled = qmc.scale(sample, l_bounds, u_bounds)\n",
    "np.save('sampling_array_%d_elastic' %N,sample_scaled)\n",
    "\n",
    "plt.figure(figsize=(5, 5))\n",
    "plt.scatter(sample_scaled[:, 0], sample_scaled[:, 1])\n",
    "plt.xlabel(\"d0\")\n",
    "plt.ylabel(\"d1\")\n",
    "plt.title(f\"Latin Hypercube Sampling (n = {1000})\")"
   ]
  },
  {
   "cell_type": "code",
   "execution_count": 4,
   "metadata": {},
   "outputs": [
    {
     "ename": "FileNotFoundError",
     "evalue": "[Errno 2] No such file or directory: 'sampling_array_10000_elastic.npy'",
     "output_type": "error",
     "traceback": [
      "\u001b[0;31m---------------------------------------------------------------------------\u001b[0m",
      "\u001b[0;31mFileNotFoundError\u001b[0m                         Traceback (most recent call last)",
      "Cell \u001b[0;32mIn[4], line 1\u001b[0m\n\u001b[0;32m----> 1\u001b[0m sample_scaled \u001b[38;5;241m=\u001b[39m \u001b[43mnp\u001b[49m\u001b[38;5;241;43m.\u001b[39;49m\u001b[43mload\u001b[49m\u001b[43m(\u001b[49m\u001b[38;5;124;43m'\u001b[39;49m\u001b[38;5;124;43msampling_array_10000_elastic.npy\u001b[39;49m\u001b[38;5;124;43m'\u001b[39;49m\u001b[43m)\u001b[49m\n",
      "File \u001b[0;32m~/anaconda3/lib/python3.8/site-packages/numpy/lib/npyio.py:405\u001b[0m, in \u001b[0;36mload\u001b[0;34m(file, mmap_mode, allow_pickle, fix_imports, encoding, max_header_size)\u001b[0m\n\u001b[1;32m    403\u001b[0m     own_fid \u001b[39m=\u001b[39m \u001b[39mFalse\u001b[39;00m\n\u001b[1;32m    404\u001b[0m \u001b[39melse\u001b[39;00m:\n\u001b[0;32m--> 405\u001b[0m     fid \u001b[39m=\u001b[39m stack\u001b[39m.\u001b[39menter_context(\u001b[39mopen\u001b[39;49m(os_fspath(file), \u001b[39m\"\u001b[39;49m\u001b[39mrb\u001b[39;49m\u001b[39m\"\u001b[39;49m))\n\u001b[1;32m    406\u001b[0m     own_fid \u001b[39m=\u001b[39m \u001b[39mTrue\u001b[39;00m\n\u001b[1;32m    408\u001b[0m \u001b[39m# Code to distinguish from NumPy binary files and pickles.\u001b[39;00m\n",
      "\u001b[0;31mFileNotFoundError\u001b[0m: [Errno 2] No such file or directory: 'sampling_array_10000_elastic.npy'"
     ]
    }
   ],
   "source": [
    "sample_scaled = np.load('sampling_array_10000_elastic.npy')"
   ]
  },
  {
   "cell_type": "code",
   "execution_count": 6,
   "metadata": {},
   "outputs": [],
   "source": [
    "imodel =2\n",
    "para_index = 2\n",
    "MomentTensor = sample_scaled[imodel,para_index:para_index+6]"
   ]
  },
  {
   "cell_type": "code",
   "execution_count": 7,
   "metadata": {},
   "outputs": [
    {
     "data": {
      "text/plain": [
       "6"
      ]
     },
     "execution_count": 7,
     "metadata": {},
     "output_type": "execute_result"
    }
   ],
   "source": [
    "len(MomentTensor)"
   ]
  },
  {
   "cell_type": "code",
   "execution_count": 9,
   "metadata": {},
   "outputs": [
    {
     "name": "stdout",
     "output_type": "stream",
     "text": [
      "../Runs/LatinSphericalHarmonicsElasticBall0000  created\n"
     ]
    },
    {
     "name": "stderr",
     "output_type": "stream",
     "text": [
      "/tmp/ipykernel_136013/825717204.py:116: ComplexWarning: Casting complex values to real discards the imaginary part\n",
      "  TomoSum[:,:] = TomoSum[:,:] + coeff[SlicingDepth][name] * Y_grid\n"
     ]
    },
    {
     "name": "stdout",
     "output_type": "stream",
     "text": [
      "-0.11624543553482171 0.12752212443299546\n",
      "-0.14654098941950602 0.1280388978733085\n",
      "-0.10504820195590042 0.12976017502385082\n",
      "../Runs/LatinSphericalHarmonicsElasticBall0001  created\n"
     ]
    },
    {
     "name": "stderr",
     "output_type": "stream",
     "text": [
      "/tmp/ipykernel_136013/825717204.py:116: ComplexWarning: Casting complex values to real discards the imaginary part\n",
      "  TomoSum[:,:] = TomoSum[:,:] + coeff[SlicingDepth][name] * Y_grid\n"
     ]
    },
    {
     "name": "stdout",
     "output_type": "stream",
     "text": [
      "-0.13944418206792714 0.11633363714617305\n",
      "-0.12461796513648768 0.11772417348684422\n",
      "-0.1443699274235231 0.12152998650604166\n",
      "../Runs/LatinSphericalHarmonicsElasticBall0002  created\n"
     ]
    },
    {
     "name": "stderr",
     "output_type": "stream",
     "text": [
      "/tmp/ipykernel_136013/825717204.py:116: ComplexWarning: Casting complex values to real discards the imaginary part\n",
      "  TomoSum[:,:] = TomoSum[:,:] + coeff[SlicingDepth][name] * Y_grid\n"
     ]
    },
    {
     "name": "stdout",
     "output_type": "stream",
     "text": [
      "-0.12988163172296693 0.12844776011989262\n",
      "-0.11643172500250834 0.1301525218584739\n",
      "-0.10418300918690578 0.12021617897520585\n",
      "../Runs/LatinSphericalHarmonicsElasticBall0003  created\n"
     ]
    },
    {
     "name": "stderr",
     "output_type": "stream",
     "text": [
      "/tmp/ipykernel_136013/825717204.py:116: ComplexWarning: Casting complex values to real discards the imaginary part\n",
      "  TomoSum[:,:] = TomoSum[:,:] + coeff[SlicingDepth][name] * Y_grid\n"
     ]
    },
    {
     "name": "stdout",
     "output_type": "stream",
     "text": [
      "-0.1134537569159973 0.12506234597558974\n",
      "-0.15716240587787247 0.11413140777986074\n",
      "-0.12183571234913408 0.13019623147020093\n",
      "../Runs/LatinSphericalHarmonicsElasticBall0004  created\n"
     ]
    },
    {
     "name": "stderr",
     "output_type": "stream",
     "text": [
      "/tmp/ipykernel_136013/825717204.py:116: ComplexWarning: Casting complex values to real discards the imaginary part\n",
      "  TomoSum[:,:] = TomoSum[:,:] + coeff[SlicingDepth][name] * Y_grid\n"
     ]
    },
    {
     "name": "stdout",
     "output_type": "stream",
     "text": [
      "-0.13668196616561806 0.11598906497942758\n",
      "-0.1331752627493452 0.12078965130973897\n",
      "-0.13624818776048622 0.13480287280290607\n",
      "../Runs/LatinSphericalHarmonicsElasticBall0005  created\n"
     ]
    },
    {
     "name": "stderr",
     "output_type": "stream",
     "text": [
      "/tmp/ipykernel_136013/825717204.py:116: ComplexWarning: Casting complex values to real discards the imaginary part\n",
      "  TomoSum[:,:] = TomoSum[:,:] + coeff[SlicingDepth][name] * Y_grid\n"
     ]
    },
    {
     "name": "stdout",
     "output_type": "stream",
     "text": [
      "-0.12432662230834157 0.11222154038040283\n",
      "-0.11666326613454295 0.11517097549156101\n",
      "-0.1266657943850903 0.1182531900789086\n",
      "../Runs/LatinSphericalHarmonicsElasticBall0006  created\n"
     ]
    },
    {
     "name": "stderr",
     "output_type": "stream",
     "text": [
      "/tmp/ipykernel_136013/825717204.py:116: ComplexWarning: Casting complex values to real discards the imaginary part\n",
      "  TomoSum[:,:] = TomoSum[:,:] + coeff[SlicingDepth][name] * Y_grid\n"
     ]
    },
    {
     "name": "stdout",
     "output_type": "stream",
     "text": [
      "-0.13539227680581056 0.12331041731659059\n",
      "-0.10841678326688761 0.15232704347854834\n",
      "-0.11287542699469975 0.11903841404377291\n",
      "../Runs/LatinSphericalHarmonicsElasticBall0007  created\n"
     ]
    },
    {
     "name": "stderr",
     "output_type": "stream",
     "text": [
      "/tmp/ipykernel_136013/825717204.py:116: ComplexWarning: Casting complex values to real discards the imaginary part\n",
      "  TomoSum[:,:] = TomoSum[:,:] + coeff[SlicingDepth][name] * Y_grid\n"
     ]
    },
    {
     "name": "stdout",
     "output_type": "stream",
     "text": [
      "-0.11778964338083689 0.11353057522913594\n",
      "-0.11859115018943558 0.12223623807415221\n",
      "-0.12819313486195366 0.12490092370517245\n",
      "../Runs/LatinSphericalHarmonicsElasticBall0008  created\n"
     ]
    },
    {
     "name": "stderr",
     "output_type": "stream",
     "text": [
      "/tmp/ipykernel_136013/825717204.py:116: ComplexWarning: Casting complex values to real discards the imaginary part\n",
      "  TomoSum[:,:] = TomoSum[:,:] + coeff[SlicingDepth][name] * Y_grid\n"
     ]
    },
    {
     "name": "stdout",
     "output_type": "stream",
     "text": [
      "-0.135333708292071 0.11280803796329715\n",
      "-0.14088812399641334 0.10427450332563748\n",
      "-0.13395737002269273 0.1168245476482548\n",
      "../Runs/LatinSphericalHarmonicsElasticBall0009  created\n"
     ]
    },
    {
     "name": "stderr",
     "output_type": "stream",
     "text": [
      "/tmp/ipykernel_136013/825717204.py:116: ComplexWarning: Casting complex values to real discards the imaginary part\n",
      "  TomoSum[:,:] = TomoSum[:,:] + coeff[SlicingDepth][name] * Y_grid\n"
     ]
    },
    {
     "name": "stdout",
     "output_type": "stream",
     "text": [
      "-0.15371215166852406 0.11957375024448239\n",
      "-0.1224593735016229 0.13541201690673532\n",
      "-0.14046201001986877 0.11140267816099797\n"
     ]
    }
   ],
   "source": [
    "ExampleInputDir = '../Runs/ExampleSphericalHarmonicsElasticBall/input'\n",
    "\n",
    "SourceDepthRange = [0,300]\n",
    "DvpRange = 0.025\n",
    "DvsRange = 0.025\n",
    "DrhoRange = 0.025\n",
    "\n",
    "for imodel in np.arange(0,10):\n",
    "\n",
    "    para_index = 0\n",
    "\n",
    "    ModeName = 'LatinSphericalHarmonicsElasticBall%04d' %imodel\n",
    "    EventParDir='../Runs/%s' %(ModeName)  \n",
    "    if not os.path.exists(EventParDir):\n",
    "        os.makedirs(EventParDir)\n",
    "    print(EventParDir, \" created\")\n",
    "\n",
    "    if not os.path.exists(EventParDir+'/input'):\n",
    "        os.makedirs(EventParDir+'/input')\n",
    "\n",
    "    # copy parameter file\n",
    "    # shutil.copy(ExampleInputDir+'/TomoNet_LowerMantle__10s.e',EventParDir+'/input/')\n",
    "\n",
    "    shutil.copy(ExampleInputDir+'/inparam.model.yaml',EventParDir+'/input/')\n",
    "\n",
    "    shutil.copy(ExampleInputDir+'/inparam.nr.yaml',EventParDir+'/input/')\n",
    "\n",
    "    shutil.copy(ExampleInputDir+'/inparam.advanced.yaml',EventParDir+'/input/')\n",
    "\n",
    "    shutil.copy(ExampleInputDir+'/inparam.source.yaml',EventParDir+'/input/')\n",
    "    # update event source\n",
    "    EventDepth = (sample_scaled[imodel,para_index]+1)/2*(SourceDepthRange[1]-SourceDepthRange[0])+SourceDepthRange[0]\n",
    "    para_index += 1\n",
    "    MomentTensor = sample_scaled[imodel,para_index:para_index+6]*1e10\n",
    "    para_index += 6\n",
    "    with open(EventParDir+'/input/inparam.source.yaml','r') as file:\n",
    "        filetxt = file.read()\n",
    "    # filetxt = filetxt.replace(\"latitude_longitude: [-56.24, 26.34]\", \"latitude_longitude: [%.2f, %.2f]\" %(EventLat, EventLon))\n",
    "    filetxt = filetxt.replace(\"depth: 200.0e0\", \"depth: %.1fe0\" %(EventDepth))\n",
    "    filetxt = filetxt.replace(\"data: [1e10, 1e10, 1e10, 1e10, 1e10, 1e10]\", \"data: [%e, %e, %e, %e, %e, %e]\"  %(MomentTensor[0], MomentTensor[1], MomentTensor[2], MomentTensor[3], MomentTensor[4], MomentTensor[5]))\n",
    "    with open(EventParDir+'/input/inparam.source.yaml','w') as file:\n",
    "        file.write(filetxt)\n",
    "\n",
    "    shutil.copy(ExampleInputDir+'/inparam.output.yaml',EventParDir+'/input/')\n",
    "\n",
    "    shutil.copy(ExampleInputDir+'/Synthetic_Stations_Ball.txt',EventParDir+'/input/')\n",
    "\n",
    "    # # generate random model\n",
    "    ### Real spherical harmonics\n",
    "    coeff = {}\n",
    "\n",
    "    ModelCoeff = dict()\n",
    "    ModelCoeff['variable'] = []\n",
    "    ModelCoeff['Depth'] = []\n",
    "    ModelCoeff['l'] = []\n",
    "    ModelCoeff['m'] = []\n",
    "    ModelCoeff['Value'] = []\n",
    "\n",
    "    l_max = 8\n",
    "    DepthList = [0. , 200, 400, 600, 800]\n",
    "\n",
    "    for depth in DepthList:\n",
    "        coeff[depth] = {}\n",
    "\n",
    "    for variable in ['dvp','dvs','drho']:\n",
    "        for depth in DepthList:\n",
    "            \n",
    "            for l in range(0,l_max+1):\n",
    "                for m in np.arange(-l,l+1):\n",
    "                    name = '%s_%s_%s' %(variable, l, m)\n",
    "                    # print(l,m)\n",
    "                    ModelCoeff['variable'].append(variable)\n",
    "                    ModelCoeff['Depth'].append(depth)\n",
    "                    ModelCoeff['l'].append(l)\n",
    "                    ModelCoeff['m'].append(m)\n",
    "\n",
    "                    Val = sample_scaled[imodel,para_index]*0.025  # Latin Hypercube Sampling\n",
    "                    ModelCoeff['Value'].append(Val)\n",
    "                    coeff[depth][name] = Val \n",
    "\n",
    "                    para_index += 1\n",
    "\n",
    "    df = pd.DataFrame(data=ModelCoeff)\n",
    "    df.to_pickle(EventParDir+\"/Spherical_Harmonics.pkl\")\n",
    "\n",
    "    grid_depth = np.array(DepthList)\n",
    "    grid_lat = np.linspace(-90, 90, 181)\n",
    "    grid_lon = np.linspace(-180, 180, 361)\n",
    "\n",
    "    # Make sure RADISU and Coordinates are ascendingly sorted\n",
    "    grid_depth.sort()\n",
    "    grid_lat.sort()\n",
    "    grid_lon.sort()\n",
    "\n",
    "    LON, LAT = np.meshgrid(grid_lon, grid_lat)\n",
    "    DvpMLTomo = np.zeros([len(grid_lat), len(grid_lon), len(grid_depth)])\n",
    "    DvsMLTomo = np.zeros([len(grid_lat), len(grid_lon), len(grid_depth)])\n",
    "    DrhoMLTomo = np.zeros([len(grid_lat), len(grid_lon), len(grid_depth)])\n",
    "\n",
    "    for variable in ['dvp','dvs','drho']:\n",
    "        for i, SlicingDepth in enumerate(DepthList):\n",
    "            # initiate TomoSum\n",
    "            TomoSum = np.zeros([len(grid_lat),len(grid_lon)])\n",
    "\n",
    "            for l in range(0,l_max+1):\n",
    "                for m in np.arange(-l,l+1):\n",
    "                    # print('l, m = ', l, m)\n",
    "                    name = '%s_%s_%s' %(variable, l, m)\n",
    "                    Y_grid = sph_harm(m, l, np.radians(LON-180), np.radians(90-LAT))\n",
    "\n",
    "                    if m < 0:\n",
    "                        Y_grid = np.sqrt(2) * (-1)**(-m) * Y_grid.imag\n",
    "                    elif m > 0:\n",
    "                        Y_grid = np.sqrt(2) * (-1)**m * Y_grid.real\n",
    "\n",
    "                    TomoSum[:,:] = TomoSum[:,:] + coeff[SlicingDepth][name] * Y_grid\n",
    "            if variable == 'dvp':\n",
    "                DvpMLTomo[:,:,i] = TomoSum[:,:]\n",
    "            elif variable == 'dvs':\n",
    "                DvsMLTomo[:,:,i] = TomoSum[:,:]\n",
    "            elif variable == 'drho':\n",
    "                DrhoMLTomo[:,:,i] = TomoSum[:,:]\n",
    "    \n",
    "    print(DvpMLTomo.min(), DvpMLTomo.max())\n",
    "    print(DvsMLTomo.min(), DvsMLTomo.max())\n",
    "    print(DrhoMLTomo.min(), DrhoMLTomo.max())\n",
    "\n",
    "    # # Fig Preparation\n",
    "    # dpi = 200\n",
    "    # fig = plt.figure(figsize=(3.5,3),dpi=200)\n",
    "    # ax = fig.add_subplot(111)\n",
    "\n",
    "    # map = Basemap(projection='moll',lon_0=0,resolution='l') # moll Projection\n",
    "    # PLOT = map.pcolormesh(LON, LAT, TomoSum, latlon=True, cmap=plt.get_cmap('jet'))\n",
    "    # cbar = plt.colorbar(PLOT, ax=ax, shrink=0.5)\n",
    "    # ax.set_title('Depth Slice at %s m to degrees %d' %(SlicingDepth, l_max))\n",
    "    # draw_map(map)\n",
    "    # map.drawcoastlines(linewidth=0.1)\n",
    "\n",
    "    NCName = \"degree8_random.nc\"\n",
    "    # write to file\n",
    "    if os.path.exists(EventParDir+'/input/'+NCName):\n",
    "        os.remove(EventParDir+'/input/'+NCName)\n",
    "\n",
    "    nc = Dataset(EventParDir+'/input/'+NCName, 'w')\n",
    "    nc.createDimension('nlat', size=len(grid_lat))\n",
    "    nc.createDimension('nlon', size=len(grid_lon))\n",
    "    nc.createDimension('ndepth', size=len(grid_depth))\n",
    "    nc.createVariable('latitude', float, dimensions=('nlat'))\n",
    "    nc['latitude'][:] = grid_lat\n",
    "    nc.createVariable('longitude', float, dimensions=('nlon'))\n",
    "    nc['longitude'][:] = grid_lon\n",
    "    nc.createVariable('depth', float, dimensions=('ndepth'))\n",
    "    nc['depth'][:] = grid_depth\n",
    "    nc.createVariable('dvp', float, dimensions=('nlat', 'nlon','ndepth'))\n",
    "    nc['dvp'][:,:,:] = DvpMLTomo[:,:,:]\n",
    "    nc.createVariable('dvs', float, dimensions=('nlat', 'nlon','ndepth'))\n",
    "    nc['dvs'][:,:,:] = DvsMLTomo[:,:,:]\n",
    "    nc.createVariable('drho', float, dimensions=('nlat', 'nlon','ndepth'))\n",
    "    nc['drho'][:,:,:] = DrhoMLTomo[:,:,:]\n",
    "\n",
    "    if imodel == 0:\n",
    "        nc['dvp'][:,:,:] = np.zeros(np.shape(DvpMLTomo[:,:,:]))\n",
    "        nc['dvs'][:,:,:] = np.zeros(np.shape(DvsMLTomo[:,:,:]))\n",
    "        nc['drho'][:,:,:] = np.zeros(np.shape(DrhoMLTomo[:,:,:]))\n",
    "        nc.close()\n",
    "        continue\n",
    "\n",
    "    nc.close()\n",
    "\n"
   ]
  },
  {
   "cell_type": "code",
   "execution_count": null,
   "metadata": {},
   "outputs": [],
   "source": []
  }
 ],
 "metadata": {
  "kernelspec": {
   "display_name": "Python 3.8.13 ('base')",
   "language": "python",
   "name": "python3"
  },
  "language_info": {
   "codemirror_mode": {
    "name": "ipython",
    "version": 3
   },
   "file_extension": ".py",
   "mimetype": "text/x-python",
   "name": "python",
   "nbconvert_exporter": "python",
   "pygments_lexer": "ipython3",
   "version": "3.8.13"
  },
  "orig_nbformat": 4,
  "vscode": {
   "interpreter": {
    "hash": "b5da1a19760c645bef876c945e2def5171d007c0fd3f14585be32e516ddabd56"
   }
  }
 },
 "nbformat": 4,
 "nbformat_minor": 2
}
