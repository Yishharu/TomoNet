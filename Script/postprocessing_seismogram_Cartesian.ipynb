{
 "cells": [
  {
   "cell_type": "code",
   "execution_count": 6,
   "metadata": {},
   "outputs": [],
   "source": [
    "import glob\n",
    "import shutil \n",
    "from netCDF4 import Dataset\n",
    "import numpy as np\n",
    "import os\n",
    "import yaml \n",
    "\n",
    "from obspy.core import Stream, Trace, UTCDateTime, Stats\n",
    "from obspy.core.event import read_events\n"
   ]
  },
  {
   "cell_type": "code",
   "execution_count": 7,
   "metadata": {},
   "outputs": [],
   "source": [
    "# read event location\n",
    "with open('../Runs/CartesianStandardRandomModel0005/input/inparam.output.yaml', 'r') as file:\n",
    "    output_yaml = yaml.load(file, Loader=yaml.FullLoader)"
   ]
  },
  {
   "cell_type": "code",
   "execution_count": 8,
   "metadata": {},
   "outputs": [
    {
     "data": {
      "text/plain": [
       "[0, 2.0]"
      ]
     },
     "execution_count": 8,
     "metadata": {},
     "output_type": "execute_result"
    }
   ],
   "source": [
    "output_yaml['list_of_station_groups'][0]['Synthetic_Stations']['temporal']['time_window']\n"
   ]
  },
  {
   "cell_type": "code",
   "execution_count": 34,
   "metadata": {},
   "outputs": [
    {
     "name": "stdout",
     "output_type": "stream",
     "text": [
      "../DataSet/CartesianStandardRandomModel0000/seismogram.nc  set up and saved!\n",
      "../DataSet/CartesianStandardRandomModel0001/seismogram.nc  set up and saved!\n",
      "../DataSet/CartesianStandardRandomModel0002/seismogram.nc  set up and saved!\n",
      "../DataSet/CartesianStandardRandomModel0003/seismogram.nc  set up and saved!\n",
      "../DataSet/CartesianStandardRandomModel0004/seismogram.nc  set up and saved!\n",
      "../DataSet/CartesianStandardRandomModel0005/seismogram.nc  set up and saved!\n",
      "../DataSet/CartesianStandardRandomModel0006/seismogram.nc  set up and saved!\n",
      "../DataSet/CartesianStandardRandomModel0007/seismogram.nc  set up and saved!\n",
      "../DataSet/CartesianStandardRandomModel0008/seismogram.nc  set up and saved!\n",
      "../DataSet/CartesianStandardRandomModel0009/seismogram.nc  set up and saved!\n",
      "../DataSet/CartesianStandardRandomModel0010/seismogram.nc  set up and saved!\n",
      "../DataSet/CartesianStandardRandomModel0011/seismogram.nc  set up and saved!\n",
      "../DataSet/CartesianStandardRandomModel0012/seismogram.nc  set up and saved!\n",
      "../DataSet/CartesianStandardRandomModel0013/seismogram.nc  set up and saved!\n",
      "../DataSet/CartesianStandardRandomModel0014/seismogram.nc  set up and saved!\n",
      "../DataSet/CartesianStandardRandomModel0015/seismogram.nc  set up and saved!\n",
      "../DataSet/CartesianStandardRandomModel0016/seismogram.nc  set up and saved!\n",
      "../DataSet/CartesianStandardRandomModel0017/seismogram.nc  set up and saved!\n",
      "../DataSet/CartesianStandardRandomModel0018/seismogram.nc  set up and saved!\n",
      "../DataSet/CartesianStandardRandomModel0019/seismogram.nc  set up and saved!\n"
     ]
    }
   ],
   "source": [
    "# data dir\n",
    "# ModelNameList = ['CartesianModel0007_5pct','CartesianModel0007_10pct','CartesianModel0007_20pct']\n",
    "ModelNameList = []\n",
    "for imodel in np.arange(0,20):\n",
    "    ModeName = 'CartesianStandardRandomModel%04d' %imodel\n",
    "    ModelNameList.append(ModeName)\n",
    "\n",
    "# wave dimension to animation\n",
    "output_channel = 'X'\n",
    "# wave_dim_s = output_channel.index('s')\n",
    "# wave_dim_p = output_channel.index('p')\n",
    "# wave_dim_z = output_channel.index('z')\n",
    "wave_dim_X = output_channel.index('X')\n",
    "\n",
    "for ModelName in ModelNameList:\n",
    "    # data_dir = '../Runs/%s/output/elements/orthogonal_azimuthal_slices' %ModelName\n",
    "    RunPath = '../Runs/%s' %ModelName\n",
    "\n",
    "    NETCDFDir = '../DataSet/%s' %ModelName\n",
    "    if not os.path.exists(NETCDFDir):\n",
    "        os.mkdir(NETCDFDir)\n",
    "    StationInfo = np.loadtxt(RunPath+'/input/Synthetic_Stations_Cartesian.txt',dtype=str, skiprows=3)\n",
    "    stalatlon_dict = {}\n",
    "    for item in StationInfo:\n",
    "        stkey = item[1]+'.'+item[0]\n",
    "        x = float(item[2])\n",
    "        y = float(item[3])\n",
    "        if stkey not in stalatlon_dict.keys():\n",
    "            stalatlon_dict[stkey] = []\n",
    "        stalatlon_dict[stkey].append((x, y))\n",
    "\n",
    "\n",
    "    StartTime, EndTime = 0, 2.0    # note in Second\n",
    "    resample_rate = 0.02    # note in Second\n",
    "    lowpass_freq = 20    # note in Hz\n",
    "\n",
    "    PointPerTrace = int((EndTime - StartTime)/resample_rate)+1\n",
    "\n",
    "    istation = 0\n",
    "\n",
    "    if os.path.exists(NETCDFDir+'/seismogram.nc'):\n",
    "        os.remove(NETCDFDir+'/seismogram.nc')\n",
    "\n",
    "    nc = Dataset(NETCDFDir+'/seismogram.nc', 'w')\n",
    "    nc.createDimension('npoint', size=PointPerTrace*len(stalatlon_dict))\n",
    "    nc.createVariable('x', float, dimensions=('npoint'))\n",
    "    nc.createVariable('y', float, dimensions=('npoint'))\n",
    "    nc.createVariable('z', float, dimensions=('npoint'))\n",
    "    nc.createVariable('time', float, dimensions=('npoint'))\n",
    "    nc.createVariable('X', float, dimensions=('npoint'))\n",
    "\n",
    "\n",
    "    GSNDir = RunPath + '/output/stations/Synthetic_Stations'\n",
    "\n",
    "    # read rank-station info\n",
    "    rank_station_info = np.loadtxt(GSNDir + '/rank_station.info', dtype=str, skiprows=1)\n",
    "\n",
    "    # dict: mpi-rank -> [station keys]\n",
    "    rank_station_dict = {}\n",
    "    for item in rank_station_info:\n",
    "        rank = item[0]\n",
    "        stkey = item[1]\n",
    "        inrank_index = item[2]\n",
    "        # initialize with an empty array if rank does not exists in rank_station_dict\n",
    "        if rank not in rank_station_dict.keys():\n",
    "            rank_station_dict[rank] = []\n",
    "        # append the station\n",
    "        rank_station_dict[rank].append([stkey, inrank_index])\n",
    "        \n",
    "    # loop over mpi-ranks to read data\n",
    "    for rank in rank_station_dict.keys():\n",
    "        f = Dataset(GSNDir + '/axisem3d_synthetics.nc.rank%s' %rank, 'r')\n",
    "        time = f.variables['data_time'][:]\n",
    "\n",
    "        for [StationName, inrank_index] in rank_station_dict[rank]:\n",
    "            stax = stalatlon_dict[StationName][0][0]\n",
    "            stay = stalatlon_dict[StationName][0][1]\n",
    "            staz = 0\n",
    "\n",
    "            # trace header\n",
    "            stats = Stats()\n",
    "            stats.starttime = UTCDateTime(time[0])\n",
    "            stats.delta = UTCDateTime(time[1] - time[0])\n",
    "            stats.npts = len(time)\n",
    "\n",
    "            # stream\n",
    "            stream = Stream()\n",
    "            for ich, ch in enumerate(output_channel):\n",
    "                stats.channel = ch  \n",
    "                # default unit is km\n",
    "                stream.append(Trace(f.variables['data_wave'][int(inrank_index)][ich], header=stats))\n",
    "\n",
    "\n",
    "            stream.filter('lowpass', freq=lowpass_freq)\n",
    "            stream.resample(1/resample_rate)\n",
    "            # stream = stream.slice(UTCDateTime(int(arrivals[0].time)+StartTime), UTCDateTime(int(arrivals[0].time)+EndTime))\n",
    "            stream = stream.slice(UTCDateTime(StartTime), UTCDateTime(EndTime))\n",
    "            npoint_persta = len(stream[0].data)\n",
    "        \n",
    "            nc['x'][istation*npoint_persta:(istation+1)*npoint_persta] = stax\n",
    "            nc['y'][istation*npoint_persta:(istation+1)*npoint_persta] = stay\n",
    "            nc['z'][istation*npoint_persta:(istation+1)*npoint_persta] = staz\n",
    "\n",
    "            # nc['time'][istation*npoint_persta:(istation+1)*npoint_persta] = stream[0].times() + int(arrivals[0].time) + StartTime\n",
    "            nc['time'][istation*npoint_persta:(istation+1)*npoint_persta] = stream[0].times()\n",
    "\n",
    "            nc['X'][istation*npoint_persta:(istation+1)*npoint_persta] = stream[0].data\n",
    "\n",
    "            istation += 1\n",
    "\n",
    "    nc.close()\n",
    "\n",
    "    print(NETCDFDir+'/seismogram.nc', \" set up and saved!\")"
   ]
  },
  {
   "cell_type": "code",
   "execution_count": 33,
   "metadata": {},
   "outputs": [
    {
     "data": {
      "text/plain": [
       "(array([0.  , 0.02, 0.04, 0.06, 0.08, 0.1 , 0.12, 0.14, 0.16, 0.18, 0.2 ,\n",
       "        0.22, 0.24, 0.26, 0.28, 0.3 , 0.32, 0.34, 0.36, 0.38, 0.4 , 0.42,\n",
       "        0.44, 0.46, 0.48, 0.5 , 0.52, 0.54, 0.56, 0.58, 0.6 , 0.62, 0.64,\n",
       "        0.66, 0.68, 0.7 , 0.72, 0.74, 0.76, 0.78, 0.8 , 0.82, 0.84, 0.86,\n",
       "        0.88, 0.9 , 0.92, 0.94, 0.96, 0.98, 1.  , 1.02, 1.04, 1.06, 1.08,\n",
       "        1.1 , 1.12, 1.14, 1.16, 1.18, 1.2 , 1.22, 1.24, 1.26, 1.28, 1.3 ,\n",
       "        1.32, 1.34, 1.36, 1.38, 1.4 , 1.42, 1.44, 1.46, 1.48, 1.5 , 1.52,\n",
       "        1.54, 1.56, 1.58, 1.6 , 1.62, 1.64, 1.66, 1.68, 1.7 , 1.72, 1.74,\n",
       "        1.76, 1.78, 1.8 , 1.82, 1.84, 1.86, 1.88, 1.9 , 1.92, 1.94, 1.96,\n",
       "        1.98]),\n",
       " array([ 5.87006285e-07, -1.12208622e-08, -1.81415808e-09, -2.86519043e-09,\n",
       "        -9.30568052e-10, -1.36698811e-09, -5.48694146e-10, -7.92876981e-10,\n",
       "        -3.44144752e-10, -5.02078334e-10, -2.18622762e-10, -3.29772799e-10,\n",
       "        -1.33591162e-10, -2.16148852e-10, -7.11701811e-11, -1.34708645e-10,\n",
       "        -2.19756183e-11, -7.19901195e-11,  1.94471366e-11, -2.03763807e-11,\n",
       "         5.65915121e-11,  2.48852723e-11,  9.19408855e-11,  6.70802946e-11,\n",
       "         1.27482966e-10,  1.08761116e-10,  1.65029255e-10,  1.52188997e-10,\n",
       "         2.06454789e-10,  1.99654226e-10,  2.53925104e-10,  2.53770292e-10,\n",
       "         3.10163937e-10,  3.17815741e-10,  3.78823649e-10,  3.96207705e-10,\n",
       "         4.65052644e-10,  4.95235676e-10,  5.76426106e-10,  6.24286758e-10,\n",
       "         7.24559796e-10,  7.98018809e-10,  9.28065782e-10,  1.04045231e-09,\n",
       "         1.21830820e-09,  1.39321521e-09,  1.65147075e-09,  1.93359330e-09,\n",
       "         2.33634317e-09,  2.81854762e-09,  3.50686685e-09,  4.40943025e-09,\n",
       "         5.74953494e-09,  7.71878225e-09,  1.10055505e-08,  1.81831600e-08,\n",
       "         5.98964131e-08,  4.02091490e-07,  2.09729691e-06,  6.53201143e-06,\n",
       "         1.22190138e-05,  1.41237150e-05,  1.06667828e-05,  6.26682887e-06,\n",
       "         3.32653149e-06,  3.52807268e-07, -3.16323763e-06, -7.20648591e-06,\n",
       "        -1.10013665e-05, -1.17888034e-05, -9.34170928e-06, -7.09290287e-06,\n",
       "        -6.55538907e-06, -6.05149760e-06, -4.40562028e-06, -2.45049313e-06,\n",
       "        -1.58839188e-06, -1.37673611e-06, -2.56246538e-08,  2.17737310e-06,\n",
       "         3.35985501e-06,  3.14479495e-06,  2.31377871e-06,  1.30428860e-06,\n",
       "         2.90060610e-07, -6.02700723e-07, -1.31131249e-06, -1.69579625e-06,\n",
       "        -1.55118623e-06, -8.78598240e-07,  1.22898929e-08,  8.24230280e-07,\n",
       "         1.45638294e-06,  1.84087977e-06,  1.96575499e-06,  1.94694793e-06,\n",
       "         1.96908038e-06,  2.13913647e-06,  2.34869227e-06,  1.82084926e-06]))"
      ]
     },
     "execution_count": 33,
     "metadata": {},
     "output_type": "execute_result"
    }
   ],
   "source": [
    "stream[0].times(), stream[0].data"
   ]
  },
  {
   "cell_type": "code",
   "execution_count": 28,
   "metadata": {},
   "outputs": [
    {
     "data": {
      "text/plain": [
       "1 Trace(s) in Stream:\n",
       "...X | 1970-01-01T00:00:00.013522Z - 1970-01-01T00:00:01.993522Z | 50.0 Hz, 100 samples"
      ]
     },
     "execution_count": 28,
     "metadata": {},
     "output_type": "execute_result"
    }
   ],
   "source": [
    "stream = Stream()\n",
    "stream.append(Trace(f.variables['data_wave'][int(inrank_index)][ich], header=stats))\n",
    "stream.filter('lowpass', freq=lowpass_freq)\n",
    "stream.resample(1/0.02)"
   ]
  },
  {
   "cell_type": "code",
   "execution_count": 13,
   "metadata": {},
   "outputs": [
    {
     "data": {
      "text/plain": [
       "...X | 1970-01-01T00:00:00.013522Z - 1970-01-01T00:00:00.013522Z | 20.0 s, 1 samples"
      ]
     },
     "execution_count": 13,
     "metadata": {},
     "output_type": "execute_result"
    }
   ],
   "source": [
    "stream[0]"
   ]
  },
  {
   "cell_type": "code",
   "execution_count": 27,
   "metadata": {},
   "outputs": [
    {
     "data": {
      "text/plain": [
       "(1, 41)"
      ]
     },
     "execution_count": 27,
     "metadata": {},
     "output_type": "execute_result"
    }
   ],
   "source": [
    "npoint_persta, PointPerTrace"
   ]
  },
  {
   "cell_type": "code",
   "execution_count": 21,
   "metadata": {},
   "outputs": [
    {
     "data": {
      "text/plain": [
       "'/raid1/TomoNet/Runs/Sample/model0011/UnifromEarthCore.bm'"
      ]
     },
     "execution_count": 21,
     "metadata": {},
     "output_type": "execute_result"
    }
   ],
   "source": [
    "import shutil\n",
    "# Move netcdf file\n",
    "# shutil.copy(RunPath+'/input/box_tomography.nc',NETCDFDir)\n",
    "shutil.copy(RunPath+'/tools/UnifromEarthCore.bm',NETCDFDir)"
   ]
  }
 ],
 "metadata": {
  "kernelspec": {
   "display_name": "Python 3 (ipykernel)",
   "language": "python",
   "name": "python3"
  },
  "language_info": {
   "codemirror_mode": {
    "name": "ipython",
    "version": 3
   },
   "file_extension": ".py",
   "mimetype": "text/x-python",
   "name": "python",
   "nbconvert_exporter": "python",
   "pygments_lexer": "ipython3",
   "version": "3.8.13"
  },
  "vscode": {
   "interpreter": {
    "hash": "b5da1a19760c645bef876c945e2def5171d007c0fd3f14585be32e516ddabd56"
   }
  }
 },
 "nbformat": 4,
 "nbformat_minor": 2
}
