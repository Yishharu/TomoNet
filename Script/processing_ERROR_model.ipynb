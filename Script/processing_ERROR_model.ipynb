{
 "cells": [
  {
   "cell_type": "code",
   "execution_count": 1,
   "metadata": {},
   "outputs": [],
   "source": [
    "import pandas as pd\n",
    "import numpy as np\n",
    "import shutil\n",
    "import os\n",
    "import glob"
   ]
  },
  {
   "cell_type": "code",
   "execution_count": 2,
   "metadata": {},
   "outputs": [
    {
     "data": {
      "text/html": [
       "<div>\n",
       "<style scoped>\n",
       "    .dataframe tbody tr th:only-of-type {\n",
       "        vertical-align: middle;\n",
       "    }\n",
       "\n",
       "    .dataframe tbody tr th {\n",
       "        vertical-align: top;\n",
       "    }\n",
       "\n",
       "    .dataframe thead th {\n",
       "        text-align: right;\n",
       "    }\n",
       "</style>\n",
       "<table border=\"1\" class=\"dataframe\">\n",
       "  <thead>\n",
       "    <tr style=\"text-align: right;\">\n",
       "      <th></th>\n",
       "      <th>Size</th>\n",
       "      <th>ModelName</th>\n",
       "      <th>ModelIndex</th>\n",
       "    </tr>\n",
       "  </thead>\n",
       "  <tbody>\n",
       "    <tr>\n",
       "      <th>0</th>\n",
       "      <td>45.0</td>\n",
       "      <td>LatinSphericalHarmonicsAcousticBall3000</td>\n",
       "      <td>3000</td>\n",
       "    </tr>\n",
       "    <tr>\n",
       "      <th>1</th>\n",
       "      <td>45.0</td>\n",
       "      <td>LatinSphericalHarmonicsAcousticBall3001</td>\n",
       "      <td>3001</td>\n",
       "    </tr>\n",
       "    <tr>\n",
       "      <th>2</th>\n",
       "      <td>45.0</td>\n",
       "      <td>LatinSphericalHarmonicsAcousticBall3002</td>\n",
       "      <td>3002</td>\n",
       "    </tr>\n",
       "    <tr>\n",
       "      <th>3</th>\n",
       "      <td>45.0</td>\n",
       "      <td>LatinSphericalHarmonicsAcousticBall3003</td>\n",
       "      <td>3003</td>\n",
       "    </tr>\n",
       "    <tr>\n",
       "      <th>4</th>\n",
       "      <td>45.0</td>\n",
       "      <td>LatinSphericalHarmonicsAcousticBall3004</td>\n",
       "      <td>3004</td>\n",
       "    </tr>\n",
       "    <tr>\n",
       "      <th>...</th>\n",
       "      <td>...</td>\n",
       "      <td>...</td>\n",
       "      <td>...</td>\n",
       "    </tr>\n",
       "    <tr>\n",
       "      <th>6995</th>\n",
       "      <td>45.0</td>\n",
       "      <td>LatinSphericalHarmonicsAcousticBall9995</td>\n",
       "      <td>9995</td>\n",
       "    </tr>\n",
       "    <tr>\n",
       "      <th>6996</th>\n",
       "      <td>45.0</td>\n",
       "      <td>LatinSphericalHarmonicsAcousticBall9996</td>\n",
       "      <td>9996</td>\n",
       "    </tr>\n",
       "    <tr>\n",
       "      <th>6997</th>\n",
       "      <td>45.0</td>\n",
       "      <td>LatinSphericalHarmonicsAcousticBall9997</td>\n",
       "      <td>9997</td>\n",
       "    </tr>\n",
       "    <tr>\n",
       "      <th>6998</th>\n",
       "      <td>45.0</td>\n",
       "      <td>LatinSphericalHarmonicsAcousticBall9998</td>\n",
       "      <td>9998</td>\n",
       "    </tr>\n",
       "    <tr>\n",
       "      <th>6999</th>\n",
       "      <td>45.0</td>\n",
       "      <td>LatinSphericalHarmonicsAcousticBall9999</td>\n",
       "      <td>9999</td>\n",
       "    </tr>\n",
       "  </tbody>\n",
       "</table>\n",
       "<p>7000 rows × 3 columns</p>\n",
       "</div>"
      ],
      "text/plain": [
       "      Size                                ModelName  ModelIndex\n",
       "0     45.0  LatinSphericalHarmonicsAcousticBall3000        3000\n",
       "1     45.0  LatinSphericalHarmonicsAcousticBall3001        3001\n",
       "2     45.0  LatinSphericalHarmonicsAcousticBall3002        3002\n",
       "3     45.0  LatinSphericalHarmonicsAcousticBall3003        3003\n",
       "4     45.0  LatinSphericalHarmonicsAcousticBall3004        3004\n",
       "...    ...                                      ...         ...\n",
       "6995  45.0  LatinSphericalHarmonicsAcousticBall9995        9995\n",
       "6996  45.0  LatinSphericalHarmonicsAcousticBall9996        9996\n",
       "6997  45.0  LatinSphericalHarmonicsAcousticBall9997        9997\n",
       "6998  45.0  LatinSphericalHarmonicsAcousticBall9998        9998\n",
       "6999  45.0  LatinSphericalHarmonicsAcousticBall9999        9999\n",
       "\n",
       "[7000 rows x 3 columns]"
      ]
     },
     "execution_count": 2,
     "metadata": {},
     "output_type": "execute_result"
    }
   ],
   "source": [
    "# /raid1/TomoNetData/DataSet$ du -hs LatinSphericalHarmonicsAcousticBall* > ../Script/size.txt\n",
    "\n",
    "ModelCatalog = dict()\n",
    "ModelCatalog['Size'] = []\n",
    "ModelCatalog['ModelName'] = []\n",
    "ModelCatalog['ModelIndex'] = []\n",
    "\n",
    "with open(\"./size.txt\", 'r') as f:\n",
    "    for line in f:\n",
    "        SizeString = line.split()[0]\n",
    "        if SizeString.endswith('K'):\n",
    "            Size = float(SizeString.split('K')[0])/1000\n",
    "        elif SizeString.endswith('M'):\n",
    "            Size = float(SizeString.split('M')[0])\n",
    "        ModelName = line.split()[1]\n",
    "        ModelIndex = int(ModelName[-4::])\n",
    "\n",
    "        ModelCatalog['Size'].append(Size)\n",
    "        ModelCatalog['ModelName'].append(ModelName)\n",
    "        ModelCatalog['ModelIndex'].append(ModelIndex)\n",
    "\n",
    "df = pd.DataFrame(data=ModelCatalog)\n",
    "df"
   ]
  },
  {
   "cell_type": "code",
   "execution_count": 9,
   "metadata": {},
   "outputs": [
    {
     "data": {
      "text/plain": [
       "4.0"
      ]
     },
     "execution_count": 9,
     "metadata": {},
     "output_type": "execute_result"
    }
   ],
   "source": [
    "float(SizeString.split('K')[0])"
   ]
  },
  {
   "cell_type": "code",
   "execution_count": 4,
   "metadata": {},
   "outputs": [
    {
     "data": {
      "text/plain": [
       "'4.0K'"
      ]
     },
     "execution_count": 4,
     "metadata": {},
     "output_type": "execute_result"
    }
   ],
   "source": [
    "SizeString"
   ]
  },
  {
   "cell_type": "code",
   "execution_count": 22,
   "metadata": {},
   "outputs": [
    {
     "data": {
      "text/plain": [
       "[3050, 3190, 3624, 4082, 4837, 4934, 5817, 6107, 6840, 7693, 8874, 9223, 9329]"
      ]
     },
     "execution_count": 22,
     "metadata": {},
     "output_type": "execute_result"
    }
   ],
   "source": [
    "df.loc[df['Size'] < 1 ].ModelIndex.tolist()"
   ]
  },
  {
   "cell_type": "code",
   "execution_count": 42,
   "metadata": {},
   "outputs": [],
   "source": [
    "for imodel in [3186]:\n",
    "    ModelName = 'LatinSphericalHarmonicsAcousticBall%04d' %imodel\n",
    "    shutil.rmtree('../Runs/%s/output/' %ModelName)\n",
    "    backupdir = glob.glob('../Runs/%s/output*' %ModelName)[0]\n",
    "    os.rename(backupdir, '../Runs/%s/output/' %ModelName)\n",
    "    "
   ]
  },
  {
   "cell_type": "code",
   "execution_count": 34,
   "metadata": {},
   "outputs": [
    {
     "data": {
      "text/plain": [
       "[3624, 4082, 5817, 6107, 9223]"
      ]
     },
     "execution_count": 34,
     "metadata": {},
     "output_type": "execute_result"
    }
   ],
   "source": [
    "# Still ERROR\n",
    "[3186, 3624, 4082, 5817, 6107, 9223, 8609, 8610, 8611, 8612, 8613, 8614, 8615, 8616, 8617, 3309, 4363, 5894, 6419, 9720]"
   ]
  },
  {
   "cell_type": "code",
   "execution_count": 51,
   "metadata": {},
   "outputs": [],
   "source": [
    "for imodel in [3186, 3624, 4082, 5817, 6107, 9223, 8609, 8610, 8611, 8612, 8613, 8614, 8615, 8616, 8617, 3309, 4363, 5894, 6419, 9720]:\n",
    "    ModelName = 'LatinSphericalHarmonicsAcousticBall%04d' %imodel\n",
    "    # shutil.rmtree('../Runs/ERRORRuns/%s/output/' %ModelName)\n",
    "    shutil.move('../Runs/ERRORRuns/%s/input' %ModelName, '../Runs/%s/' %ModelName)\n",
    "    # backupdir = glob.glob('../Runs/%s/output*' %ModelName)[0]\n",
    "    # os.rename(backupdir, '../Runs/%s/output/' %ModelName)"
   ]
  },
  {
   "cell_type": "code",
   "execution_count": 29,
   "metadata": {},
   "outputs": [
    {
     "data": {
      "text/plain": [
       "'LatinSphericalHarmonicsAcousticBall3050'"
      ]
     },
     "execution_count": 29,
     "metadata": {},
     "output_type": "execute_result"
    }
   ],
   "source": [
    "ModeName"
   ]
  },
  {
   "cell_type": "code",
   "execution_count": 47,
   "metadata": {},
   "outputs": [
    {
     "data": {
      "text/html": [
       "<div>\n",
       "<style scoped>\n",
       "    .dataframe tbody tr th:only-of-type {\n",
       "        vertical-align: middle;\n",
       "    }\n",
       "\n",
       "    .dataframe tbody tr th {\n",
       "        vertical-align: top;\n",
       "    }\n",
       "\n",
       "    .dataframe thead th {\n",
       "        text-align: right;\n",
       "    }\n",
       "</style>\n",
       "<table border=\"1\" class=\"dataframe\">\n",
       "  <thead>\n",
       "    <tr style=\"text-align: right;\">\n",
       "      <th></th>\n",
       "      <th>Size</th>\n",
       "      <th>ModelName</th>\n",
       "      <th>ModelIndex</th>\n",
       "    </tr>\n",
       "  </thead>\n",
       "  <tbody>\n",
       "    <tr>\n",
       "      <th>309</th>\n",
       "      <td>40.0</td>\n",
       "      <td>LatinSphericalHarmonicsAcousticBall3309</td>\n",
       "      <td>3309</td>\n",
       "    </tr>\n",
       "    <tr>\n",
       "      <th>1363</th>\n",
       "      <td>43.0</td>\n",
       "      <td>LatinSphericalHarmonicsAcousticBall4363</td>\n",
       "      <td>4363</td>\n",
       "    </tr>\n",
       "    <tr>\n",
       "      <th>2894</th>\n",
       "      <td>40.0</td>\n",
       "      <td>LatinSphericalHarmonicsAcousticBall5894</td>\n",
       "      <td>5894</td>\n",
       "    </tr>\n",
       "    <tr>\n",
       "      <th>3419</th>\n",
       "      <td>43.0</td>\n",
       "      <td>LatinSphericalHarmonicsAcousticBall6419</td>\n",
       "      <td>6419</td>\n",
       "    </tr>\n",
       "    <tr>\n",
       "      <th>6720</th>\n",
       "      <td>32.0</td>\n",
       "      <td>LatinSphericalHarmonicsAcousticBall9720</td>\n",
       "      <td>9720</td>\n",
       "    </tr>\n",
       "  </tbody>\n",
       "</table>\n",
       "</div>"
      ],
      "text/plain": [
       "      Size                                ModelName  ModelIndex\n",
       "309   40.0  LatinSphericalHarmonicsAcousticBall3309        3309\n",
       "1363  43.0  LatinSphericalHarmonicsAcousticBall4363        4363\n",
       "2894  40.0  LatinSphericalHarmonicsAcousticBall5894        5894\n",
       "3419  43.0  LatinSphericalHarmonicsAcousticBall6419        6419\n",
       "6720  32.0  LatinSphericalHarmonicsAcousticBall9720        9720"
      ]
     },
     "execution_count": 47,
     "metadata": {},
     "output_type": "execute_result"
    }
   ],
   "source": [
    "df.loc[(df['Size'] < 45) & (df['Size'] > 20)]"
   ]
  },
  {
   "cell_type": "code",
   "execution_count": 46,
   "metadata": {},
   "outputs": [
    {
     "data": {
      "text/plain": [
       "[3309, 4363, 5894, 6419, 9720]"
      ]
     },
     "execution_count": 46,
     "metadata": {},
     "output_type": "execute_result"
    }
   ],
   "source": [
    "df.loc[(df['Size'] < 45) & (df['Size'] > 20)].ModelIndex.tolist()"
   ]
  },
  {
   "cell_type": "code",
   "execution_count": 3,
   "metadata": {},
   "outputs": [
    {
     "data": {
      "text/plain": [
       "array([   0,    0,    0,    0,    0,    0,    0,    0,    0,    0,    0,\n",
       "          0,    0,    0,    0,    0,    0,    0,    0,    0,    0,    0,\n",
       "          0,    0,    0,    0,    0,    0,    0,    0,    0,    0,    0,\n",
       "          0,    0,    0,    0,    0,    0,    0,    0,    0,    0,    0,\n",
       "          0, 7000])"
      ]
     },
     "execution_count": 3,
     "metadata": {},
     "output_type": "execute_result"
    }
   ],
   "source": [
    "np.bincount(df['Size'])"
   ]
  },
  {
   "cell_type": "code",
   "execution_count": null,
   "metadata": {},
   "outputs": [],
   "source": []
  }
 ],
 "metadata": {
  "kernelspec": {
   "display_name": "Python 3.8.13 ('base')",
   "language": "python",
   "name": "python3"
  },
  "language_info": {
   "codemirror_mode": {
    "name": "ipython",
    "version": 3
   },
   "file_extension": ".py",
   "mimetype": "text/x-python",
   "name": "python",
   "nbconvert_exporter": "python",
   "pygments_lexer": "ipython3",
   "version": "3.8.13"
  },
  "orig_nbformat": 4,
  "vscode": {
   "interpreter": {
    "hash": "b5da1a19760c645bef876c945e2def5171d007c0fd3f14585be32e516ddabd56"
   }
  }
 },
 "nbformat": 4,
 "nbformat_minor": 2
}
