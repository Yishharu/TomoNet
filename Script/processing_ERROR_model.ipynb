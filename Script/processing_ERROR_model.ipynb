{
 "cells": [
  {
   "cell_type": "code",
   "execution_count": 1,
   "metadata": {},
   "outputs": [],
   "source": [
    "import pandas as pd\n",
    "import numpy as np\n",
    "import shutil\n",
    "import os\n",
    "import glob"
   ]
  },
  {
   "cell_type": "code",
   "execution_count": 2,
   "metadata": {},
   "outputs": [
    {
     "data": {
      "text/html": [
       "<div>\n",
       "<style scoped>\n",
       "    .dataframe tbody tr th:only-of-type {\n",
       "        vertical-align: middle;\n",
       "    }\n",
       "\n",
       "    .dataframe tbody tr th {\n",
       "        vertical-align: top;\n",
       "    }\n",
       "\n",
       "    .dataframe thead th {\n",
       "        text-align: right;\n",
       "    }\n",
       "</style>\n",
       "<table border=\"1\" class=\"dataframe\">\n",
       "  <thead>\n",
       "    <tr style=\"text-align: right;\">\n",
       "      <th></th>\n",
       "      <th>Size</th>\n",
       "      <th>ModelName</th>\n",
       "      <th>ModelIndex</th>\n",
       "    </tr>\n",
       "  </thead>\n",
       "  <tbody>\n",
       "    <tr>\n",
       "      <th>0</th>\n",
       "      <td>76.0</td>\n",
       "      <td>LatinSphericalHarmonicsElasticBall0000</td>\n",
       "      <td>0</td>\n",
       "    </tr>\n",
       "    <tr>\n",
       "      <th>1</th>\n",
       "      <td>76.0</td>\n",
       "      <td>LatinSphericalHarmonicsElasticBall0001</td>\n",
       "      <td>1</td>\n",
       "    </tr>\n",
       "    <tr>\n",
       "      <th>2</th>\n",
       "      <td>76.0</td>\n",
       "      <td>LatinSphericalHarmonicsElasticBall0002</td>\n",
       "      <td>2</td>\n",
       "    </tr>\n",
       "    <tr>\n",
       "      <th>3</th>\n",
       "      <td>76.0</td>\n",
       "      <td>LatinSphericalHarmonicsElasticBall0003</td>\n",
       "      <td>3</td>\n",
       "    </tr>\n",
       "    <tr>\n",
       "      <th>4</th>\n",
       "      <td>76.0</td>\n",
       "      <td>LatinSphericalHarmonicsElasticBall0004</td>\n",
       "      <td>4</td>\n",
       "    </tr>\n",
       "    <tr>\n",
       "      <th>...</th>\n",
       "      <td>...</td>\n",
       "      <td>...</td>\n",
       "      <td>...</td>\n",
       "    </tr>\n",
       "    <tr>\n",
       "      <th>9995</th>\n",
       "      <td>76.0</td>\n",
       "      <td>LatinSphericalHarmonicsElasticBall9995</td>\n",
       "      <td>9995</td>\n",
       "    </tr>\n",
       "    <tr>\n",
       "      <th>9996</th>\n",
       "      <td>76.0</td>\n",
       "      <td>LatinSphericalHarmonicsElasticBall9996</td>\n",
       "      <td>9996</td>\n",
       "    </tr>\n",
       "    <tr>\n",
       "      <th>9997</th>\n",
       "      <td>76.0</td>\n",
       "      <td>LatinSphericalHarmonicsElasticBall9997</td>\n",
       "      <td>9997</td>\n",
       "    </tr>\n",
       "    <tr>\n",
       "      <th>9998</th>\n",
       "      <td>76.0</td>\n",
       "      <td>LatinSphericalHarmonicsElasticBall9998</td>\n",
       "      <td>9998</td>\n",
       "    </tr>\n",
       "    <tr>\n",
       "      <th>9999</th>\n",
       "      <td>76.0</td>\n",
       "      <td>LatinSphericalHarmonicsElasticBall9999</td>\n",
       "      <td>9999</td>\n",
       "    </tr>\n",
       "  </tbody>\n",
       "</table>\n",
       "<p>10000 rows × 3 columns</p>\n",
       "</div>"
      ],
      "text/plain": [
       "      Size                               ModelName  ModelIndex\n",
       "0     76.0  LatinSphericalHarmonicsElasticBall0000           0\n",
       "1     76.0  LatinSphericalHarmonicsElasticBall0001           1\n",
       "2     76.0  LatinSphericalHarmonicsElasticBall0002           2\n",
       "3     76.0  LatinSphericalHarmonicsElasticBall0003           3\n",
       "4     76.0  LatinSphericalHarmonicsElasticBall0004           4\n",
       "...    ...                                     ...         ...\n",
       "9995  76.0  LatinSphericalHarmonicsElasticBall9995        9995\n",
       "9996  76.0  LatinSphericalHarmonicsElasticBall9996        9996\n",
       "9997  76.0  LatinSphericalHarmonicsElasticBall9997        9997\n",
       "9998  76.0  LatinSphericalHarmonicsElasticBall9998        9998\n",
       "9999  76.0  LatinSphericalHarmonicsElasticBall9999        9999\n",
       "\n",
       "[10000 rows x 3 columns]"
      ]
     },
     "execution_count": 2,
     "metadata": {},
     "output_type": "execute_result"
    }
   ],
   "source": [
    "# /raid1/TomoNetData/DataSet$ du -hs LatinSphericalHarmonicsAcousticBall* > ../Script/size.txt\n",
    "\n",
    "ModelCatalog = dict()\n",
    "ModelCatalog['Size'] = []\n",
    "ModelCatalog['ModelName'] = []\n",
    "ModelCatalog['ModelIndex'] = []\n",
    "\n",
    "with open(\"./size.txt\", 'r') as f:\n",
    "    for line in f:\n",
    "        SizeString = line.split()[0]\n",
    "        if SizeString.endswith('K'):\n",
    "            Size = float(SizeString.split('K')[0])/1000\n",
    "        elif SizeString.endswith('M'):\n",
    "            Size = float(SizeString.split('M')[0])\n",
    "        ModelName = line.split()[1]\n",
    "        ModelIndex = int(ModelName[-4::])\n",
    "\n",
    "        ModelCatalog['Size'].append(Size)\n",
    "        ModelCatalog['ModelName'].append(ModelName)\n",
    "        ModelCatalog['ModelIndex'].append(ModelIndex)\n",
    "\n",
    "df = pd.DataFrame(data=ModelCatalog)\n",
    "df"
   ]
  },
  {
   "cell_type": "code",
   "execution_count": 9,
   "metadata": {},
   "outputs": [
    {
     "data": {
      "text/plain": [
       "4.0"
      ]
     },
     "execution_count": 9,
     "metadata": {},
     "output_type": "execute_result"
    }
   ],
   "source": [
    "float(SizeString.split('K')[0])"
   ]
  },
  {
   "cell_type": "code",
   "execution_count": 4,
   "metadata": {},
   "outputs": [
    {
     "data": {
      "text/plain": [
       "'4.0K'"
      ]
     },
     "execution_count": 4,
     "metadata": {},
     "output_type": "execute_result"
    }
   ],
   "source": [
    "SizeString"
   ]
  },
  {
   "cell_type": "code",
   "execution_count": 3,
   "metadata": {},
   "outputs": [
    {
     "data": {
      "text/plain": [
       "[4212, 6794, 7174, 9523, 9761]"
      ]
     },
     "execution_count": 3,
     "metadata": {},
     "output_type": "execute_result"
    }
   ],
   "source": [
    "df.loc[df['Size'] < 76 ].ModelIndex.tolist()"
   ]
  },
  {
   "cell_type": "code",
   "execution_count": 42,
   "metadata": {},
   "outputs": [],
   "source": [
    "for imodel in [3186]:\n",
    "    ModelName = 'LatinSphericalHarmonicsAcousticBall%04d' %imodel\n",
    "    shutil.rmtree('../Runs/%s/output/' %ModelName)\n",
    "    backupdir = glob.glob('../Runs/%s/output*' %ModelName)[0]\n",
    "    os.rename(backupdir, '../Runs/%s/output/' %ModelName)\n",
    "    "
   ]
  },
  {
   "cell_type": "code",
   "execution_count": 34,
   "metadata": {},
   "outputs": [
    {
     "data": {
      "text/plain": [
       "[3624, 4082, 5817, 6107, 9223]"
      ]
     },
     "execution_count": 34,
     "metadata": {},
     "output_type": "execute_result"
    }
   ],
   "source": [
    "# Still ERROR\n",
    "[3186, 3624, 4082, 5817, 6107, 9223, 8609, 8610, 8611, 8612, 8613, 8614, 8615, 8616, 8617, 3309, 4363, 5894, 6419, 9720]"
   ]
  },
  {
   "cell_type": "code",
   "execution_count": 51,
   "metadata": {},
   "outputs": [],
   "source": [
    "for imodel in [3186, 3624, 4082, 5817, 6107, 9223, 8609, 8610, 8611, 8612, 8613, 8614, 8615, 8616, 8617, 3309, 4363, 5894, 6419, 9720]:\n",
    "    ModelName = 'LatinSphericalHarmonicsAcousticBall%04d' %imodel\n",
    "    # shutil.rmtree('../Runs/ERRORRuns/%s/output/' %ModelName)\n",
    "    shutil.move('../Runs/ERRORRuns/%s/input' %ModelName, '../Runs/%s/' %ModelName)\n",
    "    # backupdir = glob.glob('../Runs/%s/output*' %ModelName)[0]\n",
    "    # os.rename(backupdir, '../Runs/%s/output/' %ModelName)"
   ]
  },
  {
   "cell_type": "code",
   "execution_count": 4,
   "metadata": {},
   "outputs": [
    {
     "data": {
      "text/html": [
       "<div>\n",
       "<style scoped>\n",
       "    .dataframe tbody tr th:only-of-type {\n",
       "        vertical-align: middle;\n",
       "    }\n",
       "\n",
       "    .dataframe tbody tr th {\n",
       "        vertical-align: top;\n",
       "    }\n",
       "\n",
       "    .dataframe thead th {\n",
       "        text-align: right;\n",
       "    }\n",
       "</style>\n",
       "<table border=\"1\" class=\"dataframe\">\n",
       "  <thead>\n",
       "    <tr style=\"text-align: right;\">\n",
       "      <th></th>\n",
       "      <th>Size</th>\n",
       "      <th>ModelName</th>\n",
       "      <th>ModelIndex</th>\n",
       "    </tr>\n",
       "  </thead>\n",
       "  <tbody>\n",
       "    <tr>\n",
       "      <th>4212</th>\n",
       "      <td>0.004</td>\n",
       "      <td>LatinSphericalHarmonicsElasticBall4212</td>\n",
       "      <td>4212</td>\n",
       "    </tr>\n",
       "    <tr>\n",
       "      <th>6794</th>\n",
       "      <td>0.004</td>\n",
       "      <td>LatinSphericalHarmonicsElasticBall6794</td>\n",
       "      <td>6794</td>\n",
       "    </tr>\n",
       "    <tr>\n",
       "      <th>7174</th>\n",
       "      <td>0.004</td>\n",
       "      <td>LatinSphericalHarmonicsElasticBall7174</td>\n",
       "      <td>7174</td>\n",
       "    </tr>\n",
       "    <tr>\n",
       "      <th>9523</th>\n",
       "      <td>0.004</td>\n",
       "      <td>LatinSphericalHarmonicsElasticBall9523</td>\n",
       "      <td>9523</td>\n",
       "    </tr>\n",
       "    <tr>\n",
       "      <th>9761</th>\n",
       "      <td>0.004</td>\n",
       "      <td>LatinSphericalHarmonicsElasticBall9761</td>\n",
       "      <td>9761</td>\n",
       "    </tr>\n",
       "  </tbody>\n",
       "</table>\n",
       "</div>"
      ],
      "text/plain": [
       "       Size                               ModelName  ModelIndex\n",
       "4212  0.004  LatinSphericalHarmonicsElasticBall4212        4212\n",
       "6794  0.004  LatinSphericalHarmonicsElasticBall6794        6794\n",
       "7174  0.004  LatinSphericalHarmonicsElasticBall7174        7174\n",
       "9523  0.004  LatinSphericalHarmonicsElasticBall9523        9523\n",
       "9761  0.004  LatinSphericalHarmonicsElasticBall9761        9761"
      ]
     },
     "execution_count": 4,
     "metadata": {},
     "output_type": "execute_result"
    }
   ],
   "source": [
    "df.loc[(df['Size'] < 76)]"
   ]
  },
  {
   "cell_type": "code",
   "execution_count": 47,
   "metadata": {},
   "outputs": [
    {
     "data": {
      "text/html": [
       "<div>\n",
       "<style scoped>\n",
       "    .dataframe tbody tr th:only-of-type {\n",
       "        vertical-align: middle;\n",
       "    }\n",
       "\n",
       "    .dataframe tbody tr th {\n",
       "        vertical-align: top;\n",
       "    }\n",
       "\n",
       "    .dataframe thead th {\n",
       "        text-align: right;\n",
       "    }\n",
       "</style>\n",
       "<table border=\"1\" class=\"dataframe\">\n",
       "  <thead>\n",
       "    <tr style=\"text-align: right;\">\n",
       "      <th></th>\n",
       "      <th>Size</th>\n",
       "      <th>ModelName</th>\n",
       "      <th>ModelIndex</th>\n",
       "    </tr>\n",
       "  </thead>\n",
       "  <tbody>\n",
       "    <tr>\n",
       "      <th>309</th>\n",
       "      <td>40.0</td>\n",
       "      <td>LatinSphericalHarmonicsAcousticBall3309</td>\n",
       "      <td>3309</td>\n",
       "    </tr>\n",
       "    <tr>\n",
       "      <th>1363</th>\n",
       "      <td>43.0</td>\n",
       "      <td>LatinSphericalHarmonicsAcousticBall4363</td>\n",
       "      <td>4363</td>\n",
       "    </tr>\n",
       "    <tr>\n",
       "      <th>2894</th>\n",
       "      <td>40.0</td>\n",
       "      <td>LatinSphericalHarmonicsAcousticBall5894</td>\n",
       "      <td>5894</td>\n",
       "    </tr>\n",
       "    <tr>\n",
       "      <th>3419</th>\n",
       "      <td>43.0</td>\n",
       "      <td>LatinSphericalHarmonicsAcousticBall6419</td>\n",
       "      <td>6419</td>\n",
       "    </tr>\n",
       "    <tr>\n",
       "      <th>6720</th>\n",
       "      <td>32.0</td>\n",
       "      <td>LatinSphericalHarmonicsAcousticBall9720</td>\n",
       "      <td>9720</td>\n",
       "    </tr>\n",
       "  </tbody>\n",
       "</table>\n",
       "</div>"
      ],
      "text/plain": [
       "      Size                                ModelName  ModelIndex\n",
       "309   40.0  LatinSphericalHarmonicsAcousticBall3309        3309\n",
       "1363  43.0  LatinSphericalHarmonicsAcousticBall4363        4363\n",
       "2894  40.0  LatinSphericalHarmonicsAcousticBall5894        5894\n",
       "3419  43.0  LatinSphericalHarmonicsAcousticBall6419        6419\n",
       "6720  32.0  LatinSphericalHarmonicsAcousticBall9720        9720"
      ]
     },
     "execution_count": 47,
     "metadata": {},
     "output_type": "execute_result"
    }
   ],
   "source": [
    "df.loc[(df['Size'] < 76) & (df['Size'] > 20)]"
   ]
  },
  {
   "cell_type": "code",
   "execution_count": 46,
   "metadata": {},
   "outputs": [
    {
     "data": {
      "text/plain": [
       "[3309, 4363, 5894, 6419, 9720]"
      ]
     },
     "execution_count": 46,
     "metadata": {},
     "output_type": "execute_result"
    }
   ],
   "source": [
    "df.loc[(df['Size'] < 45) & (df['Size'] > 20)].ModelIndex.tolist()"
   ]
  },
  {
   "cell_type": "code",
   "execution_count": 3,
   "metadata": {},
   "outputs": [
    {
     "data": {
      "text/plain": [
       "array([   0,    0,    0,    0,    0,    0,    0,    0,    0,    0,    0,\n",
       "          0,    0,    0,    0,    0,    0,    0,    0,    0,    0,    0,\n",
       "          0,    0,    0,    0,    0,    0,    0,    0,    0,    0,    0,\n",
       "          0,    0,    0,    0,    0,    0,    0,    0,    0,    0,    0,\n",
       "          0, 7000])"
      ]
     },
     "execution_count": 3,
     "metadata": {},
     "output_type": "execute_result"
    }
   ],
   "source": [
    "np.bincount(df['Size'])"
   ]
  },
  {
   "cell_type": "code",
   "execution_count": 7,
   "metadata": {},
   "outputs": [],
   "source": [
    "for imodel in [1108, 1422, 1441, 1472, 1577, 1981, 2227, 2365, 2482, 2547, 2570, 2675, 2863, 2963, 3348, 3491, 3613, 3800, 3926, 4080,4301,4333,4363,4423,4596,4671,4749,4760,4767,4768,5256,5319,5363,5511,5648,5665,5677,5682,5744,5765,5901,6077,6080,6154,6163,6391,6404,6486,6507,6568,6965,7032,7334,7394,7562,7629,7746,7800,8088,8178,8475,8540,8548,9252,9254,9453,9527,9701,9887]:\n",
    "    ModelName = 'LatinSphericalHarmonicsAcousticBall%04d' %imodel\n",
    "    shutil.move('../Runs/10000LatinSphericalHarmonicsAcousticBall/%s' %ModelName, '../Runs/')"
   ]
  },
  {
   "cell_type": "code",
   "execution_count": 8,
   "metadata": {},
   "outputs": [
    {
     "data": {
      "text/plain": [
       "'333,547,674,681,912,1108,1422,1441,1472,1577,1981,2227,2365,2482,2547,2570,2675,2863,2963,3348,3491,3613,3800,3926,4080,4301,4333,4363,4423,4596,4671,4749,4760,4767,4768,5256,5319,5363,5511,5648,5665,5677,5682,5744,5765,5901,6077,6080,6154,6163,6391,6404,6486,6507,6568,6965,7032,7334,7394,7562,7629,7746,7800,8088,8178,8475,8540,8548,9252,9254,9453,9527,9701,9887'"
      ]
     },
     "execution_count": 8,
     "metadata": {},
     "output_type": "execute_result"
    }
   ],
   "source": [
    "f = open(\"number.txt\", \"r\")\n",
    "error_list = f.read()\n",
    "error_list.replace(\"\\n\", \",\")"
   ]
  },
  {
   "cell_type": "code",
   "execution_count": 16,
   "metadata": {},
   "outputs": [],
   "source": [
    "for imodel in [1387, 2907, 2974, 3430, 3666, 5104, 5794, 7304, 7997, 9444]:\n",
    "    ModelName = 'LatinSphericalHarmonicsAcousticBall%04d' %imodel\n",
    "    # os.mkdir('../ERRORRuns/%s/input/'%ModelName )\n",
    "    os.mkdir('../ERRORRuns/%s/input' %ModelName )\n",
    "\n",
    "    for filepath in glob.glob('../ERRORRuns/%s/*.nc' %ModelName):\n",
    "        shutil.move(filepath, '../ERRORRuns/%s/input/' %ModelName)\n",
    "    for filepath in glob.glob('../ERRORRuns/%s/*.yaml' %ModelName):\n",
    "        shutil.move(filepath, '../ERRORRuns/%s/input/' %ModelName)\n",
    "    for filepath in glob.glob('../ERRORRuns/%s/*.txt' %ModelName):\n",
    "        shutil.move(filepath, '../ERRORRuns/%s/input/' %ModelName)\n",
    "    # shutil.rmtree('../ERRORRuns/%s/input/'%ModelName)"
   ]
  },
  {
   "cell_type": "code",
   "execution_count": 13,
   "metadata": {},
   "outputs": [
    {
     "data": {
      "text/plain": [
       "['../ERRORRuns/LatinSphericalHarmonicsAcousticBall1387/inparam.nr.yaml',\n",
       " '../ERRORRuns/LatinSphericalHarmonicsAcousticBall1387/degree8_random.nc',\n",
       " '../ERRORRuns/LatinSphericalHarmonicsAcousticBall1387/inparam.source.yaml',\n",
       " '../ERRORRuns/LatinSphericalHarmonicsAcousticBall1387/Synthetic_Stations_Ball.txt',\n",
       " '../ERRORRuns/LatinSphericalHarmonicsAcousticBall1387/inparam.output.yaml',\n",
       " '../ERRORRuns/LatinSphericalHarmonicsAcousticBall1387/inparam.advanced.yaml',\n",
       " '../ERRORRuns/LatinSphericalHarmonicsAcousticBall1387/inparam.model.yaml']"
      ]
     },
     "execution_count": 13,
     "metadata": {},
     "output_type": "execute_result"
    }
   ],
   "source": [
    "glob.glob('../ERRORRuns/%s/*' %ModelName)"
   ]
  },
  {
   "cell_type": "code",
   "execution_count": 17,
   "metadata": {},
   "outputs": [
    {
     "data": {
      "text/plain": [
       "'LatinSphericalHarmonicsAcousticBall9444'"
      ]
     },
     "execution_count": 17,
     "metadata": {},
     "output_type": "execute_result"
    }
   ],
   "source": [
    "ModelName"
   ]
  },
  {
   "cell_type": "code",
   "execution_count": 22,
   "metadata": {},
   "outputs": [
    {
     "data": {
      "text/plain": [
       "['../Runs/10000LatinSphericalHarmonicsAcousticBall/LatinSphericalHarmonicsAcousticBall9444/screen.txt',\n",
       " '../Runs/10000LatinSphericalHarmonicsAcousticBall/LatinSphericalHarmonicsAcousticBall9444/input',\n",
       " '../Runs/10000LatinSphericalHarmonicsAcousticBall/LatinSphericalHarmonicsAcousticBall9444/Spherical_Harmonics.pkl']"
      ]
     },
     "execution_count": 22,
     "metadata": {},
     "output_type": "execute_result"
    }
   ],
   "source": [
    "glob.glob('../Runs/10000LatinSphericalHarmonicsAcousticBall/%s/*' %ModelName)"
   ]
  },
  {
   "cell_type": "code",
   "execution_count": null,
   "metadata": {},
   "outputs": [],
   "source": []
  }
 ],
 "metadata": {
  "kernelspec": {
   "display_name": "Python 3.8.13 ('base')",
   "language": "python",
   "name": "python3"
  },
  "language_info": {
   "codemirror_mode": {
    "name": "ipython",
    "version": 3
   },
   "file_extension": ".py",
   "mimetype": "text/x-python",
   "name": "python",
   "nbconvert_exporter": "python",
   "pygments_lexer": "ipython3",
   "version": "3.8.13"
  },
  "orig_nbformat": 4,
  "vscode": {
   "interpreter": {
    "hash": "b5da1a19760c645bef876c945e2def5171d007c0fd3f14585be32e516ddabd56"
   }
  }
 },
 "nbformat": 4,
 "nbformat_minor": 2
}
