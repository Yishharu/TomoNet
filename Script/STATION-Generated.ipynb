{
 "cells": [
  {
   "cell_type": "code",
   "execution_count": 2,
   "metadata": {},
   "outputs": [],
   "source": [
    "import numpy as np\n",
    "import yaml\n",
    "import matplotlib.pyplot as plt\n",
    "\n",
    "# import os"
   ]
  },
  {
   "cell_type": "code",
   "execution_count": 4,
   "metadata": {},
   "outputs": [
    {
     "name": "stdout",
     "output_type": "stream",
     "text": [
      "X0.0Y0.0   SYN        0.0000     0.0000     0.0        0.0       \n",
      "\n",
      "X50.0Y0.0  SYN        50.0000    0.0000     0.0        0.0       \n",
      "\n",
      "X100.0Y0.0 SYN        100.0000   0.0000     0.0        0.0       \n",
      "\n",
      "X150.0Y0.0 SYN        150.0000   0.0000     0.0        0.0       \n",
      "\n",
      "X200.0Y0.0 SYN        200.0000   0.0000     0.0        0.0       \n",
      "\n",
      "X250.0Y0.0 SYN        250.0000   0.0000     0.0        0.0       \n",
      "\n",
      "X300.0Y0.0 SYN        300.0000   0.0000     0.0        0.0       \n",
      "\n",
      "X350.0Y0.0 SYN        350.0000   0.0000     0.0        0.0       \n",
      "\n",
      "X400.0Y0.0 SYN        400.0000   0.0000     0.0        0.0       \n",
      "\n",
      "X450.0Y0.0 SYN        450.0000   0.0000     0.0        0.0       \n",
      "\n",
      "X500.0Y0.0 SYN        500.0000   0.0000     0.0        0.0       \n",
      "\n",
      "X550.0Y0.0 SYN        550.0000   0.0000     0.0        0.0       \n",
      "\n",
      "X600.0Y0.0 SYN        600.0000   0.0000     0.0        0.0       \n",
      "\n",
      "X650.0Y0.0 SYN        650.0000   0.0000     0.0        0.0       \n",
      "\n",
      "X700.0Y0.0 SYN        700.0000   0.0000     0.0        0.0       \n",
      "\n",
      "X750.0Y0.0 SYN        750.0000   0.0000     0.0        0.0       \n",
      "\n",
      "X800.0Y0.0 SYN        800.0000   0.0000     0.0        0.0       \n",
      "\n",
      "X850.0Y0.0 SYN        850.0000   0.0000     0.0        0.0       \n",
      "\n",
      "X900.0Y0.0 SYN        900.0000   0.0000     0.0        0.0       \n",
      "\n",
      "X950.0Y0.0 SYN        950.0000   0.0000     0.0        0.0       \n",
      "\n",
      "X1000.0Y0.0 SYN        1000.0000  0.0000     0.0        0.0       \n",
      "\n",
      "X1050.0Y0.0 SYN        1050.0000  0.0000     0.0        0.0       \n",
      "\n",
      "X1100.0Y0.0 SYN        1100.0000  0.0000     0.0        0.0       \n",
      "\n",
      "X1150.0Y0.0 SYN        1150.0000  0.0000     0.0        0.0       \n",
      "\n",
      "X1200.0Y0.0 SYN        1200.0000  0.0000     0.0        0.0       \n",
      "\n",
      "X1250.0Y0.0 SYN        1250.0000  0.0000     0.0        0.0       \n",
      "\n",
      "X1300.0Y0.0 SYN        1300.0000  0.0000     0.0        0.0       \n",
      "\n",
      "X1350.0Y0.0 SYN        1350.0000  0.0000     0.0        0.0       \n",
      "\n",
      "X1400.0Y0.0 SYN        1400.0000  0.0000     0.0        0.0       \n",
      "\n",
      "X1450.0Y0.0 SYN        1450.0000  0.0000     0.0        0.0       \n",
      "\n",
      "X1500.0Y0.0 SYN        1500.0000  0.0000     0.0        0.0       \n",
      "\n",
      "X1550.0Y0.0 SYN        1550.0000  0.0000     0.0        0.0       \n",
      "\n",
      "X1600.0Y0.0 SYN        1600.0000  0.0000     0.0        0.0       \n",
      "\n",
      "X1650.0Y0.0 SYN        1650.0000  0.0000     0.0        0.0       \n",
      "\n",
      "X1700.0Y0.0 SYN        1700.0000  0.0000     0.0        0.0       \n",
      "\n",
      "X1750.0Y0.0 SYN        1750.0000  0.0000     0.0        0.0       \n",
      "\n",
      "X1800.0Y0.0 SYN        1800.0000  0.0000     0.0        0.0       \n",
      "\n",
      "X1850.0Y0.0 SYN        1850.0000  0.0000     0.0        0.0       \n",
      "\n",
      "X1900.0Y0.0 SYN        1900.0000  0.0000     0.0        0.0       \n",
      "\n"
     ]
    }
   ],
   "source": [
    "# AxiSEM3D file\n",
    "filename = './Synthetic_Stations_Cartesian.txt'\n",
    "# os.remove(filename)\n",
    "\n",
    "with open(filename, 'w+') as f:\n",
    "    \n",
    "    line1 = '# ------------------------------------------------------------------------------\\n'\n",
    "\n",
    "    line2 = '#     name   network            X           Y  useless      depth\\n'\n",
    "    \n",
    "    line3 = '# ------------------------------------------------------------------------------\\n'\n",
    "    f.writelines([line1, line2, line3])\n",
    "    \n",
    "\n",
    "network = 'SYN'\n",
    "\n",
    "depth = 0\n",
    "for X in np.linspace(0,1900,39):\n",
    "    Y = 0\n",
    "\n",
    "    stationname = 'X%.1fY%.1f' %(X, Y)\n",
    "\n",
    "    with open(filename, 'a+') as f:\n",
    "        print('%-10s %-10s %-10.4f %-10.4f %-10.1f %-10.1f\\n'  %(stationname, network, X, Y, 0, depth))\n",
    "        line = '%-10s %-10s %-10.4f %-10.4f %-10.1f %-10.1f\\n'  %(stationname, network, X, Y, 0, depth)\n",
    "        f.write(line)\n"
   ]
  },
  {
   "cell_type": "code",
   "execution_count": null,
   "metadata": {},
   "outputs": [],
   "source": []
  }
 ],
 "metadata": {
  "kernelspec": {
   "display_name": "Python 3.8.13 ('base')",
   "language": "python",
   "name": "python3"
  },
  "language_info": {
   "codemirror_mode": {
    "name": "ipython",
    "version": 3
   },
   "file_extension": ".py",
   "mimetype": "text/x-python",
   "name": "python",
   "nbconvert_exporter": "python",
   "pygments_lexer": "ipython3",
   "version": "3.8.13"
  },
  "vscode": {
   "interpreter": {
    "hash": "b5da1a19760c645bef876c945e2def5171d007c0fd3f14585be32e516ddabd56"
   }
  }
 },
 "nbformat": 4,
 "nbformat_minor": 2
}
