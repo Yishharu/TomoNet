{
 "cells": [
  {
   "cell_type": "code",
   "execution_count": 40,
   "metadata": {},
   "outputs": [],
   "source": [
    "import glob\n",
    "import shutil \n",
    "from netCDF4 import Dataset\n",
    "import numpy as np\n",
    "import os\n",
    "import yaml \n",
    "\n",
    "from obspy.core import Stream, Trace, UTCDateTime, Stats\n",
    "from obspy.core.event import read_events\n",
    "import matplotlib.pyplot as plt\n"
   ]
  },
  {
   "cell_type": "code",
   "execution_count": 7,
   "metadata": {},
   "outputs": [],
   "source": [
    "# read event location\n",
    "with open('../Runs/CartesianStandardRandomModel0005/input/inparam.output.yaml', 'r') as file:\n",
    "    output_yaml = yaml.load(file, Loader=yaml.FullLoader)"
   ]
  },
  {
   "cell_type": "code",
   "execution_count": 8,
   "metadata": {},
   "outputs": [
    {
     "data": {
      "text/plain": [
       "[0, 2.0]"
      ]
     },
     "execution_count": 8,
     "metadata": {},
     "output_type": "execute_result"
    }
   ],
   "source": [
    "output_yaml['list_of_station_groups'][0]['Synthetic_Stations']['temporal']['time_window']\n"
   ]
  },
  {
   "cell_type": "code",
   "execution_count": 37,
   "metadata": {},
   "outputs": [
    {
     "name": "stdout",
     "output_type": "stream",
     "text": [
      "../DataSet/CartesianStandardRandomModel0000/seismogram.nc  set up and saved!\n",
      "../DataSet/CartesianStandardRandomModel0001/seismogram.nc  set up and saved!\n",
      "../DataSet/CartesianStandardRandomModel0002/seismogram.nc  set up and saved!\n",
      "../DataSet/CartesianStandardRandomModel0003/seismogram.nc  set up and saved!\n",
      "../DataSet/CartesianStandardRandomModel0004/seismogram.nc  set up and saved!\n",
      "../DataSet/CartesianStandardRandomModel0005/seismogram.nc  set up and saved!\n",
      "../DataSet/CartesianStandardRandomModel0006/seismogram.nc  set up and saved!\n",
      "../DataSet/CartesianStandardRandomModel0007/seismogram.nc  set up and saved!\n",
      "../DataSet/CartesianStandardRandomModel0008/seismogram.nc  set up and saved!\n",
      "../DataSet/CartesianStandardRandomModel0009/seismogram.nc  set up and saved!\n",
      "../DataSet/CartesianStandardRandomModel0010/seismogram.nc  set up and saved!\n",
      "../DataSet/CartesianStandardRandomModel0011/seismogram.nc  set up and saved!\n",
      "../DataSet/CartesianStandardRandomModel0012/seismogram.nc  set up and saved!\n",
      "../DataSet/CartesianStandardRandomModel0013/seismogram.nc  set up and saved!\n",
      "../DataSet/CartesianStandardRandomModel0014/seismogram.nc  set up and saved!\n",
      "../DataSet/CartesianStandardRandomModel0015/seismogram.nc  set up and saved!\n",
      "../DataSet/CartesianStandardRandomModel0016/seismogram.nc  set up and saved!\n",
      "../DataSet/CartesianStandardRandomModel0017/seismogram.nc  set up and saved!\n",
      "../DataSet/CartesianStandardRandomModel0018/seismogram.nc  set up and saved!\n",
      "../DataSet/CartesianStandardRandomModel0019/seismogram.nc  set up and saved!\n"
     ]
    }
   ],
   "source": [
    "# data dir\n",
    "# ModelNameList = ['CartesianModel0007_5pct','CartesianModel0007_10pct','CartesianModel0007_20pct']\n",
    "ModelNameList = []\n",
    "for imodel in np.arange(0,20):\n",
    "    ModeName = 'CartesianStandardRandomModel%04d' %imodel\n",
    "    ModelNameList.append(ModeName)\n",
    "\n",
    "# wave dimension to animation\n",
    "output_channel = 'X'\n",
    "# wave_dim_s = output_channel.index('s')\n",
    "# wave_dim_p = output_channel.index('p')\n",
    "# wave_dim_z = output_channel.index('z')\n",
    "wave_dim_X = output_channel.index('X')\n",
    "\n",
    "for ModelName in ModelNameList:\n",
    "    # data_dir = '../Runs/%s/output/elements/orthogonal_azimuthal_slices' %ModelName\n",
    "    RunPath = '../Runs/%s' %ModelName\n",
    "\n",
    "    NETCDFDir = '../DataSet/%s' %ModelName\n",
    "    if not os.path.exists(NETCDFDir):\n",
    "        os.mkdir(NETCDFDir)\n",
    "    StationInfo = np.loadtxt(RunPath+'/input/Synthetic_Stations_Cartesian.txt',dtype=str, skiprows=3)\n",
    "    stalatlon_dict = {}\n",
    "    for item in StationInfo:\n",
    "        stkey = item[1]+'.'+item[0]\n",
    "        x = float(item[2])\n",
    "        y = float(item[3])\n",
    "        if stkey not in stalatlon_dict.keys():\n",
    "            stalatlon_dict[stkey] = []\n",
    "        stalatlon_dict[stkey].append((x, y))\n",
    "\n",
    "\n",
    "    StartTime, EndTime = 0, 2.0    # note in Second\n",
    "    resample_rate = 0.02    # note in Second\n",
    "    lowpass_freq = 20    # note in Hz\n",
    "\n",
    "    PointPerTrace = int((EndTime - StartTime)/resample_rate)+1\n",
    "\n",
    "    istation = 0\n",
    "\n",
    "    if os.path.exists(NETCDFDir+'/seismogram.nc'):\n",
    "        os.remove(NETCDFDir+'/seismogram.nc')\n",
    "\n",
    "    nc = Dataset(NETCDFDir+'/seismogram.nc', 'w')\n",
    "    nc.createDimension('npoint', size=PointPerTrace*len(stalatlon_dict))\n",
    "    nc.createVariable('x', float, dimensions=('npoint'))\n",
    "    nc.createVariable('y', float, dimensions=('npoint'))\n",
    "    nc.createVariable('z', float, dimensions=('npoint'))\n",
    "    nc.createVariable('time', float, dimensions=('npoint'))\n",
    "    nc.createVariable('X', float, dimensions=('npoint'))\n",
    "\n",
    "\n",
    "    GSNDir = RunPath + '/output/stations/Synthetic_Stations'\n",
    "\n",
    "    # read rank-station info\n",
    "    rank_station_info = np.loadtxt(GSNDir + '/rank_station.info', dtype=str, skiprows=1)\n",
    "\n",
    "    # dict: mpi-rank -> [station keys]\n",
    "    rank_station_dict = {}\n",
    "    for item in rank_station_info:\n",
    "        rank = item[0]\n",
    "        stkey = item[1]\n",
    "        inrank_index = item[2]\n",
    "        # initialize with an empty array if rank does not exists in rank_station_dict\n",
    "        if rank not in rank_station_dict.keys():\n",
    "            rank_station_dict[rank] = []\n",
    "        # append the station\n",
    "        rank_station_dict[rank].append([stkey, inrank_index])\n",
    "        \n",
    "    # loop over mpi-ranks to read data\n",
    "    for rank in rank_station_dict.keys():\n",
    "        f = Dataset(GSNDir + '/axisem3d_synthetics.nc.rank%s' %rank, 'r')\n",
    "        time = f.variables['data_time'][:]\n",
    "\n",
    "        for [StationName, inrank_index] in rank_station_dict[rank]:\n",
    "            stax = stalatlon_dict[StationName][0][0]\n",
    "            stay = stalatlon_dict[StationName][0][1]\n",
    "            staz = 0\n",
    "\n",
    "            # trace header\n",
    "            stats = Stats()\n",
    "            stats.starttime = UTCDateTime(time[0])\n",
    "            stats.delta = UTCDateTime(time[1] - time[0])\n",
    "            stats.npts = len(time)\n",
    "\n",
    "            # stream\n",
    "            stream = Stream()\n",
    "            for ich, ch in enumerate(output_channel):\n",
    "                stats.channel = ch  \n",
    "                # default unit is km\n",
    "                stream.append(Trace(f.variables['data_wave'][int(inrank_index)][ich], header=stats))\n",
    "\n",
    "\n",
    "            stream.filter('lowpass', freq=lowpass_freq)\n",
    "            stream.resample(1/resample_rate)\n",
    "            # stream = stream.slice(UTCDateTime(int(arrivals[0].time)+StartTime), UTCDateTime(int(arrivals[0].time)+EndTime))\n",
    "            stream = stream.slice(UTCDateTime(StartTime), UTCDateTime(EndTime))\n",
    "            npoint_persta = len(stream[0].data)\n",
    "        \n",
    "            nc['x'][istation*npoint_persta:(istation+1)*npoint_persta] = stax\n",
    "            nc['y'][istation*npoint_persta:(istation+1)*npoint_persta] = stay\n",
    "            nc['z'][istation*npoint_persta:(istation+1)*npoint_persta] = staz\n",
    "\n",
    "            # nc['time'][istation*npoint_persta:(istation+1)*npoint_persta] = stream[0].times() + int(arrivals[0].time) + StartTime\n",
    "            nc['time'][istation*npoint_persta:(istation+1)*npoint_persta] = stream[0].times()\n",
    "\n",
    "            nc['X'][istation*npoint_persta:(istation+1)*npoint_persta] = stream[0].data\n",
    "\n",
    "            istation += 1\n",
    "\n",
    "    nc.close()\n",
    "\n",
    "    print(NETCDFDir+'/seismogram.nc', \" set up and saved!\")"
   ]
  },
  {
   "cell_type": "code",
   "execution_count": 38,
   "metadata": {},
   "outputs": [
    {
     "data": {
      "text/plain": [
       "(array([0.  , 0.02, 0.04, 0.06, 0.08, 0.1 , 0.12, 0.14, 0.16, 0.18, 0.2 ,\n",
       "        0.22, 0.24, 0.26, 0.28, 0.3 , 0.32, 0.34, 0.36, 0.38, 0.4 , 0.42,\n",
       "        0.44, 0.46, 0.48, 0.5 , 0.52, 0.54, 0.56, 0.58, 0.6 , 0.62, 0.64,\n",
       "        0.66, 0.68, 0.7 , 0.72, 0.74, 0.76, 0.78, 0.8 , 0.82, 0.84, 0.86,\n",
       "        0.88, 0.9 , 0.92, 0.94, 0.96, 0.98, 1.  , 1.02, 1.04, 1.06, 1.08,\n",
       "        1.1 , 1.12, 1.14, 1.16, 1.18, 1.2 , 1.22, 1.24, 1.26, 1.28, 1.3 ,\n",
       "        1.32, 1.34, 1.36, 1.38, 1.4 , 1.42, 1.44, 1.46, 1.48, 1.5 , 1.52,\n",
       "        1.54, 1.56, 1.58, 1.6 , 1.62, 1.64, 1.66, 1.68, 1.7 , 1.72, 1.74,\n",
       "        1.76, 1.78, 1.8 , 1.82, 1.84, 1.86, 1.88, 1.9 , 1.92, 1.94, 1.96,\n",
       "        1.98]),\n",
       " array([-3.64149947e-07,  1.05863050e-08, -1.05208282e-11,  3.04232916e-09,\n",
       "         4.92555555e-10,  1.71139593e-09,  5.78350018e-10,  1.24992843e-09,\n",
       "         6.13919738e-10,  1.04977126e-09,  6.45269530e-10,  9.58515290e-10,\n",
       "         6.81238862e-10,  9.23284494e-10,  7.24370123e-10,  9.22314415e-10,\n",
       "         7.76166490e-10,  9.45999436e-10,  8.38265288e-10,  9.90399069e-10,\n",
       "         9.12811148e-10,  1.05473055e-09,  1.00269375e-09,  1.14039736e-09,\n",
       "         1.11182863e-09,  1.25073988e-09,  1.24556648e-09,  1.39123903e-09,\n",
       "         1.41132127e-09,  1.57013701e-09,  1.61955938e-09,  1.79959608e-09,\n",
       "         1.88540009e-09,  2.09770252e-09,  2.23129333e-09,  2.49194567e-09,\n",
       "         2.69168249e-09,  3.02545726e-09,  3.32152567e-09,  3.76876216e-09,\n",
       "         4.21280728e-09,  4.84336048e-09,  5.52894408e-09,  6.47305661e-09,\n",
       "         7.58345225e-09,  9.10816740e-09,  1.10424485e-08,  1.37592830e-08,\n",
       "         1.74569291e-08,  2.29701367e-08,  3.22352547e-08,  5.17792478e-08,\n",
       "         1.19980793e-07,  5.12964041e-07,  2.24952773e-06,  6.62411910e-06,\n",
       "         1.21964390e-05,  1.41124221e-05,  1.05120974e-05,  5.22578388e-06,\n",
       "         1.13308024e-06, -1.74521360e-06, -2.90959123e-06, -2.43373657e-06,\n",
       "        -1.55504231e-06, -9.74553489e-07, -9.35336258e-07, -1.80904312e-06,\n",
       "        -3.84036829e-06, -5.91241345e-06, -5.89528574e-06, -3.89457426e-06,\n",
       "        -2.26948471e-06, -1.89169271e-06, -1.95012972e-06, -1.98172756e-06,\n",
       "        -1.87223796e-06, -1.63363373e-06, -1.34976265e-06, -8.76434262e-07,\n",
       "        -1.60212946e-07,  4.60327080e-07,  6.37680331e-07,  4.72587356e-07,\n",
       "         2.71532542e-07,  1.48451763e-07,  8.69178045e-08,  6.22931047e-08,\n",
       "         6.04219215e-08,  8.29692760e-08,  9.18274718e-08, -2.48327085e-09,\n",
       "        -2.98949074e-07, -7.93060238e-07, -1.31777178e-06, -1.64858874e-06,\n",
       "        -1.72579295e-06, -1.64741088e-06, -1.56757070e-06, -1.16473365e-06]))"
      ]
     },
     "execution_count": 38,
     "metadata": {},
     "output_type": "execute_result"
    }
   ],
   "source": [
    "stream[0].times(), stream[0].data"
   ]
  },
  {
   "cell_type": "markdown",
   "metadata": {},
   "source": [
    "### Plot Seismogram"
   ]
  },
  {
   "cell_type": "code",
   "execution_count": 45,
   "metadata": {},
   "outputs": [
    {
     "data": {
      "text/plain": [
       "Text(0.5, 0, 'Time [s]')"
      ]
     },
     "execution_count": 45,
     "metadata": {},
     "output_type": "execute_result"
    },
    {
     "data": {
      "image/png": "[encoded data removed]",
      "text/plain": [
       "<Figure size 1200x400 with 1 Axes>"
      ]
     },
     "metadata": {},
     "output_type": "display_data"
    }
   ],
   "source": [
    "fig = plt.figure(figsize=(6,2),dpi=200)\n",
    "ax = fig.gca()\n",
    "\n",
    "ax.plot(stream[0].times(), stream[0].data)\n",
    "ax.set_ylabel(\"Potential []\")\n",
    "ax.set_xlabel(\"Time [s]\")\n",
    "\n"
   ]
  },
  {
   "cell_type": "code",
   "execution_count": null,
   "metadata": {},
   "outputs": [],
   "source": [
    "plt.plot(stream[0].times(), stream[0].data)"
   ]
  },
  {
   "cell_type": "code",
   "execution_count": 13,
   "metadata": {},
   "outputs": [
    {
     "data": {
      "text/plain": [
       "...X | 1970-01-01T00:00:00.013522Z - 1970-01-01T00:00:00.013522Z | 20.0 s, 1 samples"
      ]
     },
     "execution_count": 13,
     "metadata": {},
     "output_type": "execute_result"
    }
   ],
   "source": [
    "stream[0]"
   ]
  },
  {
   "cell_type": "code",
   "execution_count": 27,
   "metadata": {},
   "outputs": [
    {
     "data": {
      "text/plain": [
       "(1, 41)"
      ]
     },
     "execution_count": 27,
     "metadata": {},
     "output_type": "execute_result"
    }
   ],
   "source": [
    "npoint_persta, PointPerTrace"
   ]
  },
  {
   "cell_type": "code",
   "execution_count": 21,
   "metadata": {},
   "outputs": [
    {
     "data": {
      "text/plain": [
       "'/raid1/TomoNet/Runs/Sample/model0011/UnifromEarthCore.bm'"
      ]
     },
     "execution_count": 21,
     "metadata": {},
     "output_type": "execute_result"
    }
   ],
   "source": [
    "import shutil\n",
    "# Move netcdf file\n",
    "# shutil.copy(RunPath+'/input/box_tomography.nc',NETCDFDir)\n",
    "shutil.copy(RunPath+'/tools/UnifromEarthCore.bm',NETCDFDir)"
   ]
  }
 ],
 "metadata": {
  "kernelspec": {
   "display_name": "Python 3 (ipykernel)",
   "language": "python",
   "name": "python3"
  },
  "language_info": {
   "codemirror_mode": {
    "name": "ipython",
    "version": 3
   },
   "file_extension": ".py",
   "mimetype": "text/x-python",
   "name": "python",
   "nbconvert_exporter": "python",
   "pygments_lexer": "ipython3",
   "version": "3.8.13"
  },
  "vscode": {
   "interpreter": {
    "hash": "b5da1a19760c645bef876c945e2def5171d007c0fd3f14585be32e516ddabd56"
   }
  }
 },
 "nbformat": 4,
 "nbformat_minor": 2
}
