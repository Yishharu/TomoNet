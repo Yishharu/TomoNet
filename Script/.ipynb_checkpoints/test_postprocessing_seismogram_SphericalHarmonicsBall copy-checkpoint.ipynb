{
 "cells": [
  {
   "cell_type": "code",
   "execution_count": 1,
   "metadata": {},
   "outputs": [],
   "source": [
    "import glob\n",
    "import shutil \n",
    "from netCDF4 import Dataset\n",
    "import numpy as np\n",
    "import os\n",
    "import yaml \n",
    "\n",
    "from obspy.core import Stream, Trace, UTCDateTime, Stats\n",
    "from obspy.core.event import read_events\n",
    "import matplotlib.pyplot as plt\n",
    "\n",
    "import time as tt\n"
   ]
  },
  {
   "cell_type": "code",
   "execution_count": 2,
   "metadata": {},
   "outputs": [],
   "source": [
    "# # read event location\n",
    "# with open('../Runs/CartesianStandardRandomModel0005/input/inparam.output.yaml', 'r') as file:\n",
    "#     output_yaml = yaml.load(file, Loader=yaml.FullLoader)\n",
    "# output_yaml['list_of_station_groups'][0]['Synthetic_Stations']['temporal']['time_window']"
   ]
  },
  {
   "cell_type": "code",
   "execution_count": 3,
   "metadata": {},
   "outputs": [
    {
     "name": "stdout",
     "output_type": "stream",
     "text": [
      "0.0 2.98\n",
      "../DataSet/LatinSphericalHarmonicsAcousticBall3000/seismogram_displacement_SYN.nc  set up and saved!\n"
     ]
    }
   ],
   "source": [
    "# data dir\n",
    "# ModelNameList = ['CartesianModel0007_5pct','CartesianModel0007_10pct','CartesianModel0007_20pct']\n",
    "\n",
    "ModelNameList = []\n",
    "for imodel in [3000]:\n",
    "    ModelName = 'LatinSphericalHarmonicsAcousticBall%04d' %imodel\n",
    "    if os.path.exists('../Runs/%s/output/' %ModelName):\n",
    "        ModelNameList.append(ModelName)\n",
    "\n",
    "# wave dimension to animation\n",
    "output_channel = 'RTZ'\n",
    "wave_dim_1 = output_channel.index('R')\n",
    "wave_dim_2 = output_channel.index('T')\n",
    "wave_dim_3 = output_channel.index('Z')\n",
    "# wave_dim_X = output_channel.index('X')\n",
    "BallRadius = 1000\n",
    "\n",
    "displacement_or_potential = 'displacement'\n",
    "nlat = 37\n",
    "nlon = 37\n",
    "\n",
    "for ModelName in ModelNameList:\n",
    "    # data_dir = '../Runs/%s/output/elements/orthogonal_azimuthal_slices' %ModelName\n",
    "    RunPath = '../Runs/%s' %ModelName\n",
    "\n",
    "    NETCDFDir = '../DataSet/%s' %ModelName\n",
    "    if not os.path.exists(NETCDFDir):\n",
    "        os.mkdir(NETCDFDir)\n",
    "    StationInfo = np.loadtxt(RunPath+'/input/Synthetic_Stations_Ball.txt',dtype=str, skiprows=3)\n",
    "    stalatlon_dict = {}\n",
    "    for AppliedNetwork in ['SYN']:\n",
    "\n",
    "\n",
    "\n",
    "        for item in StationInfo:\n",
    "            # filter out unnecessary newwork\n",
    "            if item[1] != AppliedNetwork:\n",
    "                continue\n",
    "            stkey = item[1]+'.'+item[0]\n",
    "            x = float(item[2])\n",
    "            y = float(item[3])\n",
    "            depth = float(item[5])\n",
    "            if stkey not in stalatlon_dict.keys():\n",
    "                stalatlon_dict[stkey] = []\n",
    "            stalatlon_dict[stkey].append((x, y, depth))\n",
    "\n",
    "        StartTime, EndTime = 0, 3.0    # note in Second\n",
    "        resample_rate = 0.02    # note in Second\n",
    "        lowpass_freq = 20    # note in Hz\n",
    "        PointPerTrace = int((EndTime - StartTime)/resample_rate)\n",
    "\n",
    "        istation = 0\n",
    "\n",
    "        # initial wave & location array\n",
    "        wave_disp = np.ndarray((nlat, nlon, 3, PointPerTrace))\n",
    "        station_coords_cartesian = np.ndarray((nlat, nlon, 3))\n",
    "        station_coords_spherical = np.ndarray((nlat, nlon, 3))\n",
    "\n",
    "\n",
    "        GSNDir = RunPath + '/output/stations/Synthetic_Stations'\n",
    "\n",
    "        # read rank-station info\n",
    "        rank_station_info = np.loadtxt(GSNDir + '/rank_station.info', dtype=str, skiprows=1)\n",
    "\n",
    "        # dict: mpi-rank -> [station keys]\n",
    "        rank_station_dict = {}\n",
    "        for item in rank_station_info:\n",
    "            rank = item[0]\n",
    "            stkey = item[1]\n",
    "            inrank_index = item[2]\n",
    "            # initialize with an empty array if rank does not exists in rank_station_dict\n",
    "            if rank not in rank_station_dict.keys():\n",
    "                rank_station_dict[rank] = []\n",
    "            # append the station\n",
    "            rank_station_dict[rank].append([stkey, inrank_index])\n",
    "        \n",
    "        # loop over mpi-ranks to read data\n",
    "        for rank in rank_station_dict.keys():\n",
    "            f = Dataset(GSNDir + '/axisem3d_synthetics.nc.rank%s' %rank, 'r')\n",
    "            time = f.variables['data_time'][:]\n",
    "\n",
    "\n",
    "            for [StationName, inrank_index] in rank_station_dict[rank]:\n",
    "\n",
    "                if not StationName.startswith(AppliedNetwork):\n",
    "                    continue\n",
    "\n",
    "                lat, lon = stalatlon_dict[StationName][0][0], stalatlon_dict[StationName][0][1]\n",
    "                ilat, ilon = int((lat+90)/5), int((lon+180)/10)\n",
    "                colat = 90 - lat\n",
    "\n",
    "                theta = np.radians(colat)\n",
    "                phi = np.radians(lon)\n",
    "\n",
    "                stadepth = stalatlon_dict[StationName][0][2]\n",
    "\n",
    "                stax = (BallRadius - stadepth)*np.sin(theta)*np.cos(phi)\n",
    "                stay = (BallRadius - stadepth)*np.sin(theta)*np.sin(phi)\n",
    "                staz = (BallRadius - stadepth)*np.cos(theta)\n",
    "\n",
    "                station_coords_cartesian[ilat, ilon,:] = [stax,stay,staz]\n",
    "                station_coords_spherical[ilat, ilon,:] = [BallRadius - stadepth,theta,phi]\n",
    "\n",
    "                # trace header\n",
    "                stats = Stats()\n",
    "                stats.starttime = UTCDateTime(time[0])\n",
    "                stats.delta = UTCDateTime(time[1] - time[0])\n",
    "                stats.npts = len(time)\n",
    "\n",
    "                # stream\n",
    "                stream = Stream()\n",
    "                for ich, ch in enumerate(output_channel):\n",
    "                    stats.channel = ch  \n",
    "                    # default unit is km\n",
    "                    stream.append(Trace(f.variables['data_wave'][int(inrank_index)][ich], header=stats))\n",
    "\n",
    "                stream.filter('lowpass', freq=lowpass_freq)\n",
    "                stream.resample(1/resample_rate)\n",
    "                # stream = stream.slice(UTCDateTime(int(arrivals[0].time)+StartTime), UTCDateTime(int(arrivals[0].time)+EndTime))\n",
    "                stream = stream.slice(UTCDateTime(StartTime), UTCDateTime(EndTime))\n",
    "                # npoint_persta = len(stream[0].data)\n",
    "\n",
    "                # # nc['time'][istation*npoint_persta:(istation+1)*npoint_persta] = stream[0].times() + int(arrivals[0].time) + StartTime\n",
    "                # nc['time'][istation*npoint_persta:(istation+1)*npoint_persta] = stream[0].times()\n",
    "\n",
    "                if displacement_or_potential == 'displacement':\n",
    "                    wave_disp[ilat, ilon, 0, :] = stream[wave_dim_1].data\n",
    "                    wave_disp[ilat, ilon, 1, :] = stream[wave_dim_2].data\n",
    "                    wave_disp[ilat, ilon, 2, :] = stream[wave_dim_3].data\n",
    "                    # nc['disp_x'][istation*npoint_persta:(istation+1)*npoint_persta] = stream[wave_dim_s].data * np.cos(phi) - stream[wave_dim_p].data * np.sin(phi)\n",
    "                    # nc['disp_y'][istation*npoint_persta:(istation+1)*npoint_persta] = stream[wave_dim_s].data * np.sin(phi) + stream[wave_dim_p].data * np.cos(phi)\n",
    "                    # nc['disp_z'][istation*npoint_persta:(istation+1)*npoint_persta] = stream[wave_dim_z].data\n",
    "\n",
    "        ncfilepath = NETCDFDir+'/seismogram_%s_%s.nc' %(displacement_or_potential, AppliedNetwork)\n",
    "\n",
    "        if os.path.exists(ncfilepath):\n",
    "            os.remove(ncfilepath)\n",
    "\n",
    "        nc = Dataset(ncfilepath, 'w')\n",
    "        # nc.createDimension('nstation', size=len(stalatlon_dict))\n",
    "        nc.createDimension('nlat', size=nlat)\n",
    "        nc.createDimension('nlon', size=nlon)\n",
    "        nc.createDimension('ntime', size=PointPerTrace)\n",
    "        nc.createDimension('d3', size=3)\n",
    "\n",
    "        nc.createVariable('station_coords_cartesian', float, dimensions=('nlat','nlon','d3'))\n",
    "        nc['station_coords_cartesian'][:,:,:] = station_coords_cartesian[:,:,:]\n",
    "        nc.createVariable('station_coords_spherical', float, dimensions=('nlat','nlon','d3'))\n",
    "        nc['station_coords_spherical'][:,:,:] = station_coords_spherical[:,:,:]\n",
    "\n",
    "        nc.createVariable('time', float, dimensions=('ntime'))\n",
    "        nc['time'][:] = np.linspace(StartTime, EndTime, PointPerTrace+1)[0:PointPerTrace]\n",
    "\n",
    "        \n",
    "        nc.createVariable('disp', float, dimensions=('nlat','nlon','d3','ntime'))\n",
    "        nc['disp'][:,:,:,:] = wave_disp[:,:,:,:]\n",
    "\n",
    "        nc.close()\n",
    "\n",
    "\n",
    "        print(stream[0].times()[0], stream[0].times()[-1])\n",
    "        print(ncfilepath, \" set up and saved!\")\n",
    "\n",
    "\n",
    "\n",
    "        "
   ]
  },
  {
   "cell_type": "code",
   "execution_count": 4,
   "metadata": {},
   "outputs": [
    {
     "data": {
      "text/plain": [
       "(-1.1245826922246024e-14, 1.0750000362445139e-14)"
      ]
     },
     "execution_count": 4,
     "metadata": {},
     "output_type": "execute_result"
    }
   ],
   "source": [
    "# UR\n",
    "wave_disp[:,:,0,:].min(), wave_disp[:,:,0,:].max()"
   ]
  },
  {
   "cell_type": "code",
   "execution_count": 5,
   "metadata": {},
   "outputs": [
    {
     "data": {
      "text/plain": [
       "(-2.0494957563329865e-26, 2.0468088327085846e-26)"
      ]
     },
     "execution_count": 5,
     "metadata": {},
     "output_type": "execute_result"
    }
   ],
   "source": [
    "# UT\n",
    "wave_disp[:,:,1,:].min(), wave_disp[:,:,1,:].max()"
   ]
  },
  {
   "cell_type": "code",
   "execution_count": 6,
   "metadata": {},
   "outputs": [
    {
     "data": {
      "text/plain": [
       "(-1.2127954493184195e-09, 1.3615641489280476e-09)"
      ]
     },
     "execution_count": 6,
     "metadata": {},
     "output_type": "execute_result"
    }
   ],
   "source": [
    "# UZ\n",
    "wave_disp[:,:,2,:].min(), wave_disp[:,:,2,:].max()"
   ]
  },
  {
   "cell_type": "code",
   "execution_count": 13,
   "metadata": {},
   "outputs": [
    {
     "data": {
      "text/plain": [
       "(1369, 3)"
      ]
     },
     "execution_count": 13,
     "metadata": {},
     "output_type": "execute_result"
    }
   ],
   "source": [
    "np.shape(station_coords_cartesian)"
   ]
  },
  {
   "cell_type": "code",
   "execution_count": 11,
   "metadata": {},
   "outputs": [
    {
     "data": {
      "text/plain": [
       "(37, 37, 3)"
      ]
     },
     "execution_count": 11,
     "metadata": {},
     "output_type": "execute_result"
    }
   ],
   "source": [
    "np.shape(station_coords_cartesian)"
   ]
  },
  {
   "cell_type": "code",
   "execution_count": 10,
   "metadata": {},
   "outputs": [],
   "source": [
    "nc['time'][:] = np.linspace(StartTime, EndTime, PointPerTrace+1)[0:PointPerTrace]"
   ]
  },
  {
   "cell_type": "code",
   "execution_count": 6,
   "metadata": {},
   "outputs": [],
   "source": [
    "station_coords_cartesian = np.ndarray((len(stalatlon_dict), 3))"
   ]
  },
  {
   "cell_type": "code",
   "execution_count": 4,
   "metadata": {},
   "outputs": [
    {
     "data": {
      "text/plain": [
       "37.0"
      ]
     },
     "execution_count": 4,
     "metadata": {},
     "output_type": "execute_result"
    }
   ],
   "source": [
    "np.sqrt(len(stalatlon_dict))"
   ]
  },
  {
   "cell_type": "code",
   "execution_count": 5,
   "metadata": {},
   "outputs": [
    {
     "data": {
      "text/plain": [
       "(75.0, 180.0)"
      ]
     },
     "execution_count": 5,
     "metadata": {},
     "output_type": "execute_result"
    }
   ],
   "source": [
    "lat, lon"
   ]
  },
  {
   "cell_type": "code",
   "execution_count": 8,
   "metadata": {},
   "outputs": [
    {
     "data": {
      "text/plain": [
       "(33, 72)"
      ]
     },
     "execution_count": 8,
     "metadata": {},
     "output_type": "execute_result"
    }
   ],
   "source": [
    "ilat, ilon = int((lat+90)/5), int((lon+180)/5)"
   ]
  },
  {
   "cell_type": "markdown",
   "metadata": {},
   "source": [
    "### Plot Seismogram"
   ]
  },
  {
   "cell_type": "code",
   "execution_count": 5,
   "metadata": {},
   "outputs": [
    {
     "data": {
      "text/plain": [
       "Text(0.5, 0, 'Time [s]')"
      ]
     },
     "execution_count": 5,
     "metadata": {},
     "output_type": "execute_result"
    },
    {
     "data": {
      "image/png": "[encoded data removed]",
      "text/plain": [
       "<Figure size 1200x400 with 1 Axes>"
      ]
     },
     "metadata": {},
     "output_type": "display_data"
    }
   ],
   "source": [
    "fig = plt.figure(figsize=(6,2),dpi=200)\n",
    "ax = fig.gca()\n",
    "\n",
    "ax.plot(stream[0].times(), stream[0].data)\n",
    "ax.set_ylabel(\"Potential []\")\n",
    "ax.set_xlabel(\"Time [s]\")\n",
    "\n"
   ]
  },
  {
   "cell_type": "code",
   "execution_count": 45,
   "metadata": {},
   "outputs": [
    {
     "data": {
      "text/plain": [
       "900.0"
      ]
     },
     "execution_count": 45,
     "metadata": {},
     "output_type": "execute_result"
    }
   ],
   "source": [
    "stax"
   ]
  },
  {
   "cell_type": "code",
   "execution_count": 21,
   "metadata": {},
   "outputs": [
    {
     "data": {
      "text/plain": [
       "'/raid1/TomoNet/Runs/Sample/model0011/UnifromEarthCore.bm'"
      ]
     },
     "execution_count": 21,
     "metadata": {},
     "output_type": "execute_result"
    }
   ],
   "source": [
    "import shutil\n",
    "# Move netcdf file\n",
    "# shutil.copy(RunPath+'/input/box_tomography.nc',NETCDFDir)\n",
    "shutil.copy(RunPath+'/tools/UnifromEarthCore.bm',NETCDFDir)"
   ]
  },
  {
   "cell_type": "code",
   "execution_count": 23,
   "metadata": {},
   "outputs": [],
   "source": [
    "f = Dataset('../DataSet/CartesianStandardRandomModelStrongSparse0018/seismogram_displacement_SYNBOTTOM.nc', 'r')\n",
    "time = f.variables['time'][:]\n",
    "# Potential = f.variables['X'][:]\n",
    "disp_z = f.variables['disp_z'][:]\n",
    "coordx = f.variables['x'][:]\n",
    "coordy = f.variables['y'][:]\n",
    "coorddepth = f.variables['depth'][:]"
   ]
  },
  {
   "cell_type": "code",
   "execution_count": 136,
   "metadata": {},
   "outputs": [
    {
     "data": {
      "text/plain": [
       "(2500,\n",
       " 2500,\n",
       " masked_array(data=[400., 400., 400., 400., 400., 400., 400., 400., 400.,\n",
       "                    400.],\n",
       "              mask=False,\n",
       "        fill_value=1e+20),\n",
       " masked_array(data=[0., 0., 0., 0., 0., 0., 0., 0., 0., 0.],\n",
       "              mask=False,\n",
       "        fill_value=1e+20),\n",
       " masked_array(data=[1000., 1000., 1000., 1000., 1000., 1000., 1000., 1000.,\n",
       "                    1000., 1000.],\n",
       "              mask=False,\n",
       "        fill_value=1e+20))"
      ]
     },
     "execution_count": 136,
     "metadata": {},
     "output_type": "execute_result"
    }
   ],
   "source": [
    "len(time), len(disp_z), coordx[0:10], coordy[0:10], coorddepth[0:10]"
   ]
  },
  {
   "cell_type": "code",
   "execution_count": 24,
   "metadata": {},
   "outputs": [
    {
     "data": {
      "text/plain": [
       "Text(0.5, 0, 'Time [s]')"
      ]
     },
     "execution_count": 24,
     "metadata": {},
     "output_type": "execute_result"
    },
    {
     "data": {
      "image/png": "[encoded data removed]",
      "text/plain": [
       "<Figure size 1200x400 with 1 Axes>"
      ]
     },
     "metadata": {},
     "output_type": "display_data"
    }
   ],
   "source": [
    "fig = plt.figure(figsize=(6,2),dpi=200)\n",
    "ax = fig.gca()\n",
    "\n",
    "# ax.plot(time[0:99], Potential[0:99])\n",
    "ax.plot(time[0:99], disp_z[0:99])\n",
    "ax.set_ylabel(\"Potential []\")\n",
    "ax.set_xlabel(\"Time [s]\")"
   ]
  },
  {
   "cell_type": "code",
   "execution_count": 16,
   "metadata": {},
   "outputs": [
    {
     "data": {
      "text/plain": [
       "masked"
      ]
     },
     "execution_count": 16,
     "metadata": {},
     "output_type": "execute_result"
    }
   ],
   "source": [
    "Potential[-1]"
   ]
  },
  {
   "cell_type": "code",
   "execution_count": null,
   "metadata": {},
   "outputs": [],
   "source": []
  }
 ],
 "metadata": {
  "kernelspec": {
   "display_name": "Python 3 (ipykernel)",
   "language": "python",
   "name": "python3"
  },
  "language_info": {
   "codemirror_mode": {
    "name": "ipython",
    "version": 3
   },
   "file_extension": ".py",
   "mimetype": "text/x-python",
   "name": "python",
   "nbconvert_exporter": "python",
   "pygments_lexer": "ipython3",
   "version": "3.8.13"
  },
  "vscode": {
   "interpreter": {
    "hash": "b5da1a19760c645bef876c945e2def5171d007c0fd3f14585be32e516ddabd56"
   }
  }
 },
 "nbformat": 4,
 "nbformat_minor": 2
}
