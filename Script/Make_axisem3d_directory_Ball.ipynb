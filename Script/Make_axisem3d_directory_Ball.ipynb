{
 "cells": [
  {
   "cell_type": "code",
   "execution_count": 1,
   "metadata": {},
   "outputs": [],
   "source": [
    "from obspy.core.event import read_events\n",
    "import obspy\n",
    "import numpy as np\n",
    "import matplotlib.pyplot as plt\n",
    "import os.path\n",
    "import shutil\n",
    "from obspy import UTCDateTime\n",
    "from netCDF4 import Dataset\n",
    "from matplotlib import cm\n",
    "from skimage.filters import gaussian\n",
    "from mpl_toolkits.basemap import Basemap\n",
    "\n",
    "dpi = 300\n",
    "FigFormat = \"png\""
   ]
  },
  {
   "cell_type": "code",
   "execution_count": 4,
   "metadata": {},
   "outputs": [
    {
     "name": "stdout",
     "output_type": "stream",
     "text": [
      "../Runs/modelballsimple0000  created\n",
      "-0.02744470471116542 0.03522202171824493\n"
     ]
    }
   ],
   "source": [
    "ExampleInputDir = '../Runs/modelball0000/input'\n",
    "\n",
    "for imodel in np.arange(0,1):\n",
    "\n",
    "    ModeName = 'modelballsimple%04d' %imodel\n",
    "    EventParDir='../Runs/%s' %(ModeName)  \n",
    "    if not os.path.exists(EventParDir):\n",
    "        os.makedirs(EventParDir)\n",
    "    print(EventParDir, \" created\")\n",
    "\n",
    "    if not os.path.exists(EventParDir+'/input'):\n",
    "        os.makedirs(EventParDir+'/input')\n",
    "\n",
    "    # # generate random model\n",
    "\n",
    "    # # Our 2-dimensional distribution will be over variables grid_lat and grid_lon\n",
    "    scale = 2\n",
    "    sigma = 1\n",
    "\n",
    "    grid_radius = np.linspace(0, 1000, 5)\n",
    "    grid_lat = np.linspace(-90, 90, 5)\n",
    "    grid_lon = np.linspace(-180, 180, 9)\n",
    "\n",
    "    # Make sure RADISU and Coordinates are ascendingly sorted\n",
    "    grid_radius.sort()\n",
    "    grid_lat.sort()\n",
    "    grid_lon.sort()\n",
    "\n",
    "    GridLAT, GridLON, GridDepth = np.meshgrid(grid_lat, grid_lon, grid_radius, indexing='ij')\n",
    "    # MLtomo_ptb =np.random.normal(loc=0.0, scale=0.05, size=(len(grid_x), len(grid_y), len(depth)))\n",
    "\n",
    "    # random uniform distribution between [0 - 1)\n",
    "    tomorange = 0.1 \n",
    "    MLtomo_ptb = (np.random.rand(len(grid_lat), len(grid_lon), len(grid_radius)) - 0.5)/0.5*tomorange\n",
    "    ## smooth the random model \n",
    "    MLtomo_ptb_smooth = gaussian(MLtomo_ptb, sigma=sigma)\n",
    "    # MLtomo_ptb[:,:,0] = np.zeros(np.shape(MLtomo_ptb[:,:,0]))\n",
    "    print(MLtomo_ptb_smooth.min(), MLtomo_ptb_smooth.max())\n",
    "\n",
    "\n",
    "    # write to file\n",
    "    if os.path.exists(EventParDir+'/input/'+'ball_random_tomo.nc'):\n",
    "        os.remove(EventParDir+'/input/'+'ball_random_tomo.nc')\n",
    "\n",
    "    nc = Dataset(EventParDir+'/input/'+'ball_random_tomo.nc', 'w')\n",
    "    nc.createDimension('nlat', size=len(grid_lat))\n",
    "    nc.createDimension('nlon', size=len(grid_lon))\n",
    "    nc.createDimension('nradius', size=len(grid_radius))\n",
    "    nc.createVariable('latitude', float, dimensions=('nlat'))\n",
    "    nc['latitude'][:] = grid_lat\n",
    "    nc.createVariable('longitude', float, dimensions=('nlon'))\n",
    "    nc['longitude'][:] = grid_lon\n",
    "    nc.createVariable('radius', float, dimensions=('nradius'))\n",
    "    nc['radius'][:] = grid_radius\n",
    "    nc.createVariable('dvp', float, dimensions=('nlat', 'nlon','nradius'))\n",
    "    nc['dvp'][:,:,:] = MLtomo_ptb_smooth[:,:,:]\n",
    "\n",
    "\n",
    "    if imodel == 0:\n",
    "        nc['dvp'][:,:,:] = np.zeros(np.shape(MLtomo_ptb_smooth[:,:,:]))\n",
    "        nc.close()\n",
    "        continue\n",
    "\n",
    "    nc.close()\n",
    "\n",
    "    # shutil.copy(ExampleInputDir+'/TomoNet_LowerMantle__10s.e',EventParDir+'/input/')\n",
    "\n",
    "    shutil.copy(ExampleInputDir+'/inparam.model.yaml',EventParDir+'/input/')\n",
    "\n",
    "    shutil.copy(ExampleInputDir+'/inparam.nr.yaml',EventParDir+'/input/')\n",
    "\n",
    "    shutil.copy(ExampleInputDir+'/inparam.advanced.yaml',EventParDir+'/input/')\n",
    "\n",
    "    shutil.copy(ExampleInputDir+'/inparam.source.yaml',EventParDir+'/input/')\n",
    "    # # update event source\n",
    "    # with open(EventParDir+'/input/inparam.source.yaml','r') as file:\n",
    "    #     filetxt = file.read()\n",
    "    # filetxt = filetxt.replace(\"latitude_longitude: [-56.24, 26.34]\", \"latitude_longitude: [%.2f, %.2f]\" %(EventLat, EventLon))\n",
    "    # filetxt = filetxt.replace(\"depth: 46.56e3\", \"depth: %.1f\" %(EventDepth))\n",
    "    # filetxt = filetxt.replace(\"data: [2.73e23, 9.08e21, -2.82e23, 6.30e22, 1.90e23, 2.16e23]\", \"data: [%e, %e, %e, %e, %e, %e]\"  %(MomentTensor['m_rr'],MomentTensor['m_tt'],MomentTensor['m_pp'],MomentTensor['m_rt'],MomentTensor['m_rp'],MomentTensor['m_tp']))\n",
    "    # with open(EventParDir+'/input/inparam.source.yaml','w') as file:\n",
    "    #     file.write(filetxt)\n",
    "\n",
    "    shutil.copy(ExampleInputDir+'/inparam.output.yaml',EventParDir+'/input/')\n",
    "\n",
    "    # shutil.copy(ExampleInputDir+'/Synthetic_Stations',EventParDir+'/input/')\n",
    "\n"
   ]
  },
  {
   "cell_type": "code",
   "execution_count": 7,
   "metadata": {},
   "outputs": [
    {
     "data": {
      "text/plain": [
       "(-0.04590417695446651, 0.04053691999487109)"
      ]
     },
     "execution_count": 7,
     "metadata": {},
     "output_type": "execute_result"
    }
   ],
   "source": [
    "MLtomo_ptb_smooth.min(), MLtomo_ptb_smooth.max()"
   ]
  },
  {
   "cell_type": "code",
   "execution_count": 8,
   "metadata": {},
   "outputs": [
    {
     "data": {
      "text/plain": [
       "(-0.09998533711018423, 0.09996325148616125)"
      ]
     },
     "execution_count": 8,
     "metadata": {},
     "output_type": "execute_result"
    }
   ],
   "source": [
    "MLtomo_ptb.min(), MLtomo_ptb.max()"
   ]
  },
  {
   "cell_type": "code",
   "execution_count": null,
   "metadata": {},
   "outputs": [],
   "source": []
  }
 ],
 "metadata": {
  "kernelspec": {
   "display_name": "Python 3.8.13 ('base')",
   "language": "python",
   "name": "python3"
  },
  "language_info": {
   "codemirror_mode": {
    "name": "ipython",
    "version": 3
   },
   "file_extension": ".py",
   "mimetype": "text/x-python",
   "name": "python",
   "nbconvert_exporter": "python",
   "pygments_lexer": "ipython3",
   "version": "3.8.13"
  },
  "orig_nbformat": 4,
  "vscode": {
   "interpreter": {
    "hash": "b5da1a19760c645bef876c945e2def5171d007c0fd3f14585be32e516ddabd56"
   }
  }
 },
 "nbformat": 4,
 "nbformat_minor": 2
}
