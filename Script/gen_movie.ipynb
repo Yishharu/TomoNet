{
 "cells": [
  {
   "cell_type": "code",
   "execution_count": 13,
   "metadata": {},
   "outputs": [],
   "source": [
    "import os\n",
    "import pyvtk\n",
    "import numpy as np\n",
    "import xarray as xr\n",
    "import matplotlib.pyplot as plt"
   ]
  },
  {
   "cell_type": "code",
   "execution_count": 14,
   "metadata": {},
   "outputs": [],
   "source": [
    "def read_element_output(data_dir, load_wave_data=True):\n",
    "    ################ open files ################\n",
    "    # filenames\n",
    "    nc_fnames = [f for f in os.listdir(data_dir) if 'axisem3d_synthetics.nc' in f]\n",
    "    print('files to open: ', nc_fnames)\n",
    "\n",
    "    # open files\n",
    "    nc_files = []\n",
    "    for nc_fname in nc_fnames:\n",
    "        nc_files.append(xr.open_dataset(data_dir + '/' + nc_fname))\n",
    "\n",
    "    ################ variables that are the same in the datasets ################\n",
    "    # read Na grid (all azimuthal dimensions)\n",
    "    na_grid = nc_files[0].data_vars['list_na_grid'].values.astype(int)\n",
    "\n",
    "    # read time\n",
    "    data_time = nc_files[0].data_vars['data_time'].values\n",
    "\n",
    "    ################ variables to be concatenated over the datasets ################\n",
    "    # define empty lists of xarray.DataArray objects\n",
    "    xda_list_element_na = []\n",
    "    xda_list_element_coords = []\n",
    "    dict_xda_list_element = {}\n",
    "    dict_xda_data_wave = {}\n",
    "    for nag in na_grid:\n",
    "        dict_xda_list_element[nag] = []\n",
    "        dict_xda_data_wave[nag] = []\n",
    "\n",
    "    # loop over nc files\n",
    "    for nc_file in nc_files:\n",
    "        # append DataArrays\n",
    "        xda_list_element_na.append(nc_file.data_vars['list_element_na'])\n",
    "        xda_list_element_coords.append(nc_file.data_vars['list_element_coords'])\n",
    "        for nag in na_grid:\n",
    "            dict_xda_list_element[nag].append(nc_file.data_vars['list_element__NaG=%d' % nag])\n",
    "            dict_xda_data_wave[nag].append(nc_file.data_vars['data_wave__NaG=%d' % nag])\n",
    "\n",
    "    # concat xarray.DataArray\n",
    "    xda_list_element_na = xr.concat(xda_list_element_na, dim='dim_element')\n",
    "    xda_list_element_coords = xr.concat(xda_list_element_coords, dim='dim_element')\n",
    "    for nag in na_grid:\n",
    "        dict_xda_list_element[nag] = xr.concat(dict_xda_list_element[nag], dim='dim_element__NaG=%d' % nag)\n",
    "        dict_xda_data_wave[nag] = xr.concat(dict_xda_data_wave[nag], dim='dim_element__NaG=%d' % nag)\n",
    "\n",
    "    # read data to numpy.ndarray\n",
    "    list_element_na = xda_list_element_na.values.astype(int)\n",
    "    list_element_coords = xda_list_element_coords.values\n",
    "    dict_list_element = {}\n",
    "    dict_data_wave = {}\n",
    "    for nag in na_grid:\n",
    "        dict_list_element[nag] = dict_xda_list_element[nag].values.astype(int)\n",
    "        if load_wave_data:\n",
    "            dict_data_wave[nag] = dict_xda_data_wave[nag].values\n",
    "\n",
    "    ############### return ################\n",
    "    if load_wave_data:\n",
    "        return na_grid, data_time, list_element_na, list_element_coords, dict_list_element, dict_data_wave\n",
    "    else:\n",
    "        return na_grid, data_time, list_element_na, list_element_coords, dict_list_element, dict_xda_data_wave"
   ]
  },
  {
   "cell_type": "code",
   "execution_count": 15,
   "metadata": {},
   "outputs": [
    {
     "name": "stdout",
     "output_type": "stream",
     "text": [
      "files to open:  ['axisem3d_synthetics.nc.rank4', 'axisem3d_synthetics.nc.rank14', 'axisem3d_synthetics.nc.rank23', 'axisem3d_synthetics.nc.rank22', 'axisem3d_synthetics.nc.rank5', 'axisem3d_synthetics.nc.rank0', 'axisem3d_synthetics.nc.rank18', 'axisem3d_synthetics.nc.rank12', 'axisem3d_synthetics.nc.rank16', 'axisem3d_synthetics.nc.rank1', 'axisem3d_synthetics.nc.rank10', 'axisem3d_synthetics.nc.rank11', 'axisem3d_synthetics.nc.rank3', 'axisem3d_synthetics.nc.rank29', 'axisem3d_synthetics.nc.rank19', 'axisem3d_synthetics.nc.rank30', 'axisem3d_synthetics.nc.rank28', 'axisem3d_synthetics.nc.rank15', 'axisem3d_synthetics.nc.rank20', 'axisem3d_synthetics.nc.rank9', 'axisem3d_synthetics.nc.rank26', 'axisem3d_synthetics.nc.rank7', 'axisem3d_synthetics.nc.rank25', 'axisem3d_synthetics.nc.rank13', 'axisem3d_synthetics.nc.rank31', 'axisem3d_synthetics.nc.rank27', 'axisem3d_synthetics.nc.rank17', 'axisem3d_synthetics.nc.rank2', 'axisem3d_synthetics.nc.rank24', 'axisem3d_synthetics.nc.rank21', 'axisem3d_synthetics.nc.rank6', 'axisem3d_synthetics.nc.rank8']\n"
     ]
    }
   ],
   "source": [
    "# data dir\n",
    "ModelName = 'model0015'\n",
    "data_dir = '../Runs/%s/output/elements/orthogonal_azimuthal_slices' %ModelName\n",
    "\n",
    "# read\n",
    "na_grid, data_time, list_element_na, list_element_coords, \\\n",
    "dict_list_element, dict_data_wave = read_element_output(data_dir)"
   ]
  },
  {
   "cell_type": "code",
   "execution_count": 21,
   "metadata": {},
   "outputs": [
    {
     "name": "stdout",
     "output_type": "stream",
     "text": [
      "Done time step 10 / 10\n",
      "Done slice 1\n"
     ]
    }
   ],
   "source": [
    "\n",
    "\n",
    "# wave dimension to animation\n",
    "wave_channel = 'z'\n",
    "wave_dim = 'spz'.index(wave_channel)\n",
    "\n",
    "# time steps\n",
    "ntime = len(data_time)\n",
    "\n",
    "# phi of the slices\n",
    "phi_slices = np.radians(np.arange(0,360,10))\n",
    "nslice = len(phi_slices)\n",
    "\n",
    "# GLL coords on elementsnslice\n",
    "nelem = list_element_coords.shape[0]\n",
    "ngll = list_element_coords.shape[1]\n",
    "# flattened coords, (s, z)\n",
    "element_coords_sz = list_element_coords.reshape((nelem * ngll), 2)\n",
    "\n",
    "# connectivity list, shared by all slices\n",
    "# with GLL_points_one_edge = [0, 2, 4] in the inparam.output.yaml,\n",
    "# the GLL point layout on each element is\n",
    "# 0--1--2\n",
    "# |  |  |\n",
    "# 3--4--5\n",
    "# |  |  |\n",
    "# 6--7--8\n",
    "connectivity = []\n",
    "for ielem in np.arange(nelem):\n",
    "    start = ielem * 9\n",
    "    connectivity.append([start + 0, start + 1, start + 4, start + 3])\n",
    "    connectivity.append([start + 1, start + 2, start + 5, start + 4])\n",
    "    connectivity.append([start + 3, start + 4, start + 7, start + 6])\n",
    "    connectivity.append([start + 4, start + 5, start + 8, start + 7])\n",
    "\n",
    "# # with GLL_points_one_edge = [0,1,2,3,4] in the inparam.output.yaml,\n",
    "# # the GLL point layout on each element is\n",
    "# # 0--1--2--3--4\n",
    "# # |  |  |\n",
    "# # 5--6--7--8--9\n",
    "# # |  |  |\n",
    "# # 10--11--12--13--14\n",
    "# # 15--16--17--18--19\n",
    "# # 20--21--22--23--24\n",
    "# connectivity = []\n",
    "# for ielem in np.arange(nelem):\n",
    "#     start = ielem * 25\n",
    "#     connectivity.append([start + 0, start + 1, start + 6, start + 5])\n",
    "#     connectivity.append([start + 1, start + 2, start + 7, start + 6])\n",
    "#     connectivity.append([start + 2, start + 3, start + 8, start + 7])\n",
    "#     connectivity.append([start + 3, start + 4, start + 9, start + 8])\n",
    "#     connectivity.append([start + 5, start + 6, start + 11, start + 10])\n",
    "#     connectivity.append([start + 6, start + 7, start + 12, start + 11])\n",
    "#     connectivity.append([start + 7, start + 8, start + 13, start + 12])\n",
    "#     connectivity.append([start + 8, start + 9, start + 14, start + 13])\n",
    "#     connectivity.append([start + 10, start + 11, start + 16, start + 15])\n",
    "#     connectivity.append([start + 11, start + 12, start + 17, start + 16])\n",
    "#     connectivity.append([start + 12, start + 13, start + 18, start + 17])\n",
    "#     connectivity.append([start + 13, start + 14, start + 19, start + 18])\n",
    "#     connectivity.append([start + 15, start + 16, start + 21, start + 20])\n",
    "#     connectivity.append([start + 16, start + 17, start + 22, start + 21])\n",
    "#     connectivity.append([start + 17, start + 18, start + 23, start + 22])\n",
    "#     connectivity.append([start + 18, start + 19, start + 24, start + 23])\n",
    "\n",
    "# loop over slices\n",
    "for islice, phi in enumerate(phi_slices[0:1]):\n",
    "    # create vtk folder\n",
    "    vtk_dir = data_dir + '/vtk/slice%d' % islice\n",
    "    os.makedirs(vtk_dir, exist_ok=True)\n",
    "\n",
    "    # vtk mesh\n",
    "    xyz = np.ndarray((nelem * ngll, 3))\n",
    "    xyz[:, 0] = element_coords_sz[:, 0] * np.cos(phi)\n",
    "    xyz[:, 1] = element_coords_sz[:, 0] * np.sin(phi)\n",
    "    xyz[:, 2] = element_coords_sz[:, 1]\n",
    "    vtk_mesh = pyvtk.UnstructuredGrid(list(zip(xyz[:, 0], xyz[:, 1], xyz[:, 2])),\n",
    "                                      quad=connectivity)\n",
    "\n",
    "    # loop over elements to read wave data\n",
    "    wave = np.ndarray((nelem * ngll, ntime))\n",
    "    for ielem in np.arange(nelem):\n",
    "        wave[(ielem * ngll):(ielem * ngll + ngll), :] = dict_data_wave[nslice][ielem, islice, :, wave_dim, :]\n",
    "\n",
    "    # loop over time to write vtk\n",
    "    for itime in np.arange(ntime):\n",
    "        vtk = pyvtk.VtkData(vtk_mesh, pyvtk.PointData(pyvtk.Scalars(wave[:, itime], name='U' + wave_channel)))\n",
    "        vtk.tofile(vtk_dir + '/' + 'wave%d.vtk' % itime, 'binary')\n",
    "        print('Done time step %d / %d' % (itime + 1, ntime), end='\\r')\n",
    "    print('\\nDone slice %d' % (islice + 1))"
   ]
  },
  {
   "cell_type": "code",
   "execution_count": 22,
   "metadata": {},
   "outputs": [
    {
     "data": {
      "text/plain": [
       "(-1.7053903320629615e-06, 3.9859100070316344e-05)"
      ]
     },
     "execution_count": 22,
     "metadata": {},
     "output_type": "execute_result"
    }
   ],
   "source": [
    "wave.min(), wave.max()"
   ]
  },
  {
   "cell_type": "code",
   "execution_count": 23,
   "metadata": {},
   "outputs": [
    {
     "data": {
      "text/plain": [
       "(6270, 36, 9, 3, 10)"
      ]
     },
     "execution_count": 23,
     "metadata": {},
     "output_type": "execute_result"
    }
   ],
   "source": [
    "np.shape(dict_data_wave[nslice])"
   ]
  },
  {
   "cell_type": "code",
   "execution_count": null,
   "metadata": {},
   "outputs": [],
   "source": []
  }
 ],
 "metadata": {
  "kernelspec": {
   "display_name": "Python 3.8.13 ('base')",
   "language": "python",
   "name": "python3"
  },
  "language_info": {
   "codemirror_mode": {
    "name": "ipython",
    "version": 3
   },
   "file_extension": ".py",
   "mimetype": "text/x-python",
   "name": "python",
   "nbconvert_exporter": "python",
   "pygments_lexer": "ipython3",
   "version": "3.8.13"
  },
  "orig_nbformat": 4,
  "vscode": {
   "interpreter": {
    "hash": "b5da1a19760c645bef876c945e2def5171d007c0fd3f14585be32e516ddabd56"
   }
  }
 },
 "nbformat": 4,
 "nbformat_minor": 2
}
