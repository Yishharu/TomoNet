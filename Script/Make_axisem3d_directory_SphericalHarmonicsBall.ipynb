{
 "cells": [
  {
   "cell_type": "code",
   "execution_count": 9,
   "metadata": {},
   "outputs": [],
   "source": [
    "from obspy.core.event import read_events\n",
    "import obspy\n",
    "import numpy as np\n",
    "import pandas as pd\n",
    "from scipy.special import sph_harm\n",
    "import matplotlib.pyplot as plt\n",
    "import os.path\n",
    "import shutil\n",
    "from obspy import UTCDateTime\n",
    "from netCDF4 import Dataset\n",
    "from matplotlib import cm\n",
    "from skimage.filters import gaussian\n",
    "from mpl_toolkits.basemap import Basemap\n",
    "\n",
    "dpi = 300\n",
    "FigFormat = \"png\""
   ]
  },
  {
   "cell_type": "code",
   "execution_count": 10,
   "metadata": {},
   "outputs": [
    {
     "name": "stdout",
     "output_type": "stream",
     "text": [
      "../Runs/WeakSphericalHarmonicsAcousticBall0000  created\n"
     ]
    },
    {
     "name": "stderr",
     "output_type": "stream",
     "text": [
      "/tmp/ipykernel_594233/244675974.py:100: ComplexWarning: Casting complex values to real discards the imaginary part\n",
      "  TomoSum[:,:] = TomoSum[:,:] + coeff[SlicingDepth][name] * Y_grid\n"
     ]
    },
    {
     "name": "stdout",
     "output_type": "stream",
     "text": [
      "-0.2641129521462666 0.32750490057798004\n",
      "../Runs/WeakSphericalHarmonicsAcousticBall0001  created\n"
     ]
    },
    {
     "name": "stderr",
     "output_type": "stream",
     "text": [
      "/tmp/ipykernel_594233/244675974.py:100: ComplexWarning: Casting complex values to real discards the imaginary part\n",
      "  TomoSum[:,:] = TomoSum[:,:] + coeff[SlicingDepth][name] * Y_grid\n"
     ]
    },
    {
     "name": "stdout",
     "output_type": "stream",
     "text": [
      "-0.2621493122404743 0.24658919864735665\n",
      "../Runs/WeakSphericalHarmonicsAcousticBall0002  created\n"
     ]
    },
    {
     "name": "stderr",
     "output_type": "stream",
     "text": [
      "/tmp/ipykernel_594233/244675974.py:100: ComplexWarning: Casting complex values to real discards the imaginary part\n",
      "  TomoSum[:,:] = TomoSum[:,:] + coeff[SlicingDepth][name] * Y_grid\n"
     ]
    },
    {
     "name": "stdout",
     "output_type": "stream",
     "text": [
      "-0.2492308486936446 0.24491126998942186\n",
      "../Runs/WeakSphericalHarmonicsAcousticBall0003  created\n"
     ]
    },
    {
     "name": "stderr",
     "output_type": "stream",
     "text": [
      "/tmp/ipykernel_594233/244675974.py:100: ComplexWarning: Casting complex values to real discards the imaginary part\n",
      "  TomoSum[:,:] = TomoSum[:,:] + coeff[SlicingDepth][name] * Y_grid\n"
     ]
    },
    {
     "name": "stdout",
     "output_type": "stream",
     "text": [
      "-0.25250477983233005 0.23159685434266614\n",
      "../Runs/WeakSphericalHarmonicsAcousticBall0004  created\n"
     ]
    },
    {
     "name": "stderr",
     "output_type": "stream",
     "text": [
      "/tmp/ipykernel_594233/244675974.py:100: ComplexWarning: Casting complex values to real discards the imaginary part\n",
      "  TomoSum[:,:] = TomoSum[:,:] + coeff[SlicingDepth][name] * Y_grid\n"
     ]
    },
    {
     "name": "stdout",
     "output_type": "stream",
     "text": [
      "-0.21773854136959817 0.25515737844534403\n",
      "../Runs/WeakSphericalHarmonicsAcousticBall0005  created\n"
     ]
    },
    {
     "name": "stderr",
     "output_type": "stream",
     "text": [
      "/tmp/ipykernel_594233/244675974.py:100: ComplexWarning: Casting complex values to real discards the imaginary part\n",
      "  TomoSum[:,:] = TomoSum[:,:] + coeff[SlicingDepth][name] * Y_grid\n"
     ]
    },
    {
     "name": "stdout",
     "output_type": "stream",
     "text": [
      "-0.2761787773267127 0.23574963807833144\n",
      "../Runs/WeakSphericalHarmonicsAcousticBall0006  created\n"
     ]
    },
    {
     "name": "stderr",
     "output_type": "stream",
     "text": [
      "/tmp/ipykernel_594233/244675974.py:100: ComplexWarning: Casting complex values to real discards the imaginary part\n",
      "  TomoSum[:,:] = TomoSum[:,:] + coeff[SlicingDepth][name] * Y_grid\n"
     ]
    },
    {
     "name": "stdout",
     "output_type": "stream",
     "text": [
      "-0.22529812529023638 0.2196159133846425\n",
      "../Runs/WeakSphericalHarmonicsAcousticBall0007  created\n"
     ]
    },
    {
     "name": "stderr",
     "output_type": "stream",
     "text": [
      "/tmp/ipykernel_594233/244675974.py:100: ComplexWarning: Casting complex values to real discards the imaginary part\n",
      "  TomoSum[:,:] = TomoSum[:,:] + coeff[SlicingDepth][name] * Y_grid\n"
     ]
    },
    {
     "name": "stdout",
     "output_type": "stream",
     "text": [
      "-0.24619284217657877 0.2994370451078577\n",
      "../Runs/WeakSphericalHarmonicsAcousticBall0008  created\n"
     ]
    },
    {
     "name": "stderr",
     "output_type": "stream",
     "text": [
      "/tmp/ipykernel_594233/244675974.py:100: ComplexWarning: Casting complex values to real discards the imaginary part\n",
      "  TomoSum[:,:] = TomoSum[:,:] + coeff[SlicingDepth][name] * Y_grid\n"
     ]
    },
    {
     "name": "stdout",
     "output_type": "stream",
     "text": [
      "-0.2211233751429836 0.2832377280837636\n",
      "../Runs/WeakSphericalHarmonicsAcousticBall0009  created\n"
     ]
    },
    {
     "name": "stderr",
     "output_type": "stream",
     "text": [
      "/tmp/ipykernel_594233/244675974.py:100: ComplexWarning: Casting complex values to real discards the imaginary part\n",
      "  TomoSum[:,:] = TomoSum[:,:] + coeff[SlicingDepth][name] * Y_grid\n"
     ]
    },
    {
     "name": "stdout",
     "output_type": "stream",
     "text": [
      "-0.24251289427348688 0.24576874508435606\n",
      "../Runs/WeakSphericalHarmonicsAcousticBall0010  created\n"
     ]
    },
    {
     "name": "stderr",
     "output_type": "stream",
     "text": [
      "/tmp/ipykernel_594233/244675974.py:100: ComplexWarning: Casting complex values to real discards the imaginary part\n",
      "  TomoSum[:,:] = TomoSum[:,:] + coeff[SlicingDepth][name] * Y_grid\n"
     ]
    },
    {
     "name": "stdout",
     "output_type": "stream",
     "text": [
      "-0.2410413750695584 0.2701125133560299\n",
      "../Runs/WeakSphericalHarmonicsAcousticBall0011  created\n"
     ]
    },
    {
     "name": "stderr",
     "output_type": "stream",
     "text": [
      "/tmp/ipykernel_594233/244675974.py:100: ComplexWarning: Casting complex values to real discards the imaginary part\n",
      "  TomoSum[:,:] = TomoSum[:,:] + coeff[SlicingDepth][name] * Y_grid\n"
     ]
    },
    {
     "name": "stdout",
     "output_type": "stream",
     "text": [
      "-0.25923593024870445 0.21978024069467147\n",
      "../Runs/WeakSphericalHarmonicsAcousticBall0012  created\n"
     ]
    },
    {
     "name": "stderr",
     "output_type": "stream",
     "text": [
      "/tmp/ipykernel_594233/244675974.py:100: ComplexWarning: Casting complex values to real discards the imaginary part\n",
      "  TomoSum[:,:] = TomoSum[:,:] + coeff[SlicingDepth][name] * Y_grid\n"
     ]
    },
    {
     "name": "stdout",
     "output_type": "stream",
     "text": [
      "-0.23716319992168838 0.2625124168610896\n",
      "../Runs/WeakSphericalHarmonicsAcousticBall0013  created\n"
     ]
    },
    {
     "name": "stderr",
     "output_type": "stream",
     "text": [
      "/tmp/ipykernel_594233/244675974.py:100: ComplexWarning: Casting complex values to real discards the imaginary part\n",
      "  TomoSum[:,:] = TomoSum[:,:] + coeff[SlicingDepth][name] * Y_grid\n"
     ]
    },
    {
     "name": "stdout",
     "output_type": "stream",
     "text": [
      "-0.26674443071005716 0.24147998192065284\n",
      "../Runs/WeakSphericalHarmonicsAcousticBall0014  created\n"
     ]
    },
    {
     "name": "stderr",
     "output_type": "stream",
     "text": [
      "/tmp/ipykernel_594233/244675974.py:100: ComplexWarning: Casting complex values to real discards the imaginary part\n",
      "  TomoSum[:,:] = TomoSum[:,:] + coeff[SlicingDepth][name] * Y_grid\n"
     ]
    },
    {
     "name": "stdout",
     "output_type": "stream",
     "text": [
      "-0.2547454304744011 0.269095675440035\n",
      "../Runs/WeakSphericalHarmonicsAcousticBall0015  created\n"
     ]
    },
    {
     "name": "stderr",
     "output_type": "stream",
     "text": [
      "/tmp/ipykernel_594233/244675974.py:100: ComplexWarning: Casting complex values to real discards the imaginary part\n",
      "  TomoSum[:,:] = TomoSum[:,:] + coeff[SlicingDepth][name] * Y_grid\n"
     ]
    },
    {
     "name": "stdout",
     "output_type": "stream",
     "text": [
      "-0.22135641753570123 0.24759821768605605\n",
      "../Runs/WeakSphericalHarmonicsAcousticBall0016  created\n"
     ]
    },
    {
     "name": "stderr",
     "output_type": "stream",
     "text": [
      "/tmp/ipykernel_594233/244675974.py:100: ComplexWarning: Casting complex values to real discards the imaginary part\n",
      "  TomoSum[:,:] = TomoSum[:,:] + coeff[SlicingDepth][name] * Y_grid\n"
     ]
    },
    {
     "name": "stdout",
     "output_type": "stream",
     "text": [
      "-0.24045497170559862 0.27669343302976834\n",
      "../Runs/WeakSphericalHarmonicsAcousticBall0017  created\n"
     ]
    },
    {
     "name": "stderr",
     "output_type": "stream",
     "text": [
      "/tmp/ipykernel_594233/244675974.py:100: ComplexWarning: Casting complex values to real discards the imaginary part\n",
      "  TomoSum[:,:] = TomoSum[:,:] + coeff[SlicingDepth][name] * Y_grid\n"
     ]
    },
    {
     "name": "stdout",
     "output_type": "stream",
     "text": [
      "-0.2856253196394841 0.23128614935443978\n",
      "../Runs/WeakSphericalHarmonicsAcousticBall0018  created\n"
     ]
    },
    {
     "name": "stderr",
     "output_type": "stream",
     "text": [
      "/tmp/ipykernel_594233/244675974.py:100: ComplexWarning: Casting complex values to real discards the imaginary part\n",
      "  TomoSum[:,:] = TomoSum[:,:] + coeff[SlicingDepth][name] * Y_grid\n"
     ]
    },
    {
     "name": "stdout",
     "output_type": "stream",
     "text": [
      "-0.24721658566854285 0.300433159948915\n",
      "../Runs/WeakSphericalHarmonicsAcousticBall0019  created\n"
     ]
    },
    {
     "name": "stderr",
     "output_type": "stream",
     "text": [
      "/tmp/ipykernel_594233/244675974.py:100: ComplexWarning: Casting complex values to real discards the imaginary part\n",
      "  TomoSum[:,:] = TomoSum[:,:] + coeff[SlicingDepth][name] * Y_grid\n"
     ]
    },
    {
     "name": "stdout",
     "output_type": "stream",
     "text": [
      "-0.26293583713758656 0.24633921620689345\n"
     ]
    }
   ],
   "source": [
    "ExampleInputDir = '../Runs/ExampleSphericalHarmonicsAcousticBall/input'\n",
    "\n",
    "for imodel in np.arange(0,20):\n",
    "\n",
    "    ModeName = 'WeakSphericalHarmonicsAcousticBall%04d' %imodel\n",
    "    EventParDir='../Runs/%s' %(ModeName)  \n",
    "    if not os.path.exists(EventParDir):\n",
    "        os.makedirs(EventParDir)\n",
    "    print(EventParDir, \" created\")\n",
    "\n",
    "    if not os.path.exists(EventParDir+'/input'):\n",
    "        os.makedirs(EventParDir+'/input')\n",
    "\n",
    "    # copy parameter file\n",
    "    # shutil.copy(ExampleInputDir+'/TomoNet_LowerMantle__10s.e',EventParDir+'/input/')\n",
    "\n",
    "    shutil.copy(ExampleInputDir+'/inparam.model.yaml',EventParDir+'/input/')\n",
    "\n",
    "    shutil.copy(ExampleInputDir+'/inparam.nr.yaml',EventParDir+'/input/')\n",
    "\n",
    "    shutil.copy(ExampleInputDir+'/inparam.advanced.yaml',EventParDir+'/input/')\n",
    "\n",
    "    shutil.copy(ExampleInputDir+'/inparam.source.yaml',EventParDir+'/input/')\n",
    "    # # update event source\n",
    "    # with open(EventParDir+'/input/inparam.source.yaml','r') as file:\n",
    "    #     filetxt = file.read()\n",
    "    # filetxt = filetxt.replace(\"latitude_longitude: [-56.24, 26.34]\", \"latitude_longitude: [%.2f, %.2f]\" %(EventLat, EventLon))\n",
    "    # filetxt = filetxt.replace(\"depth: 46.56e3\", \"depth: %.1f\" %(EventDepth))\n",
    "    # filetxt = filetxt.replace(\"data: [2.73e23, 9.08e21, -2.82e23, 6.30e22, 1.90e23, 2.16e23]\", \"data: [%e, %e, %e, %e, %e, %e]\"  %(MomentTensor['m_rr'],MomentTensor['m_tt'],MomentTensor['m_pp'],MomentTensor['m_rt'],MomentTensor['m_rp'],MomentTensor['m_tp']))\n",
    "    # with open(EventParDir+'/input/inparam.source.yaml','w') as file:\n",
    "    #     file.write(filetxt)\n",
    "\n",
    "    shutil.copy(ExampleInputDir+'/inparam.output.yaml',EventParDir+'/input/')\n",
    "\n",
    "    shutil.copy(ExampleInputDir+'/Synthetic_Stations_Ball.txt',EventParDir+'/input/')\n",
    "\n",
    "    # # generate random model\n",
    "    ### Real spherical harmonics\n",
    "    coeff = {}\n",
    "\n",
    "    ModelCoeff = dict()\n",
    "    ModelCoeff['Depth'] = []\n",
    "    ModelCoeff['l'] = []\n",
    "    ModelCoeff['m'] = []\n",
    "    ModelCoeff['Value'] = []\n",
    "\n",
    "    l_max = 8\n",
    "    tomorange = 0.05\n",
    "    DepthList = [0. , 0.2, 0.4, 0.6, 0.8]\n",
    "\n",
    "    for depth in DepthList:\n",
    "        coeff[depth] = {}\n",
    "        \n",
    "        for l in range(0,l_max+1):\n",
    "\n",
    "            for m in np.arange(-l,l+1):\n",
    "                name = '%s_%s' %(l, m)\n",
    "                # print(l,m)\n",
    "                ModelCoeff['Depth'].append(depth)\n",
    "                ModelCoeff['l'].append(l)\n",
    "                ModelCoeff['m'].append(m)\n",
    "\n",
    "                Val = (np.random.rand()-0.5)/0.5*tomorange  # random uniform distribution between [0 - 1)\n",
    "                ModelCoeff['Value'].append(Val)\n",
    "\n",
    "                coeff[depth][name] = Val       \n",
    "\n",
    "\n",
    "    df = pd.DataFrame(data=ModelCoeff)\n",
    "    df.to_pickle(EventParDir+\"/Spherical_Harmonics.pkl\")\n",
    "\n",
    "    grid_depth = np.array(DepthList)\n",
    "    grid_lat = np.linspace(-90, 90, 181)\n",
    "    grid_lon = np.linspace(-180, 180, 361)\n",
    "\n",
    "    # Make sure RADISU and Coordinates are ascendingly sorted\n",
    "    grid_depth.sort()\n",
    "    grid_lat.sort()\n",
    "    grid_lon.sort()\n",
    "\n",
    "    LON, LAT = np.meshgrid(grid_lon, grid_lat)\n",
    "    MLTomo = np.zeros([len(grid_lat), len(grid_lon), len(grid_depth)])\n",
    "\n",
    "    SlicingDepth = 0.1\n",
    "    for i, SlicingDepth in enumerate(DepthList):\n",
    "        # initiate TomoSum\n",
    "        TomoSum = np.zeros([len(grid_lat),len(grid_lon)])\n",
    "\n",
    "        for l in range(0,l_max+1):\n",
    "            for m in np.arange(-l,l+1):\n",
    "                # print('l, m = ', l, m)\n",
    "                name = '%s_%s' %(l, m)\n",
    "                Y_grid = sph_harm(m, l, np.radians(LON-180), np.radians(90-LAT))\n",
    "\n",
    "                if m < 0:\n",
    "                    Y_grid = np.sqrt(2) * (-1)**(-m) * Y_grid.imag\n",
    "                elif m > 0:\n",
    "                    Y_grid = np.sqrt(2) * (-1)**m * Y_grid.real\n",
    "\n",
    "                TomoSum[:,:] = TomoSum[:,:] + coeff[SlicingDepth][name] * Y_grid\n",
    "        MLTomo[:,:,i] = TomoSum[:,:]\n",
    "    \n",
    "    print(MLTomo.min(), MLTomo.max())\n",
    "\n",
    "    NCName = \"degree8_random.nc\"\n",
    "    # write to file\n",
    "    if os.path.exists(EventParDir+'/input/'+NCName):\n",
    "        os.remove(EventParDir+'/input/'+NCName)\n",
    "\n",
    "    nc = Dataset(EventParDir+'/input/'+NCName, 'w')\n",
    "    nc.createDimension('nlat', size=len(grid_lat))\n",
    "    nc.createDimension('nlon', size=len(grid_lon))\n",
    "    nc.createDimension('ndepth', size=len(grid_depth))\n",
    "    nc.createVariable('latitude', float, dimensions=('nlat'))\n",
    "    nc['latitude'][:] = grid_lat\n",
    "    nc.createVariable('longitude', float, dimensions=('nlon'))\n",
    "    nc['longitude'][:] = grid_lon\n",
    "    nc.createVariable('depth', float, dimensions=('ndepth'))\n",
    "    nc['depth'][:] = grid_depth\n",
    "    nc.createVariable('dvp', float, dimensions=('nlat', 'nlon','ndepth'))\n",
    "    nc['dvp'][:,:,:] = MLTomo[:,:,:]\n",
    "\n",
    "\n",
    "    if imodel == 0:\n",
    "        nc['dvp'][:,:,:] = np.zeros(np.shape(MLTomo[:,:,:]))\n",
    "        nc.close()\n",
    "        continue\n",
    "\n",
    "    nc.close()\n",
    "\n"
   ]
  },
  {
   "cell_type": "code",
   "execution_count": 7,
   "metadata": {},
   "outputs": [
    {
     "data": {
      "text/plain": [
       "(-0.04590417695446651, 0.04053691999487109)"
      ]
     },
     "execution_count": 7,
     "metadata": {},
     "output_type": "execute_result"
    }
   ],
   "source": [
    "MLtomo_ptb_smooth.min(), MLtomo_ptb_smooth.max()"
   ]
  },
  {
   "cell_type": "code",
   "execution_count": 8,
   "metadata": {},
   "outputs": [
    {
     "data": {
      "text/plain": [
       "(-0.09998533711018423, 0.09996325148616125)"
      ]
     },
     "execution_count": 8,
     "metadata": {},
     "output_type": "execute_result"
    }
   ],
   "source": [
    "MLtomo_ptb.min(), MLtomo_ptb.max()"
   ]
  },
  {
   "cell_type": "code",
   "execution_count": null,
   "metadata": {},
   "outputs": [],
   "source": []
  }
 ],
 "metadata": {
  "kernelspec": {
   "display_name": "Python 3.8.13 ('base')",
   "language": "python",
   "name": "python3"
  },
  "language_info": {
   "codemirror_mode": {
    "name": "ipython",
    "version": 3
   },
   "file_extension": ".py",
   "mimetype": "text/x-python",
   "name": "python",
   "nbconvert_exporter": "python",
   "pygments_lexer": "ipython3",
   "version": "3.8.13"
  },
  "orig_nbformat": 4,
  "vscode": {
   "interpreter": {
    "hash": "b5da1a19760c645bef876c945e2def5171d007c0fd3f14585be32e516ddabd56"
   }
  }
 },
 "nbformat": 4,
 "nbformat_minor": 2
}
