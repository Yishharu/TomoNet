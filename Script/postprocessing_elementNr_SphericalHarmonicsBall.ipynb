{
 "cells": [
  {
   "cell_type": "code",
   "execution_count": 1,
   "metadata": {},
   "outputs": [],
   "source": [
    "import os\n",
    "import pyvtk\n",
    "import numpy as np\n",
    "import xarray as xr\n",
    "import matplotlib.pyplot as plt\n",
    "\n",
    "from netCDF4 import Dataset\n",
    "import shutil\n",
    "import glob"
   ]
  },
  {
   "cell_type": "code",
   "execution_count": 2,
   "metadata": {},
   "outputs": [],
   "source": [
    "# The data structure in element-wise output is too complicated for xarray.open_mfdataset.\n",
    "# Here we open the files as individual datasets and concatenate them on the variable level.\n",
    "# This code is compatible with parallel netcdf build (single file output)\n",
    "\n",
    "# load_wave_data=True:  read wave data and return numpy.ndarray\n",
    "# load_wave_data=False: do not read wave data and return xarray.DataArray (use False if data is big)\n",
    "\n",
    "def read_element_output(data_dir, load_wave_data=True):\n",
    "    ################ open files ################\n",
    "    # filenames\n",
    "    nc_fnames = [f for f in os.listdir(data_dir) if 'axisem3d_synthetics.nc' in f]\n",
    "    # print('files to open: ', nc_fnames)\n",
    "\n",
    "    # open files\n",
    "    nc_files = []\n",
    "    for nc_fname in nc_fnames:\n",
    "        nc_files.append(xr.open_dataset(data_dir + '/' + nc_fname))\n",
    "    \n",
    "    ################ variables that are the same in the datasets ################\n",
    "    # read Na grid (all azimuthal dimensions)\n",
    "    na_grid = nc_files[0].data_vars['list_na_grid'].values.astype(int)\n",
    "\n",
    "    # read time\n",
    "    data_time = nc_files[0].data_vars['data_time'].values\n",
    "    \n",
    "    \n",
    "    ################ variables to be concatenated over the datasets ################\n",
    "    # define empty lists of xarray.DataArray objects\n",
    "    xda_list_element_na = []\n",
    "    xda_list_element_coords = []\n",
    "    dict_xda_list_element = {}\n",
    "    dict_xda_data_wave = {}\n",
    "    for nag in na_grid:\n",
    "        dict_xda_list_element[nag] = []\n",
    "        dict_xda_data_wave[nag] = []\n",
    "    \n",
    "    # loop over nc files\n",
    "    for nc_file in nc_files:\n",
    "        # append DataArrays\n",
    "        xda_list_element_na.append(nc_file.data_vars['list_element_na'])\n",
    "        xda_list_element_coords.append(nc_file.data_vars['list_element_coords'])\n",
    "        for nag in na_grid:\n",
    "            dict_xda_list_element[nag].append(nc_file.data_vars['list_element__NaG=%d' % nag])\n",
    "            dict_xda_data_wave[nag].append(nc_file.data_vars['data_wave__NaG=%d' % nag])\n",
    "            \n",
    "    # concat xarray.DataArray\n",
    "    xda_list_element_na = xr.concat(xda_list_element_na, dim='dim_element')\n",
    "    xda_list_element_coords = xr.concat(xda_list_element_coords, dim='dim_element')\n",
    "    for nag in na_grid:\n",
    "        dict_xda_list_element[nag] = xr.concat(dict_xda_list_element[nag], dim='dim_element__NaG=%d' % nag)\n",
    "        dict_xda_data_wave[nag] = xr.concat(dict_xda_data_wave[nag], dim='dim_element__NaG=%d' % nag)\n",
    "        \n",
    "    # read data to numpy.ndarray\n",
    "    list_element_na = xda_list_element_na.values.astype(int)\n",
    "    list_element_coords = xda_list_element_coords.values\n",
    "    dict_list_element = {}\n",
    "    dict_data_wave = {}\n",
    "    for nag in na_grid:\n",
    "        dict_list_element[nag] = dict_xda_list_element[nag].values.astype(int)\n",
    "        if load_wave_data:\n",
    "            dict_data_wave[nag] = dict_xda_data_wave[nag].values\n",
    "        \n",
    "    ############### return ################\n",
    "    if load_wave_data:\n",
    "        return na_grid, data_time, list_element_na, list_element_coords, dict_list_element, dict_data_wave\n",
    "    else:\n",
    "        return na_grid, data_time, list_element_na, list_element_coords, dict_list_element, dict_xda_data_wave"
   ]
  },
  {
   "cell_type": "markdown",
   "metadata": {},
   "source": [
    "# Inplane slices"
   ]
  },
  {
   "cell_type": "markdown",
   "metadata": {},
   "source": [
    "## Read"
   ]
  },
  {
   "cell_type": "code",
   "execution_count": 3,
   "metadata": {},
   "outputs": [
    {
     "name": "stdout",
     "output_type": "stream",
     "text": [
      "../Runs/LatinSphericalHarmonicsAcousticBall3186/output/elements/full_coeff/netcdf_coeff/ ../DataSet/LatinSphericalHarmonicsAcousticBall3186/snapshot_coeff/\n",
      "../Runs/LatinSphericalHarmonicsAcousticBall3624/output/elements/full_coeff/netcdf_coeff/ ../DataSet/LatinSphericalHarmonicsAcousticBall3624/snapshot_coeff/\n",
      "../Runs/LatinSphericalHarmonicsAcousticBall4082/output/elements/full_coeff/netcdf_coeff/ ../DataSet/LatinSphericalHarmonicsAcousticBall4082/snapshot_coeff/\n",
      "../Runs/LatinSphericalHarmonicsAcousticBall5817/output/elements/full_coeff/netcdf_coeff/ ../DataSet/LatinSphericalHarmonicsAcousticBall5817/snapshot_coeff/\n",
      "../Runs/LatinSphericalHarmonicsAcousticBall6107/output/elements/full_coeff/netcdf_coeff/ ../DataSet/LatinSphericalHarmonicsAcousticBall6107/snapshot_coeff/\n",
      "../Runs/LatinSphericalHarmonicsAcousticBall9223/output/elements/full_coeff/netcdf_coeff/ ../DataSet/LatinSphericalHarmonicsAcousticBall9223/snapshot_coeff/\n",
      "../Runs/LatinSphericalHarmonicsAcousticBall8609/output/elements/full_coeff/netcdf_coeff/ ../DataSet/LatinSphericalHarmonicsAcousticBall8609/snapshot_coeff/\n",
      "../Runs/LatinSphericalHarmonicsAcousticBall8610/output/elements/full_coeff/netcdf_coeff/ ../DataSet/LatinSphericalHarmonicsAcousticBall8610/snapshot_coeff/\n",
      "../Runs/LatinSphericalHarmonicsAcousticBall8611/output/elements/full_coeff/netcdf_coeff/ ../DataSet/LatinSphericalHarmonicsAcousticBall8611/snapshot_coeff/\n",
      "../Runs/LatinSphericalHarmonicsAcousticBall8612/output/elements/full_coeff/netcdf_coeff/ ../DataSet/LatinSphericalHarmonicsAcousticBall8612/snapshot_coeff/\n",
      "../Runs/LatinSphericalHarmonicsAcousticBall8613/output/elements/full_coeff/netcdf_coeff/ ../DataSet/LatinSphericalHarmonicsAcousticBall8613/snapshot_coeff/\n",
      "../Runs/LatinSphericalHarmonicsAcousticBall8614/output/elements/full_coeff/netcdf_coeff/ ../DataSet/LatinSphericalHarmonicsAcousticBall8614/snapshot_coeff/\n",
      "../Runs/LatinSphericalHarmonicsAcousticBall8615/output/elements/full_coeff/netcdf_coeff/ ../DataSet/LatinSphericalHarmonicsAcousticBall8615/snapshot_coeff/\n",
      "../Runs/LatinSphericalHarmonicsAcousticBall8616/output/elements/full_coeff/netcdf_coeff/ ../DataSet/LatinSphericalHarmonicsAcousticBall8616/snapshot_coeff/\n",
      "../Runs/LatinSphericalHarmonicsAcousticBall8617/output/elements/full_coeff/netcdf_coeff/ ../DataSet/LatinSphericalHarmonicsAcousticBall8617/snapshot_coeff/\n",
      "../Runs/LatinSphericalHarmonicsAcousticBall3309/output/elements/full_coeff/netcdf_coeff/ ../DataSet/LatinSphericalHarmonicsAcousticBall3309/snapshot_coeff/\n",
      "../Runs/LatinSphericalHarmonicsAcousticBall4363/output/elements/full_coeff/netcdf_coeff/ ../DataSet/LatinSphericalHarmonicsAcousticBall4363/snapshot_coeff/\n",
      "../Runs/LatinSphericalHarmonicsAcousticBall5894/output/elements/full_coeff/netcdf_coeff/ ../DataSet/LatinSphericalHarmonicsAcousticBall5894/snapshot_coeff/\n",
      "../Runs/LatinSphericalHarmonicsAcousticBall6419/output/elements/full_coeff/netcdf_coeff/ ../DataSet/LatinSphericalHarmonicsAcousticBall6419/snapshot_coeff/\n",
      "../Runs/LatinSphericalHarmonicsAcousticBall9720/output/elements/full_coeff/netcdf_coeff/ ../DataSet/LatinSphericalHarmonicsAcousticBall9720/snapshot_coeff/\n"
     ]
    }
   ],
   "source": [
    "# data dir\n",
    "# ModelNameList = ['model0021']\n",
    "ModelNameList = []\n",
    "for imodel in [3186, 3624, 4082, 5817, 6107, 9223, 8609, 8610, 8611, 8612, 8613, 8614, 8615, 8616, 8617, 3309, 4363, 5894, 6419, 9720]:\n",
    "    ModeName = 'LatinSphericalHarmonicsAcousticBall%04d' %imodel\n",
    "    ModelNameList.append(ModeName)\n",
    "    \n",
    "# wave dimension to animation\n",
    "output_channel = 'X'\n",
    "wave_dim_X = output_channel.index('X')\n",
    "\n",
    "# output_channel = 'Xspz'\n",
    "# wave_dim_s = output_channel.index('s')\n",
    "# wave_dim_p = output_channel.index('p')\n",
    "# wave_dim_z = output_channel.index('z')\n",
    "# wave_dim_X = output_channel.index('X')\n",
    "\n",
    "for ModelName in ModelNameList:\n",
    "    data_dir = '../Runs/%s/output/elements/full_coeff' %ModelName\n",
    "    \n",
    "    if not os.path.exists(data_dir):\n",
    "        print('ERROR %s not found' %data_dir)\n",
    "        continue\n",
    "    \n",
    "    # read\n",
    "    na_grid, data_time, list_element_na, list_element_coords, \\\n",
    "    dict_list_element, dict_data_wave = read_element_output(data_dir)\n",
    "\n",
    "        # print(ModelName, \"reading error!!!!!\")\n",
    "        # continue\n",
    "\n",
    "    # time steps\n",
    "    ntime = len(data_time)\n",
    "\n",
    "    # # phi of the slices\n",
    "    nag = na_grid[0]\n",
    "\n",
    "    # GLL coords on elements\n",
    "    nelem = list_element_coords.shape[0]\n",
    "    ngll = list_element_coords.shape[1]\n",
    "    # flattened coords, (s, z)\n",
    "    element_coords_sz = list_element_coords.reshape((nelem * ngll), 2)\n",
    "\n",
    "    # # save element_coords_sz\n",
    "    # element_coords_sz\n",
    "\n",
    "    wave_X = np.ndarray((nag, nelem * ngll))\n",
    "\n",
    "    for itime in np.arange(ntime):\n",
    "\n",
    "        for ielem in np.arange(nelem):\n",
    "            wave_X[:, (ielem * ngll):(ielem * ngll + ngll)] = dict_data_wave[nag][ielem, :, :, wave_dim_X, itime]\n",
    "\n",
    "\n",
    "        # make slice for phi\n",
    "        NETCDFDir = data_dir + '/netcdf_coeff'\n",
    "        os.makedirs(NETCDFDir, exist_ok=True)\n",
    "\n",
    "        nc = Dataset(NETCDFDir+'/phi_coef_time%d.nc' %itime, 'w')\n",
    "        nc.createDimension('npoint', size=nelem * ngll)\n",
    "        nc.createDimension('Nr_Dim', size=nag)\n",
    "        nc.createDimension('d2', size=2)\n",
    "        # nc.createDimension('ntime', size=ntime)\n",
    "\n",
    "        nc.createVariable('element_coords_sz', float, dimensions=('npoint','d2'))\n",
    "        nc['element_coords_sz'][:] = element_coords_sz[:]\n",
    "        # nc.createVariable('time', float, dimensions=('ntime'))\n",
    "        # nc['time'][:] = data_time[:]\n",
    "\n",
    "        nc.createVariable('X_coef', float, dimensions=('Nr_Dim', 'npoint'))\n",
    "        nc['X_coef'][:] = wave_X[:]\n",
    "\n",
    "        nc.close()\n",
    "\n",
    "    # # Check Repeated Dataset\n",
    "    # if os.path.exists('../DataSet/%s/' %ModelName):\n",
    "    #     shutil.rmtree('../DataSet/%s/' %ModelName)\n",
    "\n",
    "    # Initial Model Folder\n",
    "    os.makedirs('../DataSet/%s/' %ModelName, exist_ok=True)\n",
    "\n",
    "    # Make time info file\n",
    "    if os.path.exists('../DataSet/%s/time_info.nc' %ModelName):\n",
    "        os.remove('../DataSet/%s/time_info.nc' %ModelName)\n",
    "    nc = Dataset('../DataSet/%s/time_info.nc' %ModelName, 'w')\n",
    "    nc.createDimension('ntime', size=ntime)\n",
    "    nc.createVariable('time', float, dimensions=('ntime'))\n",
    "    nc['time'][:] = data_time[:]\n",
    "\n",
    "    # Check 3D model nc file\n",
    "    NCFilePath = glob.glob('../Runs/%s/input/*.nc' %ModelName)\n",
    "    if len(NCFilePath) > 0:\n",
    "        for path in NCFilePath:\n",
    "            shutil.copy(path, '../DataSet/%s/' %ModelName)\n",
    "    # Move Spherical Harmonics Paramters\n",
    "    SphericalHarmonicsPath = glob.glob('../Runs/%s/Spherical_Harmonics.pkl' %ModelName)[0]\n",
    "    shutil.copy(SphericalHarmonicsPath, '../DataSet/%s/' %ModelName)\n",
    "\n",
    "    target_dir = '../DataSet/%s/snapshot_coeff/' %ModelName\n",
    "    if os.path.exists(target_dir):\n",
    "        shutil.rmtree(target_dir)\n",
    "    shutil.move(data_dir + '/netcdf_coeff/', target_dir)\n",
    "\n",
    "    print(data_dir + '/netcdf_coeff/', target_dir)"
   ]
  },
  {
   "cell_type": "code",
   "execution_count": 9,
   "metadata": {},
   "outputs": [
    {
     "data": {
      "text/plain": [
       "array([0.0748784, 0.2747896, 0.4747008, 0.674612 , 0.8745232, 1.0744344,\n",
       "       1.2743456, 1.4742568, 1.674168 , 1.8740792, 2.0739904, 2.2739016,\n",
       "       2.4738128, 2.673724 , 2.8736352])"
      ]
     },
     "execution_count": 9,
     "metadata": {},
     "output_type": "execute_result"
    }
   ],
   "source": [
    "data_time"
   ]
  },
  {
   "cell_type": "code",
   "execution_count": 27,
   "metadata": {},
   "outputs": [
    {
     "data": {
      "text/plain": [
       "array([ 3.17100799e-08, -5.53862955e-09, -9.56091117e-09,  4.23856894e-10,\n",
       "        1.93133931e-09,  3.39408723e-10, -2.14357074e-10, -2.58024487e-11,\n",
       "       -1.94617603e-11,  1.30911636e-11, -3.95640222e-11, -7.43270202e-12,\n",
       "        2.94443636e-11,  1.28083603e-11, -7.14774333e-12, -1.02439940e-11])"
      ]
     },
     "execution_count": 27,
     "metadata": {},
     "output_type": "execute_result"
    }
   ],
   "source": [
    "wave_X[:,10]"
   ]
  },
  {
   "cell_type": "code",
   "execution_count": 20,
   "metadata": {},
   "outputs": [
    {
     "name": "stdout",
     "output_type": "stream",
     "text": [
      "(3648, 16)\n"
     ]
    }
   ],
   "source": [
    "        # make slice for phi\n",
    "        NETCDFDir = data_dir + '/netcdf'\n",
    "        os.makedirs(NETCDFDir, exist_ok=True)\n",
    "\n",
    "        nc = Dataset(NETCDFDir+'/phi_coef_time%d.nc' %itime, 'w')\n",
    "        nc.createDimension('npoint', size=nelem * ngll)\n",
    "        nc.createDimension('Nr_Dim', size=nag)\n",
    "\n",
    "        # nc.createVariable('x', float, dimensions=('npoint'))\n",
    "        # nc['x'][:] = xyz[:,0]\n",
    "        # nc.createVariable('y', float, dimensions=('npoint'))\n",
    "        # nc['y'][:] = xyz[:,1]\n",
    "        # nc.createVariable('z', float, dimensions=('npoint'))\n",
    "        # nc['z'][:] = xyz[:,2]\n",
    "        # nc.createVariable('time', float, dimensions=('npoint'))\n",
    "        # nc['time'][:] = np.ones(len(xyz))*data_time[itime]\n",
    "\n",
    "        nc.createVariable('X', float, dimensions=('npoint','Nr_Dim'))\n",
    "        print(np.shape(nc['X'][:]))\n",
    "        nc['X'][:] = wave_X"
   ]
  },
  {
   "cell_type": "code",
   "execution_count": 29,
   "metadata": {},
   "outputs": [
    {
     "data": {
      "text/plain": [
       "(-987.4046669297907, 987.4046669297908)"
      ]
     },
     "execution_count": 29,
     "metadata": {},
     "output_type": "execute_result"
    }
   ],
   "source": [
    "element_coords_sz[:,1].min(), element_coords_sz[:,1].max()"
   ]
  },
  {
   "cell_type": "code",
   "execution_count": 6,
   "metadata": {},
   "outputs": [
    {
     "data": {
      "text/plain": [
       "(3648, 16, 15)"
      ]
     },
     "execution_count": 6,
     "metadata": {},
     "output_type": "execute_result"
    }
   ],
   "source": [
    "np.shape(wave_X)"
   ]
  },
  {
   "cell_type": "code",
   "execution_count": 5,
   "metadata": {},
   "outputs": [
    {
     "data": {
      "text/plain": [
       "(3648, 2)"
      ]
     },
     "execution_count": 5,
     "metadata": {},
     "output_type": "execute_result"
    }
   ],
   "source": [
    "np.shape(element_coords_sz)"
   ]
  },
  {
   "cell_type": "code",
   "execution_count": 6,
   "metadata": {},
   "outputs": [
    {
     "data": {
      "text/plain": [
       "(15,)"
      ]
     },
     "execution_count": 6,
     "metadata": {},
     "output_type": "execute_result"
    }
   ],
   "source": [
    "np.shape(data_time)"
   ]
  },
  {
   "cell_type": "code",
   "execution_count": 7,
   "metadata": {},
   "outputs": [
    {
     "data": {
      "text/plain": [
       "(3648, 5)"
      ]
     },
     "execution_count": 7,
     "metadata": {},
     "output_type": "execute_result"
    }
   ],
   "source": [
    "np.shape(list_element_na)"
   ]
  },
  {
   "cell_type": "code",
   "execution_count": 8,
   "metadata": {},
   "outputs": [
    {
     "data": {
      "text/plain": [
       "(3648, 1, 2)"
      ]
     },
     "execution_count": 8,
     "metadata": {},
     "output_type": "execute_result"
    }
   ],
   "source": [
    "np.shape(list_element_coords)"
   ]
  },
  {
   "cell_type": "code",
   "execution_count": 9,
   "metadata": {},
   "outputs": [
    {
     "data": {
      "text/plain": [
       "()"
      ]
     },
     "execution_count": 9,
     "metadata": {},
     "output_type": "execute_result"
    }
   ],
   "source": [
    "np.shape(dict_list_element)"
   ]
  },
  {
   "cell_type": "code",
   "execution_count": 10,
   "metadata": {},
   "outputs": [
    {
     "data": {
      "text/plain": [
       "()"
      ]
     },
     "execution_count": 10,
     "metadata": {},
     "output_type": "execute_result"
    }
   ],
   "source": [
    "np.shape(dict_data_wave)"
   ]
  },
  {
   "cell_type": "code",
   "execution_count": 24,
   "metadata": {},
   "outputs": [
    {
     "ename": "NameError",
     "evalue": "name 'ielem' is not defined",
     "output_type": "error",
     "traceback": [
      "\u001b[0;31m---------------------------------------------------------------------------\u001b[0m",
      "\u001b[0;31mNameError\u001b[0m                                 Traceback (most recent call last)",
      "Cell \u001b[0;32mIn[24], line 2\u001b[0m\n\u001b[1;32m      1\u001b[0m dict_data_wave[\u001b[38;5;241m16\u001b[39m][\u001b[38;5;241m10\u001b[39m, \u001b[38;5;241m0\u001b[39m, :, \u001b[38;5;241m0\u001b[39m, :]\n\u001b[0;32m----> 2\u001b[0m wave_X[(ielem \u001b[38;5;241m*\u001b[39m ngll):(ielem \u001b[38;5;241m*\u001b[39m ngll \u001b[38;5;241m+\u001b[39m ngll), :] \u001b[38;5;241m=\u001b[39m dict_data_wave[nag][\u001b[43mielem\u001b[49m, \u001b[38;5;241m0\u001b[39m, :, wave_dim_X, :]\n\u001b[1;32m      5\u001b[0m nag \u001b[38;5;241m=\u001b[39m \u001b[38;5;241m16\u001b[39m\n\u001b[1;32m      7\u001b[0m dict_data_wave[nag][\u001b[38;5;241m10\u001b[39m, \u001b[38;5;241m0\u001b[39m, :, \u001b[38;5;241m0\u001b[39m, :]\n",
      "\u001b[0;31mNameError\u001b[0m: name 'ielem' is not defined"
     ]
    }
   ],
   "source": [
    "dict_data_wave[16][10, 0, :, 0, :]\n",
    "wave_X[(ielem * ngll):(ielem * ngll + ngll), :] = dict_data_wave[nag][0, 0, :, wave_dim_X, :]\n",
    "        \n",
    "\n",
    "nag = 16\n",
    "\n",
    "dict_data_wave[nag][10, 0, :, 0, :]"
   ]
  },
  {
   "cell_type": "code",
   "execution_count": 37,
   "metadata": {},
   "outputs": [
    {
     "data": {
      "text/plain": [
       "(16, 1)"
      ]
     },
     "execution_count": 37,
     "metadata": {},
     "output_type": "execute_result"
    }
   ],
   "source": [
    "ielem = 10\n",
    "itime = 10\n",
    "np.shape(dict_data_wave[nag][ielem, :, :, wave_dim_X, itime])"
   ]
  }
 ],
 "metadata": {
  "kernelspec": {
   "display_name": "Python 3 (ipykernel)",
   "language": "python",
   "name": "python3"
  },
  "language_info": {
   "codemirror_mode": {
    "name": "ipython",
    "version": 3
   },
   "file_extension": ".py",
   "mimetype": "text/x-python",
   "name": "python",
   "nbconvert_exporter": "python",
   "pygments_lexer": "ipython3",
   "version": "3.8.13"
  },
  "vscode": {
   "interpreter": {
    "hash": "b5da1a19760c645bef876c945e2def5171d007c0fd3f14585be32e516ddabd56"
   }
  }
 },
 "nbformat": 4,
 "nbformat_minor": 2
}
